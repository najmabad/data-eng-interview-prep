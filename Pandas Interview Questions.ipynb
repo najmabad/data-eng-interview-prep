{
 "cells": [
  {
   "cell_type": "code",
   "execution_count": 16,
   "id": "86e030a3-5141-4edc-bcb2-18b7fea1580f",
   "metadata": {},
   "outputs": [
    {
     "data": {
      "text/html": [
       "<div>\n",
       "<style scoped>\n",
       "    .dataframe tbody tr th:only-of-type {\n",
       "        vertical-align: middle;\n",
       "    }\n",
       "\n",
       "    .dataframe tbody tr th {\n",
       "        vertical-align: top;\n",
       "    }\n",
       "\n",
       "    .dataframe thead th {\n",
       "        text-align: right;\n",
       "    }\n",
       "</style>\n",
       "<table border=\"1\" class=\"dataframe\">\n",
       "  <thead>\n",
       "    <tr style=\"text-align: right;\">\n",
       "      <th></th>\n",
       "      <th>Date</th>\n",
       "      <th>Product</th>\n",
       "      <th>Revenue</th>\n",
       "      <th>Region</th>\n",
       "    </tr>\n",
       "  </thead>\n",
       "  <tbody>\n",
       "    <tr>\n",
       "      <th>0</th>\n",
       "      <td>2024-01-01</td>\n",
       "      <td>Product A</td>\n",
       "      <td>1000</td>\n",
       "      <td>North America</td>\n",
       "    </tr>\n",
       "    <tr>\n",
       "      <th>1</th>\n",
       "      <td>2024-01-02</td>\n",
       "      <td>Product A</td>\n",
       "      <td>1500</td>\n",
       "      <td>Europe</td>\n",
       "    </tr>\n",
       "    <tr>\n",
       "      <th>2</th>\n",
       "      <td>2024-01-03</td>\n",
       "      <td>Product C</td>\n",
       "      <td>800</td>\n",
       "      <td>Asia</td>\n",
       "    </tr>\n",
       "    <tr>\n",
       "      <th>3</th>\n",
       "      <td>2024-01-04</td>\n",
       "      <td>Product A</td>\n",
       "      <td>1200</td>\n",
       "      <td>North America</td>\n",
       "    </tr>\n",
       "    <tr>\n",
       "      <th>4</th>\n",
       "      <td>2024-01-05</td>\n",
       "      <td>Product B</td>\n",
       "      <td>1100</td>\n",
       "      <td>Europe</td>\n",
       "    </tr>\n",
       "    <tr>\n",
       "      <th>5</th>\n",
       "      <td>2024-01-06</td>\n",
       "      <td>Product C</td>\n",
       "      <td>900</td>\n",
       "      <td>Asia</td>\n",
       "    </tr>\n",
       "  </tbody>\n",
       "</table>\n",
       "</div>"
      ],
      "text/plain": [
       "         Date    Product  Revenue         Region\n",
       "0  2024-01-01  Product A     1000  North America\n",
       "1  2024-01-02  Product A     1500         Europe\n",
       "2  2024-01-03  Product C      800           Asia\n",
       "3  2024-01-04  Product A     1200  North America\n",
       "4  2024-01-05  Product B     1100         Europe\n",
       "5  2024-01-06  Product C      900           Asia"
      ]
     },
     "execution_count": 16,
     "metadata": {},
     "output_type": "execute_result"
    }
   ],
   "source": [
    "import pandas as pd\n",
    "\n",
    "# Create the dataset\n",
    "data = {\n",
    "    \"Date\": [\n",
    "        \"2024-01-01\", \"2024-01-02\", \"2024-01-03\", \n",
    "        \"2024-01-04\", \"2024-01-05\", \"2024-01-06\"\n",
    "    ],\n",
    "    \"Product\": [\n",
    "        \"Product A\", \"Product A\", \"Product C\", \n",
    "        \"Product A\", \"Product B\", \"Product C\"\n",
    "    ],\n",
    "    \"Revenue\": [\n",
    "        1000, 1500, 800, 1200, 1100, 900\n",
    "    ],\n",
    "    \"Region\": [\n",
    "        \"North America\", \"Europe\", \"Asia\", \n",
    "        \"North America\", \"Europe\", \"Asia\"\n",
    "    ]\n",
    "}\n",
    "\n",
    "# Create DataFrame\n",
    "df = pd.DataFrame(data)\n",
    "\n",
    "# Display the DataFrame\n",
    "df"
   ]
  },
  {
   "cell_type": "markdown",
   "id": "07f30b36-3762-4825-be5a-08669950b7a9",
   "metadata": {},
   "source": [
    "1. Write a Python function to filter the data to include only records from a specified region and date range. The function should return a DataFrame containing the filtered data.\n"
   ]
  },
  {
   "cell_type": "code",
   "execution_count": 17,
   "id": "ac0d6b5f-dfa4-443f-8d36-c4b5ba00442f",
   "metadata": {},
   "outputs": [],
   "source": [
    "def filter_by_region_and_date(df: pd.DataFrame, region: str, date_start: str = \"2024-01-01\",\n",
    "                              date_end: str = \"2024-12-31\") -> pd.DataFrame:\n",
    "    df = df[(df[\"Region\"] == region) & (df[\"Date\"] >= date_start) & (df[\"Date\"] <= date_end)]\n",
    "\n",
    "    return df"
   ]
  },
  {
   "cell_type": "code",
   "execution_count": 18,
   "id": "5af0ece0-da86-4bf7-a9c9-a5197a8ab707",
   "metadata": {},
   "outputs": [
    {
     "data": {
      "text/html": [
       "<div>\n",
       "<style scoped>\n",
       "    .dataframe tbody tr th:only-of-type {\n",
       "        vertical-align: middle;\n",
       "    }\n",
       "\n",
       "    .dataframe tbody tr th {\n",
       "        vertical-align: top;\n",
       "    }\n",
       "\n",
       "    .dataframe thead th {\n",
       "        text-align: right;\n",
       "    }\n",
       "</style>\n",
       "<table border=\"1\" class=\"dataframe\">\n",
       "  <thead>\n",
       "    <tr style=\"text-align: right;\">\n",
       "      <th></th>\n",
       "      <th>Date</th>\n",
       "      <th>Product</th>\n",
       "      <th>Revenue</th>\n",
       "      <th>Region</th>\n",
       "    </tr>\n",
       "  </thead>\n",
       "  <tbody>\n",
       "    <tr>\n",
       "      <th>4</th>\n",
       "      <td>2024-01-05</td>\n",
       "      <td>Product B</td>\n",
       "      <td>1100</td>\n",
       "      <td>Europe</td>\n",
       "    </tr>\n",
       "  </tbody>\n",
       "</table>\n",
       "</div>"
      ],
      "text/plain": [
       "         Date    Product  Revenue  Region\n",
       "4  2024-01-05  Product B     1100  Europe"
      ]
     },
     "execution_count": 18,
     "metadata": {},
     "output_type": "execute_result"
    }
   ],
   "source": [
    "filter_by_region_and_date(df, region=\"Europe\", date_start=\"2024-01-05\")"
   ]
  },
  {
   "cell_type": "markdown",
   "id": "20116ca0-2543-427b-ad23-f234ed3f9e82",
   "metadata": {},
   "source": [
    "Modify your function to calculate the total revenue for each Product within the filtered data."
   ]
  },
  {
   "cell_type": "code",
   "execution_count": 34,
   "id": "f8057c7d-73cb-4ae4-b2e4-72f02d22f0b6",
   "metadata": {},
   "outputs": [],
   "source": [
    "def filter_by_region_and_date_and_compute_product_revenue(df: pd.DataFrame, region: str, date_start: str = \"2024-01-01\",\n",
    "                              date_end: str = \"2024-12-31\") -> pd.DataFrame:\n",
    "    df = df[(df[\"Region\"] == region) & (df[\"Date\"] >= date_start) & (df[\"Date\"] <= date_end)]\n",
    "\n",
    "    total_revenue = df.groupby(\"Product\")[\"Revenue\"].sum().reset_index()\n",
    "\n",
    "    return pd.DataFrame(total_revenue)"
   ]
  },
  {
   "cell_type": "code",
   "execution_count": 35,
   "id": "d89e5bb8-8aa5-458d-8aab-ba80e7e57137",
   "metadata": {},
   "outputs": [
    {
     "data": {
      "text/html": [
       "<div>\n",
       "<style scoped>\n",
       "    .dataframe tbody tr th:only-of-type {\n",
       "        vertical-align: middle;\n",
       "    }\n",
       "\n",
       "    .dataframe tbody tr th {\n",
       "        vertical-align: top;\n",
       "    }\n",
       "\n",
       "    .dataframe thead th {\n",
       "        text-align: right;\n",
       "    }\n",
       "</style>\n",
       "<table border=\"1\" class=\"dataframe\">\n",
       "  <thead>\n",
       "    <tr style=\"text-align: right;\">\n",
       "      <th></th>\n",
       "      <th>Product</th>\n",
       "      <th>Revenue</th>\n",
       "    </tr>\n",
       "  </thead>\n",
       "  <tbody>\n",
       "    <tr>\n",
       "      <th>0</th>\n",
       "      <td>Product A</td>\n",
       "      <td>1500</td>\n",
       "    </tr>\n",
       "    <tr>\n",
       "      <th>1</th>\n",
       "      <td>Product B</td>\n",
       "      <td>1100</td>\n",
       "    </tr>\n",
       "  </tbody>\n",
       "</table>\n",
       "</div>"
      ],
      "text/plain": [
       "     Product  Revenue\n",
       "0  Product A     1500\n",
       "1  Product B     1100"
      ]
     },
     "execution_count": 35,
     "metadata": {},
     "output_type": "execute_result"
    }
   ],
   "source": [
    "filter_by_region_and_date_and_compute_product_revenue(df, region=\"Europe\")"
   ]
  },
  {
   "cell_type": "code",
   "execution_count": null,
   "id": "58debbe1-6417-45dd-933c-ffff16a87917",
   "metadata": {},
   "outputs": [],
   "source": []
  },
  {
   "cell_type": "code",
   "execution_count": null,
   "id": "81c834bf-d231-4014-81b6-e4d6b41e61b6",
   "metadata": {},
   "outputs": [],
   "source": []
  },
  {
   "cell_type": "code",
   "execution_count": null,
   "id": "f9d6cf08-6fa1-4c60-9c2c-87caec4b520c",
   "metadata": {},
   "outputs": [],
   "source": []
  },
  {
   "cell_type": "code",
   "execution_count": null,
   "id": "87c67a0d-b0b8-4c56-b8e6-539119c08a7d",
   "metadata": {},
   "outputs": [],
   "source": []
  },
  {
   "cell_type": "code",
   "execution_count": null,
   "id": "a89dab05-eb36-488f-96c7-0c619ce80f85",
   "metadata": {},
   "outputs": [],
   "source": []
  }
 ],
 "metadata": {
  "kernelspec": {
   "display_name": "Python 3 (ipykernel)",
   "language": "python",
   "name": "python3"
  },
  "language_info": {
   "codemirror_mode": {
    "name": "ipython",
    "version": 3
   },
   "file_extension": ".py",
   "mimetype": "text/x-python",
   "name": "python",
   "nbconvert_exporter": "python",
   "pygments_lexer": "ipython3",
   "version": "3.11.9"
  }
 },
 "nbformat": 4,
 "nbformat_minor": 5
}
