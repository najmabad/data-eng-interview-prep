{
 "cells": [
  {
   "cell_type": "markdown",
   "id": "9a17bb45-6ad4-4ba0-9d14-2fa92650b33c",
   "metadata": {},
   "source": [
    "# Theory Questions"
   ]
  },
  {
   "cell_type": "markdown",
   "id": "f952fb60-4baa-4f04-bb02-e0741252291f",
   "metadata": {},
   "source": [
    "## What is the difference between a list and a tuple?"
   ]
  },
  {
   "cell_type": "markdown",
   "id": "23c818ba-b3d3-46e3-8a3b-76fe04c9cd50",
   "metadata": {},
   "source": [
    "Main differences:\n",
    "- **mutability**: lists are mutable while tuples are not. Something is mutable if you can change its content (i.e. add, remove, modify elements)"
   ]
  },
  {
   "cell_type": "markdown",
   "id": "e3b96a69-b99a-4c7d-995b-cb08fbb491b7",
   "metadata": {},
   "source": [
    "Explanation:"
   ]
  },
  {
   "cell_type": "code",
   "execution_count": 38,
   "id": "8ed55a2e-7809-4a17-aa13-30e3ff4666c2",
   "metadata": {},
   "outputs": [
    {
     "name": "stdout",
     "output_type": "stream",
     "text": [
      "original list:\n",
      "[1, 2, 3]\n",
      "\n",
      "modify first element:\n",
      "[4, 2, 3]\n",
      "\n",
      "remove first element:\n",
      "[2, 3]\n",
      "\n",
      "add new element:\n",
      "[2, 3, 4]\n"
     ]
    }
   ],
   "source": [
    "my_list = [1, 2, 3]\n",
    "print(\"original list:\")\n",
    "print(my_list)\n",
    "\n",
    "# modify content\n",
    "my_list[0] = 4\n",
    "print(\"\\nmodify first element:\")\n",
    "print(my_list)\n",
    "\n",
    "# remove content\n",
    "my_list.pop(0)\n",
    "print(\"\\nremove first element:\")\n",
    "print(my_list)\n",
    "\n",
    "# add content\n",
    "my_list.append(4)\n",
    "print(\"\\nadd new element:\")\n",
    "print(my_list)"
   ]
  },
  {
   "cell_type": "code",
   "execution_count": 40,
   "id": "c5aa5d71-12a8-430d-8205-dc82498fdab7",
   "metadata": {},
   "outputs": [
    {
     "name": "stdout",
     "output_type": "stream",
     "text": [
      "original tuple:\n",
      "(1, 2, 3)\n",
      "\n",
      "modify first element:\n",
      "'tuple' object does not support item assignment\n",
      "\n",
      "remove first element:\n",
      "'tuple' object has no attribute 'pop'\n",
      "In order to remove an element, you need to use list comprehension:\n",
      "\"new_tuple = tuple([x for x in my_tuple if x < 3])\" =  (1, 2)\n",
      "\n",
      "add new element:\n",
      "'tuple' object has no attribute 'append'\n",
      "In order to add an element, you need to create a new tuple:\n",
      "\"my_tuple + (4,)\" =  (1, 2, 3, 4) \n",
      "\n",
      "\n"
     ]
    }
   ],
   "source": [
    "my_tuple = (1, 2, 3)\n",
    "print(\"original tuple:\")\n",
    "print(my_tuple)\n",
    "\n",
    "# modify content\n",
    "try:\n",
    "    print(\"\\nmodify first element:\")\n",
    "    my_tuple[0] = 4\n",
    "    print(my_tuple)\n",
    "except Exception as e:\n",
    "    print(e)\n",
    "\n",
    "# remove content\n",
    "try:\n",
    "    print(\"\\nremove first element:\")\n",
    "    my_tuple.pop(0) \n",
    "    print(my_tuple)\n",
    "except Exception as e:\n",
    "    print(e)\n",
    "    print(\"In order to remove an element, you need to use list comprehension:\")\n",
    "    new_tuple = tuple([x for x in my_tuple if x < 3])\n",
    "    print('\"new_tuple = tuple([x for x in my_tuple if x < 3])\" = ',new_tuple)\n",
    "\n",
    "\n",
    "# add content\n",
    "try:\n",
    "    print(\"\\nadd new element:\")\n",
    "    my_tuple.append(4) \n",
    "    print(my_tuple)\n",
    "except Exception as e:\n",
    "    print(e)\n",
    "    print(\"In order to add an element, you need to create a new tuple:\")\n",
    "    print('\"my_tuple + (4,)\" = ', my_tuple + (4,), \"\\n\\n\")"
   ]
  },
  {
   "cell_type": "markdown",
   "id": "5c04d089-2bab-4876-ac55-d9214ba7315a",
   "metadata": {},
   "source": [
    "\n",
    "\n",
    "Other differences:\n",
    "- **syntax**: lists use square brackets, while tuples use parenthesis\n",
    "- **performance**: tuples are faster than lists due to their immutability. Python interpreter can optimise their memory usage and access speed as it knows that the content will never change.\n",
    "- **use cases**: lists are used when your collection might change, tuples are used when data integrity is important or you need a hashable collection.\n",
    "\n",
    "\n",
    "A hashable object is an object that has a constant hash value (i.e. an integer) over its lifetime. \n",
    "Since a tuple cannot change, its hash will always be the same. \n",
    "There are some data structure, e.g. dictionaries or sets that use hashable collections to quickly look up or compare objects.\n",
    "\n",
    "Hashable:\n",
    "- tuple\n",
    "- string\n",
    "- int\n",
    "\n",
    "Non-hashable:\n",
    "- list\n",
    "- dictionary\n",
    "- set\n",
    "\n",
    "## Why dict keys need to be hashable? \n",
    "Dict are key-value pairs `{key: value}`. To find the value of a given key, Python computes the hash of the key and based on this value it determines where the value is stored in memory.\n",
    "\n",
    "## Why sets need to contain hashable elements?\n",
    "A set contains only unique elements. This is achieved through hash values. Given a new element, Python computes the hash and if the hash already exists, it knows that the element is already in the set."
   ]
  },
  {
   "cell_type": "markdown",
   "id": "dd475b6b-ad92-48aa-81f2-84bd7b8f4f98",
   "metadata": {},
   "source": [
    "# Exercises"
   ]
  },
  {
   "cell_type": "markdown",
   "id": "30902de8-5156-4d9b-981f-c6fd7b371261",
   "metadata": {},
   "source": [
    "## Reverse the string 'python'"
   ]
  },
  {
   "cell_type": "code",
   "execution_count": 42,
   "id": "d44c58e4-9810-47f6-8e7e-59d3aa59f75c",
   "metadata": {},
   "outputs": [],
   "source": [
    "s = 'python'"
   ]
  },
  {
   "cell_type": "markdown",
   "id": "ae88d76a-1a9a-4ff1-a9ee-14b3dd0a7419",
   "metadata": {},
   "source": [
    "### Solution 1: Use slicing"
   ]
  },
  {
   "cell_type": "code",
   "execution_count": 71,
   "id": "3f1b81a5-4ef4-4d11-8d17-82d56a0517b6",
   "metadata": {},
   "outputs": [
    {
     "data": {
      "text/plain": [
       "'nohtyp'"
      ]
     },
     "execution_count": 71,
     "metadata": {},
     "output_type": "execute_result"
    }
   ],
   "source": [
    "s[::-1]"
   ]
  },
  {
   "cell_type": "markdown",
   "id": "8969e408-8f4b-4d08-ac26-e4d18d2eff72",
   "metadata": {},
   "source": [
    "### Solution 2: Use the reversed function"
   ]
  },
  {
   "cell_type": "code",
   "execution_count": 75,
   "id": "116ee0de-4b14-4e06-a15f-34e5ae64be7c",
   "metadata": {},
   "outputs": [
    {
     "data": {
      "text/plain": [
       "<reversed at 0x10f797550>"
      ]
     },
     "execution_count": 75,
     "metadata": {},
     "output_type": "execute_result"
    }
   ],
   "source": [
    "reversed(s)"
   ]
  },
  {
   "cell_type": "code",
   "execution_count": 76,
   "id": "d24d91a4-6b35-4d73-9093-eaf8338973e2",
   "metadata": {},
   "outputs": [
    {
     "data": {
      "text/plain": [
       "['n', 'o', 'h', 't', 'y', 'p']"
      ]
     },
     "execution_count": 76,
     "metadata": {},
     "output_type": "execute_result"
    }
   ],
   "source": [
    "[i for i in reversed(s)]"
   ]
  },
  {
   "cell_type": "code",
   "execution_count": 77,
   "id": "925729dc-650d-4149-91bf-12af59bf92a7",
   "metadata": {},
   "outputs": [
    {
     "data": {
      "text/plain": [
       "'nohtyp'"
      ]
     },
     "execution_count": 77,
     "metadata": {},
     "output_type": "execute_result"
    }
   ],
   "source": [
    "\"\".join([i for i in reversed(s)])"
   ]
  },
  {
   "cell_type": "markdown",
   "id": "5f431930-1fca-4fc6-8255-92851a521f5d",
   "metadata": {},
   "source": [
    "### Solution 3: Use a loop"
   ]
  },
  {
   "cell_type": "code",
   "execution_count": 80,
   "id": "763c14f4-0cba-48dc-ad48-4203e971ba5d",
   "metadata": {},
   "outputs": [
    {
     "name": "stdout",
     "output_type": "stream",
     "text": [
      "nohtyp\n"
     ]
    }
   ],
   "source": [
    "reversed_string = \"\"\n",
    "\n",
    "for char in s:\n",
    "    reversed_string = char + reversed_string\n",
    "    # p\n",
    "    # y + p --> yp\n",
    "    # ...\n",
    "    # n + ohtyp\n",
    "\n",
    "print(reversed_string)"
   ]
  },
  {
   "cell_type": "markdown",
   "id": "1d3ae55c-fe15-4bb0-9a23-6ebef6272430",
   "metadata": {},
   "source": [
    "### Solution 4: Use a less elegant loop"
   ]
  },
  {
   "cell_type": "code",
   "execution_count": 81,
   "id": "b49f3662-cefd-4d3b-ab5d-d39c1e5e12b7",
   "metadata": {},
   "outputs": [
    {
     "data": {
      "text/plain": [
       "'nohtyp'"
      ]
     },
     "execution_count": 81,
     "metadata": {},
     "output_type": "execute_result"
    }
   ],
   "source": [
    "new_letters = []\n",
    "for i in range(1, len(s) + 1):\n",
    "    new_letters.append(s[-i])\n",
    "\n",
    "reversed_string = \"\".join(new_letters)\n",
    "reversed_string"
   ]
  },
  {
   "cell_type": "markdown",
   "id": "d96cfec9-3974-4be9-8ffe-15937b893ffc",
   "metadata": {},
   "source": [
    "## 📚 Knowledge Tip"
   ]
  },
  {
   "cell_type": "markdown",
   "id": "ecc409c6-7851-4e2e-86c0-036491884948",
   "metadata": {},
   "source": [
    "### Sequences\n",
    "The following objects are sequences:\n",
    "- strings\n",
    "- lists\n",
    "- tuples\n",
    "\n",
    "This mean we can:\n",
    "- iterate over them\n",
    "- retrieve their elements by numeric index\n",
    "- use the `in` operator\n",
    "- apply slicing \n"
   ]
  },
  {
   "cell_type": "markdown",
   "id": "2d2f94eb-7970-4998-b5ff-df97a3676e00",
   "metadata": {},
   "source": [
    "### Slices\n",
    "All sequences in Python support slicing. \n",
    "Slicing has the following syntax:\n",
    "```a[start:stop:step]```\n",
    "\n",
    "- stop is excluded\n",
    "- step in by default None"
   ]
  },
  {
   "cell_type": "code",
   "execution_count": 61,
   "id": "057bd43b-f2f2-44ef-8c8a-bea770d61b6d",
   "metadata": {},
   "outputs": [
    {
     "data": {
      "text/plain": [
       "'python'"
      ]
     },
     "execution_count": 61,
     "metadata": {},
     "output_type": "execute_result"
    }
   ],
   "source": [
    "# start from zero\n",
    "s[0:]"
   ]
  },
  {
   "cell_type": "code",
   "execution_count": 63,
   "id": "f7a0ab51-1ede-4577-b2c6-febee4a2afaa",
   "metadata": {},
   "outputs": [
    {
     "data": {
      "text/plain": [
       "'python'"
      ]
     },
     "execution_count": 63,
     "metadata": {},
     "output_type": "execute_result"
    }
   ],
   "source": [
    "s[0::]"
   ]
  },
  {
   "cell_type": "code",
   "execution_count": 62,
   "id": "86d3ed9f-9a24-44d0-9943-8f6ac5292e23",
   "metadata": {},
   "outputs": [
    {
     "data": {
      "text/plain": [
       "'ython'"
      ]
     },
     "execution_count": 62,
     "metadata": {},
     "output_type": "execute_result"
    }
   ],
   "source": [
    "# start from one\n",
    "s[1:]"
   ]
  },
  {
   "cell_type": "code",
   "execution_count": 64,
   "id": "5fbf314e-2117-463e-a06e-001d88ad4dc6",
   "metadata": {},
   "outputs": [
    {
     "data": {
      "text/plain": [
       "'y'"
      ]
     },
     "execution_count": 64,
     "metadata": {},
     "output_type": "execute_result"
    }
   ],
   "source": [
    "# start from 1, stop at 2 (excluded)\n",
    "s[1:2]"
   ]
  },
  {
   "cell_type": "code",
   "execution_count": 67,
   "id": "258e97ea-eee1-408e-9965-bceefdea79a2",
   "metadata": {},
   "outputs": [
    {
     "data": {
      "text/plain": [
       "'yh'"
      ]
     },
     "execution_count": 67,
     "metadata": {},
     "output_type": "execute_result"
    }
   ],
   "source": [
    "# start from 1, stop at 5, take every two character\n",
    "s[1:5:2]"
   ]
  },
  {
   "cell_type": "markdown",
   "id": "015b12bf-cf83-4446-b358-f68fb63a6a95",
   "metadata": {},
   "source": [
    "## List Comprehensions"
   ]
  },
  {
   "cell_type": "markdown",
   "id": "8d5d3d83-a3e0-44db-a6ff-cba235ed193b",
   "metadata": {},
   "source": [
    "### Exercise 1: Find Squares\n",
    "Given a list of numbers nums = [1, 2, 3, 4, 5], create a new list that contains the squares of each number."
   ]
  },
  {
   "cell_type": "code",
   "execution_count": 118,
   "id": "4f5731de-7a68-436b-8146-5d96ede68403",
   "metadata": {},
   "outputs": [],
   "source": [
    "numbers = [1, 2, 3, 4, 5]"
   ]
  },
  {
   "cell_type": "markdown",
   "id": "deac6851-799d-4936-8481-5cf382887da8",
   "metadata": {
    "jp-MarkdownHeadingCollapsed": true
   },
   "source": [
    "#### Solution"
   ]
  },
  {
   "cell_type": "code",
   "execution_count": 119,
   "id": "84d2a95c-a700-4d06-b6ff-c0a4b01f1550",
   "metadata": {},
   "outputs": [
    {
     "data": {
      "text/plain": [
       "[1, 4, 9, 16, 25]"
      ]
     },
     "execution_count": 119,
     "metadata": {},
     "output_type": "execute_result"
    }
   ],
   "source": [
    "squared_numbers = [n * n for n in numbers]\n",
    "squared_numbers"
   ]
  },
  {
   "cell_type": "markdown",
   "id": "05e95e40-ba26-4541-a702-c4da8625c49e",
   "metadata": {},
   "source": [
    "### Exercise 2: Filter Even Numbers\n",
    "Given a list of numbers nums = [10, 15, 20, 25, 30], use a list comprehension to create a new list that contains only the even numbers."
   ]
  },
  {
   "cell_type": "code",
   "execution_count": 120,
   "id": "829ca45d-0274-4e8d-a4d9-00b60399abf6",
   "metadata": {},
   "outputs": [],
   "source": [
    "numbers = [10, 15, 20, 25, 30]"
   ]
  },
  {
   "cell_type": "markdown",
   "id": "cabed9ed-39d8-49c5-9391-790c1dad876b",
   "metadata": {},
   "source": [
    "#### Solution"
   ]
  },
  {
   "cell_type": "code",
   "execution_count": null,
   "id": "9c3ed8d8-d7f0-45d0-83fb-e2bd845a2acf",
   "metadata": {},
   "outputs": [],
   "source": [
    "even_numbers = [n for n in numbers if n % 2 == 0]\n",
    "even_numbers"
   ]
  },
  {
   "cell_type": "markdown",
   "id": "72703e0d-ca1e-4207-95e2-307338def7af",
   "metadata": {},
   "source": [
    "### Exercise 3: Reverse Strings\n",
    "Given a list of strings words = [\"apple\", \"banana\", \"cherry\"], use a list comprehension to create a new list with each string reversed."
   ]
  },
  {
   "cell_type": "code",
   "execution_count": 122,
   "id": "25134631-fc4a-4c0a-b8fe-fcc14152eda7",
   "metadata": {},
   "outputs": [],
   "source": [
    "words = [\"apple\", \"banana\", \"cherry\"]"
   ]
  },
  {
   "cell_type": "markdown",
   "id": "acb892ad-109a-48f3-9b68-7513dd3fade1",
   "metadata": {},
   "source": [
    "#### Solution"
   ]
  },
  {
   "cell_type": "code",
   "execution_count": 123,
   "id": "91d4e254-0446-4779-a768-56ae85ad82fe",
   "metadata": {},
   "outputs": [
    {
     "data": {
      "text/plain": [
       "['elppa', 'ananab', 'yrrehc']"
      ]
     },
     "execution_count": 123,
     "metadata": {},
     "output_type": "execute_result"
    }
   ],
   "source": [
    "reversed_words = [w[::-1] for w in words]\n",
    "reversed_words"
   ]
  },
  {
   "cell_type": "markdown",
   "id": "517e9f5c-4a81-4084-a394-1c83d5f6c5cf",
   "metadata": {},
   "source": [
    "### Exercise 4: Flatten Matrix\n",
    "Given a list of lists matrix = [[1, 2], [3, 4], [5, 6]], use a list comprehension to flatten it into a single list."
   ]
  },
  {
   "cell_type": "code",
   "execution_count": 124,
   "id": "e5d00ab8-fd05-4237-9b94-4051b732a1e5",
   "metadata": {},
   "outputs": [],
   "source": [
    "matrix = [[1, 2], [3, 4], [5, 6]]"
   ]
  },
  {
   "cell_type": "markdown",
   "id": "f724bad8-3ec2-4e89-b123-4ce47bca8374",
   "metadata": {},
   "source": [
    "#### Solution"
   ]
  },
  {
   "cell_type": "code",
   "execution_count": 125,
   "id": "f67a66b0-4d24-4f4f-b791-616dcb8640f8",
   "metadata": {},
   "outputs": [
    {
     "data": {
      "text/plain": [
       "[1, 2, 3, 4, 5, 6]"
      ]
     },
     "execution_count": 125,
     "metadata": {},
     "output_type": "execute_result"
    }
   ],
   "source": [
    "flatten_matrix = [e for l in matrix for e in l]\n",
    "flatten_matrix"
   ]
  },
  {
   "cell_type": "code",
   "execution_count": 126,
   "id": "6a7f1f48-22b4-4d17-8574-fd63d847f411",
   "metadata": {},
   "outputs": [
    {
     "data": {
      "text/plain": [
       "[1, 2, 3, 4, 5, 6]"
      ]
     },
     "execution_count": 126,
     "metadata": {},
     "output_type": "execute_result"
    }
   ],
   "source": [
    "new_list = []\n",
    "for l in matrix:\n",
    "    for e in l:\n",
    "        new_list.append(e)\n",
    "\n",
    "new_list"
   ]
  },
  {
   "cell_type": "markdown",
   "id": "b0dda5a5-452a-4d8e-87a9-68101ff1cb37",
   "metadata": {},
   "source": [
    "### Exercise 5: Create a Dictionary with Lengths\n",
    "Given a list of strings words = [\"dog\", \"elephant\", \"cat\"], use a dictionary comprehension (similar to a list comprehension) to create a dictionary where the keys are the strings and the values are their lengths."
   ]
  },
  {
   "cell_type": "code",
   "execution_count": 127,
   "id": "ecf1c1ae-72ae-4306-93cb-28a3553feded",
   "metadata": {},
   "outputs": [],
   "source": [
    "words = [\"dog\", \"elephant\", \"cat\"]"
   ]
  },
  {
   "cell_type": "markdown",
   "id": "07e9fc1f-d625-4be8-9f1e-e04e09448477",
   "metadata": {},
   "source": [
    "#### Solution"
   ]
  },
  {
   "cell_type": "code",
   "execution_count": 131,
   "id": "989f8657-5444-452e-a8c5-3978147507f6",
   "metadata": {},
   "outputs": [
    {
     "data": {
      "text/plain": [
       "{'dog': 3, 'elephant': 8, 'cat': 3}"
      ]
     },
     "execution_count": 131,
     "metadata": {},
     "output_type": "execute_result"
    }
   ],
   "source": [
    "words_dict = {w: len(w) for w in words}\n",
    "words_dict"
   ]
  },
  {
   "cell_type": "markdown",
   "id": "3daba127-99f0-441a-974c-56c5108adabd",
   "metadata": {},
   "source": [
    "### Challenge Task: Filter and Transform\n",
    "Given a list of numbers nums = [1, -2, 3, -4, 5], use a list comprehension to create a new list that contains the absolute values of only the positive numbers."
   ]
  },
  {
   "cell_type": "code",
   "execution_count": 133,
   "id": "3ba3856b-be5e-4d33-a0d4-4f452133329a",
   "metadata": {},
   "outputs": [],
   "source": [
    "nums = [1, -2, 3, -4, 5]"
   ]
  },
  {
   "cell_type": "markdown",
   "id": "68cab661-b75f-4402-827b-561cb7283402",
   "metadata": {},
   "source": [
    "#### Solution"
   ]
  },
  {
   "cell_type": "code",
   "execution_count": 136,
   "id": "0749d1e3-ab6e-4ded-8cfd-758ce7b12e6a",
   "metadata": {},
   "outputs": [
    {
     "data": {
      "text/plain": [
       "[1, 3, 5]"
      ]
     },
     "execution_count": 136,
     "metadata": {},
     "output_type": "execute_result"
    }
   ],
   "source": [
    "abs_values = [abs(n) for n in nums if n > 0]\n",
    "abs_values"
   ]
  },
  {
   "cell_type": "markdown",
   "id": "ac1e8bb3-64ed-418d-bb86-90c8c9f54bee",
   "metadata": {},
   "source": [
    "## Dictionary Merging"
   ]
  },
  {
   "cell_type": "code",
   "execution_count": 160,
   "id": "3cd87081-a094-46f1-ad39-b9f7643b0b17",
   "metadata": {},
   "outputs": [],
   "source": [
    "# You are given two dictionaries:\n",
    "\n",
    "dict1 = {\"a\": 1, \"b\": 2, \"c\": 3}\n",
    "dict2 = {\"b\": 4, \"d\": 5}\n"
   ]
  },
  {
   "cell_type": "markdown",
   "id": "c7f906a3-5b90-4472-8b37-f049b0dd490b",
   "metadata": {},
   "source": [
    "### Exercise 1\n",
    "\n",
    "Write Python code to merge dict1 and dict2 into a single dictionary using any one method you know. If there are overlapping keys, use the values from dict2."
   ]
  },
  {
   "cell_type": "markdown",
   "id": "4ed3bfd0-2063-489c-aa3e-526e08ece5c3",
   "metadata": {},
   "source": [
    "#### Solution 1"
   ]
  },
  {
   "cell_type": "code",
   "execution_count": 150,
   "id": "9a58d06a-6952-45ce-bbea-30bade6b29f0",
   "metadata": {},
   "outputs": [
    {
     "data": {
      "text/plain": [
       "{'a': 1, 'b': 4, 'c': 3, 'd': 5}"
      ]
     },
     "execution_count": 150,
     "metadata": {},
     "output_type": "execute_result"
    }
   ],
   "source": [
    "# use dictionary unpacking feature introduced in Python 3.5.\n",
    "{**dict1, **dict2}\n",
    "\n",
    "# note: b has value 4 as it is the latter to appear!"
   ]
  },
  {
   "cell_type": "markdown",
   "id": "b1648532-dcbc-4d18-8fbd-f3f559ea1fd7",
   "metadata": {},
   "source": [
    "#### Solution 2"
   ]
  },
  {
   "cell_type": "code",
   "execution_count": 154,
   "id": "bcd68355-e30d-4b52-9c00-1a3fc255d330",
   "metadata": {},
   "outputs": [
    {
     "data": {
      "text/plain": [
       "{'a': 1, 'b': 4, 'c': 3, 'd': 5}"
      ]
     },
     "execution_count": 154,
     "metadata": {},
     "output_type": "execute_result"
    }
   ],
   "source": [
    "# merge the two dictionaries using the Python 3.9+ merge operator (|).\n",
    "dict1 | dict2"
   ]
  },
  {
   "cell_type": "markdown",
   "id": "8dedb983-296e-440c-a58e-25868e9b9301",
   "metadata": {},
   "source": [
    "#### Solution 3"
   ]
  },
  {
   "cell_type": "code",
   "execution_count": 161,
   "id": "58a10e60-43ad-4e84-a940-63f351d3f648",
   "metadata": {},
   "outputs": [
    {
     "name": "stdout",
     "output_type": "stream",
     "text": [
      "{'a': 1, 'b': 4, 'c': 3, 'd': 5}\n"
     ]
    }
   ],
   "source": [
    "# use update (below Python 3.5)\n",
    "merged_dict = dict1.copy()\n",
    "merged_dict.update(dict2)\n",
    "print(merged_dict)"
   ]
  },
  {
   "cell_type": "markdown",
   "id": "22c01f83-324d-41d7-8d33-93f88ef8b292",
   "metadata": {},
   "source": [
    "#### Solution 4"
   ]
  },
  {
   "cell_type": "code",
   "execution_count": 168,
   "id": "c9223585-3900-4e61-8e33-97414040979c",
   "metadata": {},
   "outputs": [
    {
     "data": {
      "text/plain": [
       "{'a': 1, 'b': 4, 'c': 3, 'd': 5}"
      ]
     },
     "execution_count": 168,
     "metadata": {},
     "output_type": "execute_result"
    }
   ],
   "source": [
    "# merge the dictionaries using a dictionary comprehension\n",
    "{k: v for d in (dict1, dict2) for k, v in d.items()}"
   ]
  },
  {
   "cell_type": "code",
   "execution_count": 169,
   "id": "31bf6996-0690-4700-865d-a1d2476bbba6",
   "metadata": {},
   "outputs": [
    {
     "data": {
      "text/plain": [
       "({'a': 1, 'b': 2, 'c': 3}, {'b': 4, 'd': 5})"
      ]
     },
     "execution_count": 169,
     "metadata": {},
     "output_type": "execute_result"
    }
   ],
   "source": [
    "(dict1, dict2)"
   ]
  },
  {
   "cell_type": "markdown",
   "id": "df73d0c3-d79d-4fb7-bade-d4a73d1c46a3",
   "metadata": {},
   "source": [
    "#### Solution 5"
   ]
  },
  {
   "cell_type": "code",
   "execution_count": 172,
   "id": "d6820e8a-85e2-4869-87e7-6b301b2a99c5",
   "metadata": {},
   "outputs": [
    {
     "data": {
      "text/plain": [
       "{'a': 1, 'b': 4, 'c': 3, 'd': 5}"
      ]
     },
     "execution_count": 172,
     "metadata": {},
     "output_type": "execute_result"
    }
   ],
   "source": [
    "merged_dict = {}\n",
    "\n",
    "for key, value in dict1.items():\n",
    "        merged_dict[key] = value\n",
    "\n",
    "for key, value in dict2.items():\n",
    "        merged_dict[key] = value\n",
    "\n",
    "merged_dict"
   ]
  },
  {
   "cell_type": "markdown",
   "id": "519ae3e3-c508-418c-86d4-e89784335cd9",
   "metadata": {},
   "source": [
    "## Lambda Fuctions"
   ]
  },
  {
   "cell_type": "markdown",
   "id": "07a4cd8e-90ce-4be6-a753-3e176b13b7cd",
   "metadata": {},
   "source": [
    "Lambda functons create small, anonymous functions that are typically used for short-term operations.\n",
    "They don't need to have a name and they are concise.\n",
    "They are typically used for:\n",
    "- `filter()`\n",
    "- `map()`\n",
    "- `sorted()`"
   ]
  },
  {
   "cell_type": "markdown",
   "id": "b2bde8e1-14a8-4b6e-bce2-341feff184fb",
   "metadata": {},
   "source": [
    "### Exercise 1\n",
    "Write a lambda function that takes two arguments x and y and returns their product. Then, call the lambda function with the values 4 and 5 and print the result."
   ]
  },
  {
   "cell_type": "markdown",
   "id": "4dbfde9b-7101-4a10-8da8-169473495204",
   "metadata": {},
   "source": [
    "#### Solution"
   ]
  },
  {
   "cell_type": "code",
   "execution_count": 174,
   "id": "39089553-d7f0-4dae-95a9-1be4dbcddfbb",
   "metadata": {},
   "outputs": [],
   "source": [
    "p = lambda x, y: x * y"
   ]
  },
  {
   "cell_type": "code",
   "execution_count": 175,
   "id": "ec4a5744-de05-4329-ae63-22e8845e02ed",
   "metadata": {},
   "outputs": [
    {
     "data": {
      "text/plain": [
       "20"
      ]
     },
     "execution_count": 175,
     "metadata": {},
     "output_type": "execute_result"
    }
   ],
   "source": [
    "p(4, 5)"
   ]
  },
  {
   "cell_type": "markdown",
   "id": "a34c8386-a39d-49bf-8597-30ffa9b89390",
   "metadata": {},
   "source": [
    "### Exercise 2\n",
    "Given a list of numbers numbers = [1, 2, 3, 4, 5]. Create a new list containing the squares of these numbers."
   ]
  },
  {
   "cell_type": "code",
   "execution_count": 176,
   "id": "0be7575c-52cc-4307-8405-e052c49e1374",
   "metadata": {},
   "outputs": [],
   "source": [
    "numbers = [1, 2, 3, 4, 5]"
   ]
  },
  {
   "cell_type": "markdown",
   "id": "2a20f743-d8e0-4b62-8d44-e946f0b0ec5c",
   "metadata": {},
   "source": [
    "#### Solution"
   ]
  },
  {
   "cell_type": "code",
   "execution_count": 186,
   "id": "b0c5390e-68bf-40f0-9fac-11bba09435c4",
   "metadata": {},
   "outputs": [
    {
     "data": {
      "text/plain": [
       "[1, 4, 9, 16, 25]"
      ]
     },
     "execution_count": 186,
     "metadata": {},
     "output_type": "execute_result"
    }
   ],
   "source": [
    "list(map(lambda x: x**2, numbers))"
   ]
  },
  {
   "cell_type": "markdown",
   "id": "1142a9c9-138e-4ce8-8afd-ee3767f22fbe",
   "metadata": {},
   "source": [
    "### Exercise 3\n",
    "Given a list of numbers numbers = [1, 2, 3, 4, 5, 6, 7, 8, 9]. Return only the odd numbers from the list."
   ]
  },
  {
   "cell_type": "code",
   "execution_count": 187,
   "id": "462a2d3a-9e1e-4aa1-ad62-12ac193c6d3a",
   "metadata": {},
   "outputs": [],
   "source": [
    "numbers = [1, 2, 3, 4, 5, 6, 7, 8, 9]"
   ]
  },
  {
   "cell_type": "markdown",
   "id": "a8d8c092-3393-4a09-8beb-1a044f64356f",
   "metadata": {},
   "source": [
    "#### Solution"
   ]
  },
  {
   "cell_type": "code",
   "execution_count": 190,
   "id": "52661c41-1bee-4823-90e6-7013870a5d76",
   "metadata": {},
   "outputs": [
    {
     "data": {
      "text/plain": [
       "[1, 3, 5, 7, 9]"
      ]
     },
     "execution_count": 190,
     "metadata": {},
     "output_type": "execute_result"
    }
   ],
   "source": [
    "list(filter(lambda x: x % 2 != 0, numbers))"
   ]
  },
  {
   "cell_type": "markdown",
   "id": "52e361ae-3901-4d2c-95a7-4ed74f44a0f8",
   "metadata": {},
   "source": [
    "### Exercise 4\n",
    "You have a list of tuples items = [(\"apple\", 3), (\"banana\", 2), (\"cherry\", 5), (\"date\", 1)]. Sort the list by the second item (the number) in each tuple in ascending order.\n"
   ]
  },
  {
   "cell_type": "code",
   "execution_count": 210,
   "id": "b5645da3-d80f-4694-843d-5850c13bc67f",
   "metadata": {},
   "outputs": [],
   "source": [
    "items = [(\"apple\", 3), (\"banana\", 2), (\"cherry\", 5), (\"date\", 1)]"
   ]
  },
  {
   "cell_type": "markdown",
   "id": "0ab7e278-14aa-4905-b029-e9b7e1afd2d0",
   "metadata": {},
   "source": [
    "#### Solution"
   ]
  },
  {
   "cell_type": "code",
   "execution_count": 217,
   "id": "8f70b295-9785-4266-bda4-22686061c183",
   "metadata": {},
   "outputs": [
    {
     "data": {
      "text/plain": [
       "[('apple', 3), ('banana', 2), ('cherry', 5), ('date', 1)]"
      ]
     },
     "execution_count": 217,
     "metadata": {},
     "output_type": "execute_result"
    }
   ],
   "source": [
    "sorted(items, key=lambda x: x[0])"
   ]
  },
  {
   "cell_type": "code",
   "execution_count": 216,
   "id": "b76adc34-7a82-4d19-88d8-2d674874059c",
   "metadata": {},
   "outputs": [
    {
     "data": {
      "text/plain": [
       "[('date', 1), ('banana', 2), ('apple', 3), ('cherry', 5)]"
      ]
     },
     "execution_count": 216,
     "metadata": {},
     "output_type": "execute_result"
    }
   ],
   "source": [
    "sorted(items, key=lambda x: x[1])"
   ]
  },
  {
   "cell_type": "code",
   "execution_count": 221,
   "id": "12140839-64ca-4bf9-a806-51fed2c4f067",
   "metadata": {},
   "outputs": [
    {
     "data": {
      "text/plain": [
       "[('cherry', 5), ('apple', 3), ('banana', 2), ('date', 1)]"
      ]
     },
     "execution_count": 221,
     "metadata": {},
     "output_type": "execute_result"
    }
   ],
   "source": [
    "sorted(items, key=lambda x: x[1], reverse=True)"
   ]
  },
  {
   "cell_type": "markdown",
   "id": "810412c0-eee7-4715-9718-5dc4ebce82b7",
   "metadata": {},
   "source": [
    "#### Exercise 5\n",
    "Given a list of numbers numbers = [1, 2, 3, 4], calculate the product of all the numbers in the list."
   ]
  },
  {
   "cell_type": "code",
   "execution_count": 225,
   "id": "b4be51eb-e6ef-49fd-a484-5ef2d85c394f",
   "metadata": {},
   "outputs": [],
   "source": [
    "numbers = [1, 2, 3, 4]"
   ]
  },
  {
   "cell_type": "markdown",
   "id": "8b022bdd-24dc-4249-83b4-6fcdf9e1f05c",
   "metadata": {},
   "source": [
    "#### Hint\n",
    "Use a lambda function and the reduce() function from the functools module "
   ]
  },
  {
   "cell_type": "markdown",
   "id": "c3bed91f-b8aa-4eb1-b732-e79cb2512623",
   "metadata": {},
   "source": [
    "#### Solution"
   ]
  },
  {
   "cell_type": "code",
   "execution_count": 228,
   "id": "a3fb385c-932e-4f73-a35b-8f172624f086",
   "metadata": {},
   "outputs": [
    {
     "data": {
      "text/plain": [
       "24"
      ]
     },
     "execution_count": 228,
     "metadata": {},
     "output_type": "execute_result"
    }
   ],
   "source": [
    "from functools import reduce\n",
    "reduce(lambda x, y: x * y, numbers)"
   ]
  },
  {
   "cell_type": "markdown",
   "id": "280a5e6f-bbbf-42c7-a5e9-7f523e77c297",
   "metadata": {},
   "source": [
    "### Exercise 6\n",
    "Write a lambda function that takes a number x and returns \"Even\" if the number is even, and \"Odd\" if the number is odd. Test it with the number 7."
   ]
  },
  {
   "cell_type": "code",
   "execution_count": 231,
   "id": "a4c8dbf8-bcd3-4d17-a34b-b51a3da94efa",
   "metadata": {},
   "outputs": [],
   "source": [
    "even_or_odd = lambda x: 'Even' if x % 2 == 0 else 'Odd'"
   ]
  },
  {
   "cell_type": "code",
   "execution_count": 232,
   "id": "c1974c37-0017-4e1a-b950-8fcf48113a3b",
   "metadata": {},
   "outputs": [
    {
     "data": {
      "text/plain": [
       "'Odd'"
      ]
     },
     "execution_count": 232,
     "metadata": {},
     "output_type": "execute_result"
    }
   ],
   "source": [
    "even_or_odd(7)"
   ]
  },
  {
   "cell_type": "markdown",
   "id": "5a56ff9a-8ee8-4f28-9803-da3f061ca102",
   "metadata": {},
   "source": [
    "## Data Structures"
   ]
  },
  {
   "cell_type": "markdown",
   "id": "c4dbb863-3d32-43b3-b661-8490e885d26e",
   "metadata": {},
   "source": [
    "### Exercise: find the longest substring\n",
    "\n",
    "Write a function that takes a string and returns the length of the longest substring without repeating characters."
   ]
  },
  {
   "cell_type": "code",
   "execution_count": 54,
   "id": "5e5a73ed-8b93-4e6b-b550-7c06d4c3cf6d",
   "metadata": {},
   "outputs": [],
   "source": [
    "def longest_substring(my_string: str) -> int:\n",
    "    substrings = []\n",
    "\n",
    "    substring = set()\n",
    "    \n",
    "    for char in my_string:\n",
    "        if char not in substring:\n",
    "            # it's a new char, we add it to the substring\n",
    "            substring.add(char)\n",
    "        else:\n",
    "            # we have a repeating character, so we append the substring to the final list of non-repeating substring\n",
    "            substrings.append(substring)\n",
    "            # and we create a new substring, starting with the repeating character\n",
    "            substring = set()\n",
    "            substring.add(char)\n",
    "\n",
    "    # append the final substring as well\n",
    "    substrings.append(substring)\n",
    "    print(substrings)\n",
    "\n",
    "    return max([len(s) for s in substrings])\n",
    "            \n"
   ]
  },
  {
   "cell_type": "code",
   "execution_count": 57,
   "id": "dcbcb995-669b-4c4a-a083-5b0c2e221ba5",
   "metadata": {},
   "outputs": [
    {
     "name": "stdout",
     "output_type": "stream",
     "text": [
      "[{'p', 'a'}, {'p', 'l', 'a', 't'}, {'k', 'a', 't', 'e', 'f'}]\n"
     ]
    },
    {
     "data": {
      "text/plain": [
       "5"
      ]
     },
     "execution_count": 57,
     "metadata": {},
     "output_type": "execute_result"
    }
   ],
   "source": [
    "longest_substring(\"paplatatekf\")"
   ]
  },
  {
   "cell_type": "code",
   "execution_count": 72,
   "id": "0ffb646a-f702-40f6-88b2-8388be4701cd",
   "metadata": {},
   "outputs": [],
   "source": [
    "def longest_unique_substring(s):\n",
    "    char_index = {}\n",
    "    max_length = 0\n",
    "    start = 0\n",
    "\n",
    "    for i, char in enumerate(s):\n",
    "        print(i, char)\n",
    "        print(\"char_index\", char_index)\n",
    "        print(\"start\", start)\n",
    "        print(\"max_length\", max_length)\n",
    "        if char in char_index and char_index[char] >= start:\n",
    "            start = char_index[char] + 1\n",
    "            print(\"new start\", start)\n",
    "        \n",
    "        char_index[char] = i\n",
    "        print(\"new char_index\", char_index)\n",
    "        max_length = max(max_length, i - start + 1)\n",
    "        print(\"new max_length\", max_length)\n",
    "        print(\"***************************\")\n",
    "\n",
    "    return max_length"
   ]
  },
  {
   "cell_type": "code",
   "execution_count": 73,
   "id": "e960e3b7-6805-4f68-aaf7-233f84a5aac7",
   "metadata": {},
   "outputs": [
    {
     "name": "stdout",
     "output_type": "stream",
     "text": [
      "0 p\n",
      "char_index {}\n",
      "start 0\n",
      "max_length 0\n",
      "new char_index {'p': 0}\n",
      "new max_length 1\n",
      "***************************\n",
      "1 a\n",
      "char_index {'p': 0}\n",
      "start 0\n",
      "max_length 1\n",
      "new char_index {'p': 0, 'a': 1}\n",
      "new max_length 2\n",
      "***************************\n",
      "2 p\n",
      "char_index {'p': 0, 'a': 1}\n",
      "start 0\n",
      "max_length 2\n",
      "new start 1\n",
      "new char_index {'p': 2, 'a': 1}\n",
      "new max_length 2\n",
      "***************************\n",
      "3 l\n",
      "char_index {'p': 2, 'a': 1}\n",
      "start 1\n",
      "max_length 2\n",
      "new char_index {'p': 2, 'a': 1, 'l': 3}\n",
      "new max_length 3\n",
      "***************************\n",
      "4 a\n",
      "char_index {'p': 2, 'a': 1, 'l': 3}\n",
      "start 1\n",
      "max_length 3\n",
      "new start 2\n",
      "new char_index {'p': 2, 'a': 4, 'l': 3}\n",
      "new max_length 3\n",
      "***************************\n",
      "5 t\n",
      "char_index {'p': 2, 'a': 4, 'l': 3}\n",
      "start 2\n",
      "max_length 3\n",
      "new char_index {'p': 2, 'a': 4, 'l': 3, 't': 5}\n",
      "new max_length 4\n",
      "***************************\n",
      "6 a\n",
      "char_index {'p': 2, 'a': 4, 'l': 3, 't': 5}\n",
      "start 2\n",
      "max_length 4\n",
      "new start 5\n",
      "new char_index {'p': 2, 'a': 6, 'l': 3, 't': 5}\n",
      "new max_length 4\n",
      "***************************\n",
      "7 t\n",
      "char_index {'p': 2, 'a': 6, 'l': 3, 't': 5}\n",
      "start 5\n",
      "max_length 4\n",
      "new start 6\n",
      "new char_index {'p': 2, 'a': 6, 'l': 3, 't': 7}\n",
      "new max_length 4\n",
      "***************************\n",
      "8 e\n",
      "char_index {'p': 2, 'a': 6, 'l': 3, 't': 7}\n",
      "start 6\n",
      "max_length 4\n",
      "new char_index {'p': 2, 'a': 6, 'l': 3, 't': 7, 'e': 8}\n",
      "new max_length 4\n",
      "***************************\n",
      "9 k\n",
      "char_index {'p': 2, 'a': 6, 'l': 3, 't': 7, 'e': 8}\n",
      "start 6\n",
      "max_length 4\n",
      "new char_index {'p': 2, 'a': 6, 'l': 3, 't': 7, 'e': 8, 'k': 9}\n",
      "new max_length 4\n",
      "***************************\n",
      "10 f\n",
      "char_index {'p': 2, 'a': 6, 'l': 3, 't': 7, 'e': 8, 'k': 9}\n",
      "start 6\n",
      "max_length 4\n",
      "new char_index {'p': 2, 'a': 6, 'l': 3, 't': 7, 'e': 8, 'k': 9, 'f': 10}\n",
      "new max_length 5\n",
      "***************************\n"
     ]
    },
    {
     "data": {
      "text/plain": [
       "5"
      ]
     },
     "execution_count": 73,
     "metadata": {},
     "output_type": "execute_result"
    }
   ],
   "source": [
    "longest_unique_substring(\"paplatatekf\")"
   ]
  },
  {
   "cell_type": "code",
   "execution_count": null,
   "id": "e8173b05-406c-4efb-afda-11e2655fc3d3",
   "metadata": {},
   "outputs": [],
   "source": []
  }
 ],
 "metadata": {
  "kernelspec": {
   "display_name": "Python 3 (ipykernel)",
   "language": "python",
   "name": "python3"
  },
  "language_info": {
   "codemirror_mode": {
    "name": "ipython",
    "version": 3
   },
   "file_extension": ".py",
   "mimetype": "text/x-python",
   "name": "python",
   "nbconvert_exporter": "python",
   "pygments_lexer": "ipython3",
   "version": "3.11.9"
  }
 },
 "nbformat": 4,
 "nbformat_minor": 5
}
