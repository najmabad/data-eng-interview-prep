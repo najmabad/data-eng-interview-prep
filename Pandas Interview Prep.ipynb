{
 "cells": [
  {
   "cell_type": "code",
   "execution_count": 1,
   "id": "b62acef4-20a7-4f73-8c6e-0385f0b50702",
   "metadata": {},
   "outputs": [],
   "source": [
    "import pandas as pd"
   ]
  },
  {
   "cell_type": "markdown",
   "id": "2a799d6a-8dcd-4d0f-ac6c-b66aa9e82102",
   "metadata": {},
   "source": [
    "# Series"
   ]
  },
  {
   "cell_type": "markdown",
   "id": "62004d05-664c-4932-adf2-25ebdb96d7c8",
   "metadata": {},
   "source": [
    "## Creating a Series"
   ]
  },
  {
   "cell_type": "code",
   "execution_count": 2,
   "id": "a82b6175-8b81-4e59-9e64-59902b339d74",
   "metadata": {},
   "outputs": [
    {
     "data": {
      "text/plain": [
       "0    1\n",
       "1    2\n",
       "2    3\n",
       "dtype: int64"
      ]
     },
     "execution_count": 2,
     "metadata": {},
     "output_type": "execute_result"
    }
   ],
   "source": [
    "# you can build a series using a list\n",
    "s = pd.Series([1, 2, 3])\n",
    "s"
   ]
  },
  {
   "cell_type": "code",
   "execution_count": 3,
   "id": "a051c48f-51b3-468d-8765-f839a9731a9f",
   "metadata": {},
   "outputs": [
    {
     "data": {
      "text/plain": [
       "a    1\n",
       "b    2\n",
       "c    3\n",
       "dtype: int64"
      ]
     },
     "execution_count": 3,
     "metadata": {},
     "output_type": "execute_result"
    }
   ],
   "source": [
    "# if you use a dictionary, the keys will be considered as the index\n",
    "s = pd.Series({\"a\": 1, \"b\": 2, \"c\": 3})\n",
    "s"
   ]
  },
  {
   "cell_type": "code",
   "execution_count": 4,
   "id": "2c8b8f8e-61a6-46a0-bcda-84bcb951530d",
   "metadata": {},
   "outputs": [
    {
     "data": {
      "text/plain": [
       "a    1\n",
       "b    2\n",
       "c    3\n",
       "dtype: int64"
      ]
     },
     "execution_count": 4,
     "metadata": {},
     "output_type": "execute_result"
    }
   ],
   "source": [
    "# alternatively, you can use a list and define an index\n",
    "s = pd.Series([1, 2, 3], index=[\"a\", \"b\", \"c\"])\n",
    "s"
   ]
  },
  {
   "cell_type": "markdown",
   "id": "78da015f-afff-40e5-81f4-995892a1b02b",
   "metadata": {},
   "source": [
    "## Facts about Series"
   ]
  },
  {
   "cell_type": "markdown",
   "id": "9d3684ba-e0e1-4a41-a014-a57558f126a7",
   "metadata": {},
   "source": [
    "### You can retrieve values using numeric indices"
   ]
  },
  {
   "cell_type": "code",
   "execution_count": 5,
   "id": "606c6f58-9b41-426d-8d65-dd46c9b21203",
   "metadata": {},
   "outputs": [
    {
     "data": {
      "text/plain": [
       "np.int64(1)"
      ]
     },
     "execution_count": 5,
     "metadata": {},
     "output_type": "execute_result"
    }
   ],
   "source": [
    "s.iloc[0]"
   ]
  },
  {
   "cell_type": "code",
   "execution_count": 6,
   "id": "666dd87c-5333-4263-9233-ade73bd457ef",
   "metadata": {},
   "outputs": [
    {
     "data": {
      "text/plain": [
       "a    1\n",
       "dtype: int64"
      ]
     },
     "execution_count": 6,
     "metadata": {},
     "output_type": "execute_result"
    }
   ],
   "source": [
    "s.iloc[0:1]"
   ]
  },
  {
   "cell_type": "code",
   "execution_count": 7,
   "id": "d40921f8-34f0-46f7-ac3f-ade27153a1d0",
   "metadata": {},
   "outputs": [
    {
     "data": {
      "text/plain": [
       "a    1\n",
       "b    2\n",
       "dtype: int64"
      ]
     },
     "execution_count": 7,
     "metadata": {},
     "output_type": "execute_result"
    }
   ],
   "source": [
    "s.iloc[0:2]"
   ]
  },
  {
   "cell_type": "code",
   "execution_count": 8,
   "id": "af74b41a-5993-42b8-b25d-efbe79acb953",
   "metadata": {},
   "outputs": [
    {
     "data": {
      "text/plain": [
       "a    1\n",
       "dtype: int64"
      ]
     },
     "execution_count": 8,
     "metadata": {},
     "output_type": "execute_result"
    }
   ],
   "source": [
    "s.iloc[0:2:2]"
   ]
  },
  {
   "cell_type": "code",
   "execution_count": 9,
   "id": "1290ae2b-b2f7-405d-8079-ae1423cb1a3c",
   "metadata": {},
   "outputs": [
    {
     "data": {
      "text/plain": [
       "c    3\n",
       "b    2\n",
       "a    1\n",
       "dtype: int64"
      ]
     },
     "execution_count": 9,
     "metadata": {},
     "output_type": "execute_result"
    }
   ],
   "source": [
    "s[::-1]"
   ]
  },
  {
   "cell_type": "markdown",
   "id": "2a6750cf-07f0-4f5e-babe-0822af4da543",
   "metadata": {},
   "source": [
    "### You can use the \"in\" operator"
   ]
  },
  {
   "cell_type": "code",
   "execution_count": 10,
   "id": "5a0c3116-b5ba-42a4-8e2d-035f342850a9",
   "metadata": {},
   "outputs": [
    {
     "data": {
      "text/plain": [
       "True"
      ]
     },
     "execution_count": 10,
     "metadata": {},
     "output_type": "execute_result"
    }
   ],
   "source": [
    "# check if a value is in the index\n",
    "\"a\" in s"
   ]
  },
  {
   "cell_type": "code",
   "execution_count": 11,
   "id": "12d6b30e-94b0-4207-93ab-2ce5615d7b5a",
   "metadata": {},
   "outputs": [
    {
     "data": {
      "text/plain": [
       "a     True\n",
       "b    False\n",
       "c    False\n",
       "dtype: bool"
      ]
     },
     "execution_count": 11,
     "metadata": {},
     "output_type": "execute_result"
    }
   ],
   "source": [
    "# check if a value is in the series\n",
    "s.isin([1])"
   ]
  },
  {
   "cell_type": "code",
   "execution_count": 12,
   "id": "d3f3b805-d91a-47f3-8daa-6a8d29032b98",
   "metadata": {},
   "outputs": [
    {
     "data": {
      "text/plain": [
       "True"
      ]
     },
     "execution_count": 12,
     "metadata": {},
     "output_type": "execute_result"
    }
   ],
   "source": [
    "1 in s.values"
   ]
  },
  {
   "cell_type": "markdown",
   "id": "f54d0a0a-8564-4a8a-98c3-f55e3dc5defa",
   "metadata": {},
   "source": [
    "## loc vs iloc"
   ]
  },
  {
   "cell_type": "markdown",
   "id": "dd98f8fd-ecbd-4e01-9af3-1f82d55cbb1c",
   "metadata": {},
   "source": [
    "- `loc` uses the index\n",
    "    - slicing is inclusive\n",
    "    - in a df: `df.loc[row_label, column_label]`\n",
    "- `iloc` uses the position - iloc stands for \"integer-location based indexing\"\n",
    "    - slicing is exclusive\n",
    "    - in a df: `df.iloc[row_position, column_position]`"
   ]
  },
  {
   "cell_type": "code",
   "execution_count": 13,
   "id": "b212a41c-7f4c-49ec-9626-44520b0570c3",
   "metadata": {},
   "outputs": [
    {
     "data": {
      "text/plain": [
       "np.int64(1)"
      ]
     },
     "execution_count": 13,
     "metadata": {},
     "output_type": "execute_result"
    }
   ],
   "source": [
    "s.loc[\"a\"]"
   ]
  },
  {
   "cell_type": "code",
   "execution_count": 14,
   "id": "87c78a5c-3c52-4cd9-938b-67ab8633c643",
   "metadata": {},
   "outputs": [
    {
     "data": {
      "text/plain": [
       "np.int64(1)"
      ]
     },
     "execution_count": 14,
     "metadata": {},
     "output_type": "execute_result"
    }
   ],
   "source": [
    "s.iloc[0]"
   ]
  },
  {
   "cell_type": "code",
   "execution_count": 15,
   "id": "889f0fd5-9fa8-4c39-b810-d45d55aa2770",
   "metadata": {},
   "outputs": [
    {
     "data": {
      "text/plain": [
       "np.int64(3)"
      ]
     },
     "execution_count": 15,
     "metadata": {},
     "output_type": "execute_result"
    }
   ],
   "source": [
    "# find the last element of the series\n",
    "s.iloc[-1]"
   ]
  },
  {
   "cell_type": "code",
   "execution_count": 16,
   "id": "9bb2a374-9a7b-494e-8f0f-0c8b06f4d72c",
   "metadata": {},
   "outputs": [
    {
     "data": {
      "text/plain": [
       "a    1\n",
       "b    2\n",
       "dtype: int64"
      ]
     },
     "execution_count": 16,
     "metadata": {},
     "output_type": "execute_result"
    }
   ],
   "source": [
    "# you can also use slicing - in this case the stop is included!\n",
    "s.loc[\"a\": \"b\"]"
   ]
  },
  {
   "cell_type": "code",
   "execution_count": 17,
   "id": "3635ce2c-1513-40f7-826b-4de5f5167b4f",
   "metadata": {},
   "outputs": [
    {
     "name": "stdout",
     "output_type": "stream",
     "text": [
      "Index doesn't exist\n"
     ]
    }
   ],
   "source": [
    "# if an index doesn't exist, it will throw an error\n",
    "try:\n",
    "    s.loc[\"e\"]\n",
    "except KeyError:\n",
    "    print(\"Index doesn't exist\")"
   ]
  },
  {
   "cell_type": "markdown",
   "id": "4302674b-aa95-4a30-a39e-da22fdeac200",
   "metadata": {},
   "source": [
    "## Retrieving the values and the index"
   ]
  },
  {
   "cell_type": "code",
   "execution_count": 18,
   "id": "988e103b-eef3-45c9-9812-86cc666e53cf",
   "metadata": {},
   "outputs": [
    {
     "data": {
      "text/plain": [
       "array([1, 2, 3])"
      ]
     },
     "execution_count": 18,
     "metadata": {},
     "output_type": "execute_result"
    }
   ],
   "source": [
    "s.values"
   ]
  },
  {
   "cell_type": "code",
   "execution_count": 19,
   "id": "67493d11-15b7-42fc-aac7-7f70b27d217d",
   "metadata": {},
   "outputs": [
    {
     "data": {
      "text/plain": [
       "Index(['a', 'b', 'c'], dtype='object')"
      ]
     },
     "execution_count": 19,
     "metadata": {},
     "output_type": "execute_result"
    }
   ],
   "source": [
    "# index can be made of strings or int\n",
    "s.index"
   ]
  },
  {
   "cell_type": "code",
   "execution_count": 20,
   "id": "965c81fa-d97e-406a-bacf-92bbddaaae8d",
   "metadata": {},
   "outputs": [
    {
     "data": {
      "text/plain": [
       "1    1\n",
       "2    2\n",
       "3    3\n",
       "dtype: int64"
      ]
     },
     "execution_count": 20,
     "metadata": {},
     "output_type": "execute_result"
    }
   ],
   "source": [
    "# we can also replace the index of a series\n",
    "s.index = [1, 2, 3]\n",
    "s"
   ]
  },
  {
   "cell_type": "code",
   "execution_count": 21,
   "id": "65586fc1-3dd2-4db4-b8c8-67db56161150",
   "metadata": {},
   "outputs": [
    {
     "data": {
      "text/plain": [
       "a    1\n",
       "a    2\n",
       "b    3\n",
       "dtype: int64"
      ]
     },
     "execution_count": 21,
     "metadata": {},
     "output_type": "execute_result"
    }
   ],
   "source": [
    "# index can be non-unique\n",
    "s.index = [\"a\", \"a\", \"b\"]\n",
    "s"
   ]
  },
  {
   "cell_type": "code",
   "execution_count": 22,
   "id": "a7846c99-4a0f-4ca1-b998-a8f390e36668",
   "metadata": {},
   "outputs": [
    {
     "data": {
      "text/plain": [
       "a    1\n",
       "a    2\n",
       "dtype: int64"
      ]
     },
     "execution_count": 22,
     "metadata": {},
     "output_type": "execute_result"
    }
   ],
   "source": [
    "s.loc[\"a\"]"
   ]
  },
  {
   "cell_type": "code",
   "execution_count": 23,
   "id": "0dbe0ecd-d3ba-4661-bb8e-29675a4be1a6",
   "metadata": {},
   "outputs": [
    {
     "data": {
      "text/plain": [
       "a    1\n",
       "a    2\n",
       "b    3\n",
       "dtype: int64"
      ]
     },
     "execution_count": 23,
     "metadata": {},
     "output_type": "execute_result"
    }
   ],
   "source": [
    "# if the index is non-unique, slicing doesn't work\n",
    "s.loc[\"a\":\"b\"]"
   ]
  },
  {
   "cell_type": "code",
   "execution_count": 24,
   "id": "aee00683-f194-4e98-bf85-a0ea1137f8d9",
   "metadata": {},
   "outputs": [],
   "source": [
    "s = pd.Series(data=[1, 2, 3, 4], index=[\"a\", \"a\", \"b\", \"a\"])"
   ]
  },
  {
   "cell_type": "code",
   "execution_count": 25,
   "id": "802db4ba-a7e5-4a4d-b2a1-c0264a8f2d8e",
   "metadata": {},
   "outputs": [
    {
     "name": "stdout",
     "output_type": "stream",
     "text": [
      "\"Cannot get left slice bound for non-unique label: 'a'\"\n"
     ]
    }
   ],
   "source": [
    "try:\n",
    "    s.loc[\"a\": \"b\"]\n",
    "except KeyError as e:\n",
    "    print(e)"
   ]
  },
  {
   "cell_type": "markdown",
   "id": "7cffb46f-a280-4be8-b6dc-74e2dae3eb30",
   "metadata": {},
   "source": [
    "## Fancy Indexing"
   ]
  },
  {
   "cell_type": "markdown",
   "id": "b7b06fe1-d748-4695-87a5-0ed0f1972fa2",
   "metadata": {},
   "source": [
    "We can repeat the indexes and get the value multiple times"
   ]
  },
  {
   "cell_type": "code",
   "execution_count": 26,
   "id": "431f5cc6-5858-4261-ac34-3d8b02b0c763",
   "metadata": {},
   "outputs": [
    {
     "data": {
      "text/plain": [
       "a    1\n",
       "b    2\n",
       "c    3\n",
       "d    4\n",
       "dtype: int64"
      ]
     },
     "execution_count": 26,
     "metadata": {},
     "output_type": "execute_result"
    }
   ],
   "source": [
    "s = pd.Series(data=[1, 2, 3, 4], index=[\"a\", \"b\", \"c\", \"d\"])\n",
    "s"
   ]
  },
  {
   "cell_type": "code",
   "execution_count": 27,
   "id": "231a91dd-882b-4d69-b8ed-14baf78e0c0e",
   "metadata": {},
   "outputs": [
    {
     "data": {
      "text/plain": [
       "a    1\n",
       "a    1\n",
       "dtype: int64"
      ]
     },
     "execution_count": 27,
     "metadata": {},
     "output_type": "execute_result"
    }
   ],
   "source": [
    "s.loc[[\"a\", \"a\"]]"
   ]
  },
  {
   "cell_type": "code",
   "execution_count": 28,
   "id": "577f9c90-fef5-4e52-84d2-76c60fcb9fd6",
   "metadata": {},
   "outputs": [
    {
     "data": {
      "text/plain": [
       "a    1\n",
       "b    2\n",
       "a    1\n",
       "b    2\n",
       "dtype: int64"
      ]
     },
     "execution_count": 28,
     "metadata": {},
     "output_type": "execute_result"
    }
   ],
   "source": [
    "s.iloc[[0, 1, 0, 1]]"
   ]
  },
  {
   "cell_type": "markdown",
   "id": "2a5d484a-b5b2-402b-91f8-cc19a26f5374",
   "metadata": {},
   "source": [
    "## Boolean Indexing"
   ]
  },
  {
   "cell_type": "code",
   "execution_count": 29,
   "id": "d91bd3b8-f89a-4164-bc58-610d7ef0fff2",
   "metadata": {},
   "outputs": [
    {
     "data": {
      "text/plain": [
       "a    1\n",
       "b    2\n",
       "c    3\n",
       "d    4\n",
       "dtype: int64"
      ]
     },
     "execution_count": 29,
     "metadata": {},
     "output_type": "execute_result"
    }
   ],
   "source": [
    "s"
   ]
  },
  {
   "cell_type": "code",
   "execution_count": 30,
   "id": "1df3ea29-2fa7-4f79-9c51-84b90593259c",
   "metadata": {},
   "outputs": [
    {
     "data": {
      "text/plain": [
       "a    False\n",
       "b     True\n",
       "c    False\n",
       "d    False\n",
       "dtype: bool"
      ]
     },
     "execution_count": 30,
     "metadata": {},
     "output_type": "execute_result"
    }
   ],
   "source": [
    "s == 2"
   ]
  },
  {
   "cell_type": "code",
   "execution_count": 31,
   "id": "2968d361-9d95-4769-a8b0-aec179502a25",
   "metadata": {},
   "outputs": [
    {
     "data": {
      "text/plain": [
       "b    2\n",
       "dtype: int64"
      ]
     },
     "execution_count": 31,
     "metadata": {},
     "output_type": "execute_result"
    }
   ],
   "source": [
    "s[s == 2]"
   ]
  },
  {
   "cell_type": "code",
   "execution_count": 32,
   "id": "65c31ce8-2659-499e-adbf-53309ff8f356",
   "metadata": {},
   "outputs": [
    {
     "data": {
      "text/plain": [
       "a    False\n",
       "b    False\n",
       "c     True\n",
       "d     True\n",
       "dtype: bool"
      ]
     },
     "execution_count": 32,
     "metadata": {},
     "output_type": "execute_result"
    }
   ],
   "source": [
    "s > 2"
   ]
  },
  {
   "cell_type": "code",
   "execution_count": 33,
   "id": "3bb10a10-fd1a-4ca7-a912-9eecf45e6048",
   "metadata": {},
   "outputs": [
    {
     "data": {
      "text/plain": [
       "c    3\n",
       "d    4\n",
       "dtype: int64"
      ]
     },
     "execution_count": 33,
     "metadata": {},
     "output_type": "execute_result"
    }
   ],
   "source": [
    "s[s > 2]"
   ]
  },
  {
   "cell_type": "code",
   "execution_count": 34,
   "id": "568eb9e0-d6ab-4e7b-b578-fb20af617058",
   "metadata": {},
   "outputs": [
    {
     "data": {
      "text/plain": [
       "b    2\n",
       "c    3\n",
       "dtype: int64"
      ]
     },
     "execution_count": 34,
     "metadata": {},
     "output_type": "execute_result"
    }
   ],
   "source": [
    "s[(s > 1) & (s < 4)]"
   ]
  },
  {
   "cell_type": "markdown",
   "id": "ce6e8fa0-aa45-4bc0-b48c-9936394e69a2",
   "metadata": {},
   "source": [
    "## Basic methods"
   ]
  },
  {
   "cell_type": "code",
   "execution_count": 35,
   "id": "09578947-41d1-4d54-a647-6ac2c1b7b54d",
   "metadata": {},
   "outputs": [
    {
     "name": "stdout",
     "output_type": "stream",
     "text": [
      "s.sum() = 10\n",
      "s.min() = 1\n",
      "s.max() = 4\n",
      "s.mean() = 2.5\n",
      "s.std() = 1.2909944487358056\n"
     ]
    }
   ],
   "source": [
    "print(\"s.sum() =\", s.sum())\n",
    "print(\"s.min() =\", s.min())\n",
    "print(\"s.max() =\", s.max())\n",
    "print(\"s.mean() =\", s.mean())\n",
    "print(\"s.std() =\", s.std())"
   ]
  },
  {
   "cell_type": "markdown",
   "id": "a0a8d635-0fef-4f2b-938d-c027cedc97fc",
   "metadata": {},
   "source": [
    "You can also apply basic operations such as addition, subtraction, multiplication, and division.\n",
    "- If the operation is between two series, it is vectorised\n",
    "- If the operation is between one scalar and a series, the scalar is broadcasted (i.e. applied to each element of the series)"
   ]
  },
  {
   "cell_type": "code",
   "execution_count": 36,
   "id": "d3dde1de-b75e-4b6a-a5ed-1efa000ebaa7",
   "metadata": {},
   "outputs": [],
   "source": [
    "s1 = pd.Series(data=[10, 20])\n",
    "s2 = pd.Series(data=[1, 2, 3])"
   ]
  },
  {
   "cell_type": "code",
   "execution_count": 37,
   "id": "ae2121b5-4976-4c98-a398-69ef759466c8",
   "metadata": {},
   "outputs": [
    {
     "data": {
      "text/plain": [
       "0    10\n",
       "1    20\n",
       "dtype: int64"
      ]
     },
     "execution_count": 37,
     "metadata": {},
     "output_type": "execute_result"
    }
   ],
   "source": [
    "s1"
   ]
  },
  {
   "cell_type": "code",
   "execution_count": 38,
   "id": "8637a501-0d21-42e8-a8f2-1167bd4cf6fe",
   "metadata": {},
   "outputs": [
    {
     "data": {
      "text/plain": [
       "0    1\n",
       "1    2\n",
       "2    3\n",
       "dtype: int64"
      ]
     },
     "execution_count": 38,
     "metadata": {},
     "output_type": "execute_result"
    }
   ],
   "source": [
    "s2"
   ]
  },
  {
   "cell_type": "code",
   "execution_count": 39,
   "id": "a1c3ff25-a96e-4005-9c8e-43ad8fde6cce",
   "metadata": {},
   "outputs": [
    {
     "data": {
      "text/plain": [
       "0    11.0\n",
       "1    22.0\n",
       "2     NaN\n",
       "dtype: float64"
      ]
     },
     "execution_count": 39,
     "metadata": {},
     "output_type": "execute_result"
    }
   ],
   "source": [
    "s1 + s2"
   ]
  },
  {
   "cell_type": "code",
   "execution_count": 40,
   "id": "29dce9c4-d16e-41b7-98cf-532b2e2350df",
   "metadata": {},
   "outputs": [
    {
     "data": {
      "text/plain": [
       "0     9.0\n",
       "1    18.0\n",
       "2     NaN\n",
       "dtype: float64"
      ]
     },
     "execution_count": 40,
     "metadata": {},
     "output_type": "execute_result"
    }
   ],
   "source": [
    "s1 - s2"
   ]
  },
  {
   "cell_type": "code",
   "execution_count": 41,
   "id": "1a45ae67-9d47-4d6e-8263-2bc744ff73fd",
   "metadata": {},
   "outputs": [
    {
     "data": {
      "text/plain": [
       "0    10.0\n",
       "1    40.0\n",
       "2     NaN\n",
       "dtype: float64"
      ]
     },
     "execution_count": 41,
     "metadata": {},
     "output_type": "execute_result"
    }
   ],
   "source": [
    "s1 * s2"
   ]
  },
  {
   "cell_type": "code",
   "execution_count": 42,
   "id": "0809907d-c2d0-4b1f-b034-5e2d718234d9",
   "metadata": {},
   "outputs": [
    {
     "data": {
      "text/plain": [
       "0    10.0\n",
       "1    10.0\n",
       "2     NaN\n",
       "dtype: float64"
      ]
     },
     "execution_count": 42,
     "metadata": {},
     "output_type": "execute_result"
    }
   ],
   "source": [
    "s1 / s2"
   ]
  },
  {
   "cell_type": "code",
   "execution_count": 43,
   "id": "b13ef9cd-4774-45af-b932-f75f0b072b84",
   "metadata": {},
   "outputs": [
    {
     "data": {
      "text/plain": [
       "0    11\n",
       "1    21\n",
       "dtype: int64"
      ]
     },
     "execution_count": 43,
     "metadata": {},
     "output_type": "execute_result"
    }
   ],
   "source": [
    "s1 + 1"
   ]
  },
  {
   "cell_type": "code",
   "execution_count": 44,
   "id": "3d3a859c-04b4-4024-b533-3daff77ef5d8",
   "metadata": {},
   "outputs": [
    {
     "data": {
      "text/plain": [
       "np.int64(3)"
      ]
     },
     "execution_count": 44,
     "metadata": {},
     "output_type": "execute_result"
    }
   ],
   "source": [
    "s.iloc[2]"
   ]
  },
  {
   "cell_type": "markdown",
   "id": "3391c239-9110-4407-8ffc-4f56070f3cfb",
   "metadata": {},
   "source": [
    "## Types\n",
    "\n",
    "NB: Pandas changes the dtype of the entire series to accomodate for a value of a different type - this will change in the future!"
   ]
  },
  {
   "cell_type": "code",
   "execution_count": 45,
   "id": "b3df3662-b832-459e-b7aa-544f8d1dce79",
   "metadata": {},
   "outputs": [
    {
     "data": {
      "text/plain": [
       "a    1\n",
       "b    2\n",
       "c    3\n",
       "d    4\n",
       "dtype: int64"
      ]
     },
     "execution_count": 45,
     "metadata": {},
     "output_type": "execute_result"
    }
   ],
   "source": [
    "s"
   ]
  },
  {
   "cell_type": "code",
   "execution_count": 46,
   "id": "300d3a07-698c-43ed-bed6-9a0294f970fd",
   "metadata": {},
   "outputs": [
    {
     "name": "stderr",
     "output_type": "stream",
     "text": [
      "/var/folders/ws/xh9mmcpn2v721tc86jthpmcw0000gn/T/ipykernel_30045/562917466.py:1: FutureWarning: Setting an item of incompatible dtype is deprecated and will raise an error in a future version of pandas. Value '5.5' has dtype incompatible with int64, please explicitly cast to a compatible dtype first.\n",
      "  s.iloc[3] = 5.5\n"
     ]
    }
   ],
   "source": [
    "s.iloc[3] = 5.5"
   ]
  },
  {
   "cell_type": "code",
   "execution_count": 47,
   "id": "f7cfa16e-cd36-4be0-97ca-f58b66b9c7ab",
   "metadata": {},
   "outputs": [
    {
     "data": {
      "text/plain": [
       "a    1.0\n",
       "b    2.0\n",
       "c    3.0\n",
       "d    5.5\n",
       "dtype: float64"
      ]
     },
     "execution_count": 47,
     "metadata": {},
     "output_type": "execute_result"
    }
   ],
   "source": [
    "s"
   ]
  },
  {
   "cell_type": "markdown",
   "id": "f06dbc32-4b6c-42a2-8b8e-68edeb5fa5cb",
   "metadata": {},
   "source": [
    "## Null Values"
   ]
  },
  {
   "cell_type": "markdown",
   "id": "511e8c53-3739-429a-9bf9-d936f00319ca",
   "metadata": {},
   "source": [
    "None and np.nan behave in the same way"
   ]
  },
  {
   "cell_type": "code",
   "execution_count": 48,
   "id": "1239d083-b4af-4ef9-9907-3862e5c4309f",
   "metadata": {},
   "outputs": [],
   "source": [
    "s.iloc[3] = None"
   ]
  },
  {
   "cell_type": "code",
   "execution_count": 49,
   "id": "f164b821-ed8f-4f70-996d-4fc52dbca7da",
   "metadata": {},
   "outputs": [
    {
     "data": {
      "text/plain": [
       "a    1.0\n",
       "b    2.0\n",
       "c    3.0\n",
       "d    NaN\n",
       "dtype: float64"
      ]
     },
     "execution_count": 49,
     "metadata": {},
     "output_type": "execute_result"
    }
   ],
   "source": [
    "s"
   ]
  },
  {
   "cell_type": "code",
   "execution_count": 50,
   "id": "34cc3852-21a2-4552-8c36-aba2adea5997",
   "metadata": {},
   "outputs": [],
   "source": [
    "import numpy as np"
   ]
  },
  {
   "cell_type": "code",
   "execution_count": 51,
   "id": "a1e06b53-4e75-4fb4-9214-e6ecee1a4341",
   "metadata": {},
   "outputs": [],
   "source": [
    "s.iloc[2] = np.nan"
   ]
  },
  {
   "cell_type": "code",
   "execution_count": 52,
   "id": "5c624575-91ba-45a4-b7c2-addcf6cfc932",
   "metadata": {},
   "outputs": [
    {
     "data": {
      "text/plain": [
       "a    1.0\n",
       "b    2.0\n",
       "c    NaN\n",
       "d    NaN\n",
       "dtype: float64"
      ]
     },
     "execution_count": 52,
     "metadata": {},
     "output_type": "execute_result"
    }
   ],
   "source": [
    "s"
   ]
  },
  {
   "cell_type": "markdown",
   "id": "23c34136-2ee8-43f0-8280-d2947afc675f",
   "metadata": {},
   "source": [
    "In Pandas, you can do computations even if you have null values. They will be filtered out automatically."
   ]
  },
  {
   "cell_type": "code",
   "execution_count": 53,
   "id": "43f4ffe0-bbf3-4171-b0bb-b14e09e06864",
   "metadata": {},
   "outputs": [
    {
     "data": {
      "text/plain": [
       "np.float64(3.0)"
      ]
     },
     "execution_count": 53,
     "metadata": {},
     "output_type": "execute_result"
    }
   ],
   "source": [
    "s.sum()"
   ]
  },
  {
   "cell_type": "code",
   "execution_count": 54,
   "id": "ecdff8bb-1322-4932-b331-778a44a32baf",
   "metadata": {},
   "outputs": [
    {
     "data": {
      "text/plain": [
       "np.float64(1.5)"
      ]
     },
     "execution_count": 54,
     "metadata": {},
     "output_type": "execute_result"
    }
   ],
   "source": [
    "s.mean()"
   ]
  },
  {
   "cell_type": "code",
   "execution_count": 55,
   "id": "0ef58e9f-72bc-4ecd-8e07-d0620c9e7f26",
   "metadata": {},
   "outputs": [
    {
     "data": {
      "text/plain": [
       "a    1.0\n",
       "b    2.0\n",
       "dtype: float64"
      ]
     },
     "execution_count": 55,
     "metadata": {},
     "output_type": "execute_result"
    }
   ],
   "source": [
    "# you can drop null values\n",
    "s = s.dropna()\n",
    "s"
   ]
  },
  {
   "cell_type": "code",
   "execution_count": 56,
   "id": "04c2e5c9-5860-4ef3-ab2d-eb8a46ea6f80",
   "metadata": {},
   "outputs": [
    {
     "data": {
      "text/plain": [
       "a    1.0\n",
       "b    2.0\n",
       "c    NaN\n",
       "dtype: float64"
      ]
     },
     "execution_count": 56,
     "metadata": {},
     "output_type": "execute_result"
    }
   ],
   "source": [
    "# you can fill them\n",
    "s.loc[\"c\"] = None\n",
    "s"
   ]
  },
  {
   "cell_type": "code",
   "execution_count": 57,
   "id": "110fb994-4012-4329-88ba-d9faec336680",
   "metadata": {},
   "outputs": [
    {
     "data": {
      "text/plain": [
       "a    1.0\n",
       "b    2.0\n",
       "c    1.5\n",
       "dtype: float64"
      ]
     },
     "execution_count": 57,
     "metadata": {},
     "output_type": "execute_result"
    }
   ],
   "source": [
    "s = s.fillna(s.mean())\n",
    "s"
   ]
  },
  {
   "cell_type": "markdown",
   "id": "0971eea3-3982-4fd5-a523-380c391c49f3",
   "metadata": {},
   "source": [
    "## Advanced Series Functionalities"
   ]
  },
  {
   "cell_type": "markdown",
   "id": "f55c8d0a-cc1d-478c-867a-b1077ef8e584",
   "metadata": {},
   "source": [
    "### Size"
   ]
  },
  {
   "cell_type": "code",
   "execution_count": 58,
   "id": "57fff4a4-4600-4d3d-b5a9-3e4cb9eb2c7c",
   "metadata": {},
   "outputs": [],
   "source": [
    "s.loc[\"d\"] = None"
   ]
  },
  {
   "cell_type": "code",
   "execution_count": 59,
   "id": "fe4c472f-47fa-4f2f-9bc8-dc68152d6eb0",
   "metadata": {},
   "outputs": [
    {
     "data": {
      "text/plain": [
       "4"
      ]
     },
     "execution_count": 59,
     "metadata": {},
     "output_type": "execute_result"
    }
   ],
   "source": [
    "# size counts also the NaN values\n",
    "s.size"
   ]
  },
  {
   "cell_type": "markdown",
   "id": "cfbb6544-8997-4fc8-ae90-dbe404a3d048",
   "metadata": {},
   "source": [
    "### Count"
   ]
  },
  {
   "cell_type": "code",
   "execution_count": 60,
   "id": "ed16a75f-0a96-460a-a23d-deab34155bbd",
   "metadata": {},
   "outputs": [
    {
     "data": {
      "text/plain": [
       "np.int64(3)"
      ]
     },
     "execution_count": 60,
     "metadata": {},
     "output_type": "execute_result"
    }
   ],
   "source": [
    "# count excludes the NaN\n",
    "s.count()"
   ]
  },
  {
   "cell_type": "markdown",
   "id": "a277fe26-694b-4e9c-9141-477808525379",
   "metadata": {},
   "source": [
    "### Median"
   ]
  },
  {
   "cell_type": "code",
   "execution_count": 61,
   "id": "5a219479-2a77-416a-b5e0-04445bdb2636",
   "metadata": {},
   "outputs": [
    {
     "data": {
      "text/plain": [
       "a    1.0\n",
       "b    2.0\n",
       "c    1.5\n",
       "d    NaN\n",
       "e    4.0\n",
       "dtype: float64"
      ]
     },
     "execution_count": 61,
     "metadata": {},
     "output_type": "execute_result"
    }
   ],
   "source": [
    "s.loc[\"e\"] = 4\n",
    "s"
   ]
  },
  {
   "cell_type": "code",
   "execution_count": 62,
   "id": "8c09d69c-1771-4a6d-aeea-d654fb3e5503",
   "metadata": {},
   "outputs": [
    {
     "data": {
      "text/plain": [
       "a    1.0\n",
       "c    1.5\n",
       "b    2.0\n",
       "e    4.0\n",
       "d    NaN\n",
       "dtype: float64"
      ]
     },
     "execution_count": 62,
     "metadata": {},
     "output_type": "execute_result"
    }
   ],
   "source": [
    "# the median sorts all values from the smallest to the largest and finds the value in the middle\n",
    "s.sort_values()"
   ]
  },
  {
   "cell_type": "code",
   "execution_count": 63,
   "id": "f4915a94-cedd-4e0f-a055-11ce86d9a0f2",
   "metadata": {},
   "outputs": [
    {
     "data": {
      "text/plain": [
       "np.float64(1.75)"
      ]
     },
     "execution_count": 63,
     "metadata": {},
     "output_type": "execute_result"
    }
   ],
   "source": [
    "# note how the null value is ignored\n",
    "s.median()"
   ]
  },
  {
   "cell_type": "code",
   "execution_count": 64,
   "id": "5692df60-f52a-4dfa-89ad-4116e45787bd",
   "metadata": {},
   "outputs": [],
   "source": [
    "s.loc[\"d\"] = 5"
   ]
  },
  {
   "cell_type": "code",
   "execution_count": 65,
   "id": "511c339e-150a-4cdf-ab5b-c629c6498be3",
   "metadata": {},
   "outputs": [
    {
     "data": {
      "text/plain": [
       "a    1.0\n",
       "c    1.5\n",
       "b    2.0\n",
       "e    4.0\n",
       "d    5.0\n",
       "dtype: float64"
      ]
     },
     "execution_count": 65,
     "metadata": {},
     "output_type": "execute_result"
    }
   ],
   "source": [
    "s.sort_values()"
   ]
  },
  {
   "cell_type": "code",
   "execution_count": 66,
   "id": "6481e354-56cd-42b2-ac5f-2071aaa531f1",
   "metadata": {},
   "outputs": [
    {
     "data": {
      "text/plain": [
       "np.float64(2.0)"
      ]
     },
     "execution_count": 66,
     "metadata": {},
     "output_type": "execute_result"
    }
   ],
   "source": [
    "s.median()"
   ]
  },
  {
   "cell_type": "markdown",
   "id": "401a7e8a-ea4f-4e32-9a15-4fd3e7b40236",
   "metadata": {},
   "source": [
    "### Quantiles"
   ]
  },
  {
   "cell_type": "code",
   "execution_count": 67,
   "id": "2e45c3ed-5846-4a7c-90e7-ab72b79dfe99",
   "metadata": {},
   "outputs": [
    {
     "data": {
      "text/plain": [
       "np.float64(2.0)"
      ]
     },
     "execution_count": 67,
     "metadata": {},
     "output_type": "execute_result"
    }
   ],
   "source": [
    "s.quantile(0.5) # this is equivalent to the median"
   ]
  },
  {
   "cell_type": "code",
   "execution_count": 68,
   "id": "f419219f-db2f-44a3-9b1c-8ba78de355d5",
   "metadata": {},
   "outputs": [
    {
     "data": {
      "text/plain": [
       "0.25    1.5\n",
       "0.50    2.0\n",
       "0.75    4.0\n",
       "dtype: float64"
      ]
     },
     "execution_count": 68,
     "metadata": {},
     "output_type": "execute_result"
    }
   ],
   "source": [
    "s.quantile([0.25, 0.5, 0.75])"
   ]
  },
  {
   "cell_type": "markdown",
   "id": "1245d600-3115-4881-a325-34be7a2e5b26",
   "metadata": {},
   "source": [
    "#### Quantiles vs Quartiles"
   ]
  },
  {
   "cell_type": "markdown",
   "id": "def19dab-c630-4476-81f7-2083c25011ab",
   "metadata": {},
   "source": [
    "Quantiles are division of the dataset in k equal parts\n",
    "Common quantiles are:\n",
    "- median: divides the data into 2 equal parts (2 quantiles)\n",
    "- percentile: divides the data into 100 equal parts\n",
    "- quartiles: divides the data into 4 equal parts"
   ]
  },
  {
   "cell_type": "markdown",
   "id": "d2967f1e-a7ca-4475-8184-5abb10da08b8",
   "metadata": {},
   "source": [
    "Quartiles are a special case of quantiles where the data is divided into 4 equal part.\n",
    "There are 3 quartiles:\n",
    "- first quartile (Q1): separates the lowest 25% of the data. Also called the 25th percentile.\n",
    "- second quartile (Q2): separates the data in two parts. Also called 50th percentile or median.\n",
    "- third quartile (Q3): separates the upper 25% of the data. Also called 75th percentile."
   ]
  },
  {
   "cell_type": "code",
   "execution_count": 69,
   "id": "9aae4404-56c8-43f4-a3ba-039bb08195d7",
   "metadata": {},
   "outputs": [
    {
     "data": {
      "text/plain": [
       "0.10    1.2\n",
       "0.95    4.8\n",
       "dtype: float64"
      ]
     },
     "execution_count": 69,
     "metadata": {},
     "output_type": "execute_result"
    }
   ],
   "source": [
    "s.quantile([0.1, 0.95])  # 10th and 95th percentiles"
   ]
  },
  {
   "cell_type": "markdown",
   "id": "3edf50da-1968-4dcd-be9b-658119e0f530",
   "metadata": {},
   "source": [
    "### Descriptive Stats"
   ]
  },
  {
   "cell_type": "code",
   "execution_count": 70,
   "id": "6553dd8f-e1b6-4bb7-a772-8331232b2213",
   "metadata": {},
   "outputs": [
    {
     "data": {
      "text/plain": [
       "count    5.000000\n",
       "mean     2.700000\n",
       "std      1.717556\n",
       "min      1.000000\n",
       "25%      1.500000\n",
       "50%      2.000000\n",
       "75%      4.000000\n",
       "max      5.000000\n",
       "dtype: float64"
      ]
     },
     "execution_count": 70,
     "metadata": {},
     "output_type": "execute_result"
    }
   ],
   "source": [
    "s.describe()"
   ]
  },
  {
   "cell_type": "markdown",
   "id": "76112bfe-10e3-49c9-b0d0-39589e65673f",
   "metadata": {},
   "source": [
    "### How many times a value is in series?"
   ]
  },
  {
   "cell_type": "code",
   "execution_count": 71,
   "id": "3c7ea2d3-94ce-4d95-a37f-a65c2056b6a5",
   "metadata": {},
   "outputs": [
    {
     "data": {
      "text/plain": [
       "1.0    1\n",
       "2.0    1\n",
       "1.5    1\n",
       "5.0    1\n",
       "4.0    1\n",
       "Name: count, dtype: int64"
      ]
     },
     "execution_count": 71,
     "metadata": {},
     "output_type": "execute_result"
    }
   ],
   "source": [
    "s.value_counts()"
   ]
  },
  {
   "cell_type": "markdown",
   "id": "387abab9-9884-407f-a6e7-9e8eca2e9fd5",
   "metadata": {},
   "source": [
    "`value_counts()` returns a series. The index are the unique values and the values are the counts. It is sorted in descending order."
   ]
  },
  {
   "cell_type": "code",
   "execution_count": 72,
   "id": "2bec79d8-f040-4ddc-b306-a9245f1156ce",
   "metadata": {},
   "outputs": [
    {
     "data": {
      "text/plain": [
       "1.0    0.2\n",
       "2.0    0.2\n",
       "1.5    0.2\n",
       "5.0    0.2\n",
       "4.0    0.2\n",
       "Name: proportion, dtype: float64"
      ]
     },
     "execution_count": 72,
     "metadata": {},
     "output_type": "execute_result"
    }
   ],
   "source": [
    "# you can also get the % values\n",
    "s.value_counts(normalize=True)\n",
    "               "
   ]
  },
  {
   "cell_type": "markdown",
   "id": "3d708609-bab7-4384-bab6-7461ef703a08",
   "metadata": {},
   "source": [
    "### Duplicates"
   ]
  },
  {
   "cell_type": "code",
   "execution_count": 73,
   "id": "4ba26262-6170-4c83-96b8-eb178a9aa121",
   "metadata": {},
   "outputs": [
    {
     "data": {
      "text/plain": [
       "a    False\n",
       "b    False\n",
       "c    False\n",
       "d    False\n",
       "e    False\n",
       "dtype: bool"
      ]
     },
     "execution_count": 73,
     "metadata": {},
     "output_type": "execute_result"
    }
   ],
   "source": [
    "s.duplicated()"
   ]
  },
  {
   "cell_type": "markdown",
   "id": "9250223a-c314-4389-81fc-b3c2970ad45b",
   "metadata": {},
   "source": [
    "### Unique Elements"
   ]
  },
  {
   "cell_type": "code",
   "execution_count": 74,
   "id": "c99dc629-bad2-4997-9c9f-461fa11e6028",
   "metadata": {},
   "outputs": [
    {
     "data": {
      "text/plain": [
       "array([1. , 2. , 1.5, 5. , 4. ])"
      ]
     },
     "execution_count": 74,
     "metadata": {},
     "output_type": "execute_result"
    }
   ],
   "source": [
    "s.unique()\n",
    "# this returns a numpy array, not a pandas series"
   ]
  },
  {
   "cell_type": "markdown",
   "id": "4625fbbb-5f30-4951-980f-784985b0307b",
   "metadata": {},
   "source": [
    "### Replace"
   ]
  },
  {
   "cell_type": "code",
   "execution_count": 75,
   "id": "e55a827b-2167-416f-920c-ba60a76ecf1a",
   "metadata": {},
   "outputs": [
    {
     "data": {
      "text/plain": [
       "a    1.0\n",
       "b    2.0\n",
       "c    1.5\n",
       "d    5.0\n",
       "e    4.0\n",
       "dtype: float64"
      ]
     },
     "execution_count": 75,
     "metadata": {},
     "output_type": "execute_result"
    }
   ],
   "source": [
    "s"
   ]
  },
  {
   "cell_type": "code",
   "execution_count": 76,
   "id": "d1272c2c-17d2-4d50-b732-24fbffec1673",
   "metadata": {},
   "outputs": [
    {
     "data": {
      "text/plain": [
       "a    10.0\n",
       "b     2.0\n",
       "c     1.5\n",
       "d     5.0\n",
       "e     4.0\n",
       "dtype: float64"
      ]
     },
     "execution_count": 76,
     "metadata": {},
     "output_type": "execute_result"
    }
   ],
   "source": [
    "s.replace(1, 10)"
   ]
  },
  {
   "cell_type": "code",
   "execution_count": 77,
   "id": "c117e4f4-5cbc-4103-a133-bfb086db451a",
   "metadata": {},
   "outputs": [
    {
     "data": {
      "text/plain": [
       "a     1.0\n",
       "b    20.0\n",
       "c     1.5\n",
       "d    50.0\n",
       "e     4.0\n",
       "dtype: float64"
      ]
     },
     "execution_count": 77,
     "metadata": {},
     "output_type": "execute_result"
    }
   ],
   "source": [
    "s.replace({2: 20, 5: 50})"
   ]
  },
  {
   "cell_type": "markdown",
   "id": "1b0c1d52-fb7b-4367-afa3-def4288013e6",
   "metadata": {},
   "source": [
    "### Sort"
   ]
  },
  {
   "cell_type": "code",
   "execution_count": 78,
   "id": "d4eb00bd-f316-48d5-b13f-7ae9b61601bf",
   "metadata": {},
   "outputs": [
    {
     "data": {
      "text/plain": [
       "a    1.0\n",
       "c    1.5\n",
       "b    2.0\n",
       "e    4.0\n",
       "d    5.0\n",
       "dtype: float64"
      ]
     },
     "execution_count": 78,
     "metadata": {},
     "output_type": "execute_result"
    }
   ],
   "source": [
    "s.sort_values()"
   ]
  },
  {
   "cell_type": "code",
   "execution_count": 79,
   "id": "6310d5f0-5717-401a-b6a6-d4a446eaaa7a",
   "metadata": {},
   "outputs": [
    {
     "data": {
      "text/plain": [
       "d    5.0\n",
       "e    4.0\n",
       "b    2.0\n",
       "c    1.5\n",
       "a    1.0\n",
       "dtype: float64"
      ]
     },
     "execution_count": 79,
     "metadata": {},
     "output_type": "execute_result"
    }
   ],
   "source": [
    "s.sort_values(ascending=False)"
   ]
  },
  {
   "cell_type": "code",
   "execution_count": 80,
   "id": "f91f1974-1706-48aa-99c0-806c089bfc70",
   "metadata": {},
   "outputs": [
    {
     "data": {
      "text/plain": [
       "a    1.0\n",
       "c    1.5\n",
       "dtype: float64"
      ]
     },
     "execution_count": 80,
     "metadata": {},
     "output_type": "execute_result"
    }
   ],
   "source": [
    "# describe the 2 smallest values in the series\n",
    "s.sort_values()[:2]"
   ]
  },
  {
   "cell_type": "code",
   "execution_count": 81,
   "id": "b723c499-d05c-4d8f-b55b-576c61ddbaa2",
   "metadata": {},
   "outputs": [
    {
     "data": {
      "text/plain": [
       "count    2.000000\n",
       "mean     1.250000\n",
       "std      0.353553\n",
       "min      1.000000\n",
       "25%      1.125000\n",
       "50%      1.250000\n",
       "75%      1.375000\n",
       "max      1.500000\n",
       "dtype: float64"
      ]
     },
     "execution_count": 81,
     "metadata": {},
     "output_type": "execute_result"
    }
   ],
   "source": [
    "s.sort_values()[:2].describe()"
   ]
  },
  {
   "cell_type": "code",
   "execution_count": 82,
   "id": "20d3d784-d285-4c60-ae70-e8569095f19e",
   "metadata": {},
   "outputs": [],
   "source": [
    "# NaN are always sorted last (as default). Otherwise you need to add 'na_position'"
   ]
  },
  {
   "cell_type": "code",
   "execution_count": 83,
   "id": "744e3411-ac08-4580-affb-ed22cd3e99ed",
   "metadata": {},
   "outputs": [],
   "source": [
    "s[\"c\"] = None"
   ]
  },
  {
   "cell_type": "code",
   "execution_count": 84,
   "id": "166b842d-82a5-42e5-8584-8859f327d63d",
   "metadata": {},
   "outputs": [
    {
     "data": {
      "text/plain": [
       "a    1.0\n",
       "b    2.0\n",
       "c    NaN\n",
       "d    5.0\n",
       "e    4.0\n",
       "dtype: float64"
      ]
     },
     "execution_count": 84,
     "metadata": {},
     "output_type": "execute_result"
    }
   ],
   "source": [
    "s"
   ]
  },
  {
   "cell_type": "code",
   "execution_count": 85,
   "id": "c5b99889-62a6-462f-a355-7e160e7b7250",
   "metadata": {},
   "outputs": [
    {
     "data": {
      "text/plain": [
       "a    1.0\n",
       "b    2.0\n",
       "e    4.0\n",
       "d    5.0\n",
       "c    NaN\n",
       "dtype: float64"
      ]
     },
     "execution_count": 85,
     "metadata": {},
     "output_type": "execute_result"
    }
   ],
   "source": [
    "s.sort_values()"
   ]
  },
  {
   "cell_type": "code",
   "execution_count": 86,
   "id": "70957b5a-74b8-4074-acf6-c52edf4cfd62",
   "metadata": {},
   "outputs": [
    {
     "data": {
      "text/plain": [
       "d    5.0\n",
       "e    4.0\n",
       "b    2.0\n",
       "a    1.0\n",
       "c    NaN\n",
       "dtype: float64"
      ]
     },
     "execution_count": 86,
     "metadata": {},
     "output_type": "execute_result"
    }
   ],
   "source": [
    "s.sort_values(ascending=False)"
   ]
  },
  {
   "cell_type": "code",
   "execution_count": 87,
   "id": "3c36d5d6-cf57-4966-afbb-bf6ae077e5c5",
   "metadata": {},
   "outputs": [
    {
     "data": {
      "text/plain": [
       "c    NaN\n",
       "a    1.0\n",
       "b    2.0\n",
       "e    4.0\n",
       "d    5.0\n",
       "dtype: float64"
      ]
     },
     "execution_count": 87,
     "metadata": {},
     "output_type": "execute_result"
    }
   ],
   "source": [
    "s.sort_values(na_position='first')"
   ]
  },
  {
   "cell_type": "markdown",
   "id": "f8827fb8-3442-4253-b326-654917e0c6ff",
   "metadata": {},
   "source": [
    "If the series is made of string, capital letters come before small caps; then is alphabetical."
   ]
  },
  {
   "cell_type": "markdown",
   "id": "e9ef12e7-45b8-4f13-8425-ab367402f277",
   "metadata": {},
   "source": [
    "## Apply"
   ]
  },
  {
   "cell_type": "markdown",
   "id": "ab0420f3-09ec-486b-97b6-0b928ae6eea4",
   "metadata": {},
   "source": [
    "The `apply()` method is useful to apply a function to each element of the series"
   ]
  },
  {
   "cell_type": "code",
   "execution_count": 88,
   "id": "4e2cdfda-d3bb-4baa-8786-1fdb38bd1eb8",
   "metadata": {},
   "outputs": [
    {
     "data": {
      "text/plain": [
       "a    1.0\n",
       "b    2.0\n",
       "c    NaN\n",
       "d    5.0\n",
       "e    4.0\n",
       "dtype: float64"
      ]
     },
     "execution_count": 88,
     "metadata": {},
     "output_type": "execute_result"
    }
   ],
   "source": [
    "s"
   ]
  },
  {
   "cell_type": "code",
   "execution_count": 89,
   "id": "640ded53-d7b3-401d-9365-6af5a646f5f9",
   "metadata": {},
   "outputs": [
    {
     "data": {
      "text/plain": [
       "a     1.0\n",
       "b     4.0\n",
       "c     NaN\n",
       "d    25.0\n",
       "e    16.0\n",
       "dtype: float64"
      ]
     },
     "execution_count": 89,
     "metadata": {},
     "output_type": "execute_result"
    }
   ],
   "source": [
    "s.apply(lambda x: x**2)"
   ]
  },
  {
   "cell_type": "markdown",
   "id": "27d91fed-b36f-4c38-a6c3-b48884a2b87e",
   "metadata": {},
   "source": [
    "You can also define a custom function"
   ]
  },
  {
   "cell_type": "code",
   "execution_count": 90,
   "id": "c5bfa9cd-84ea-458f-bf7c-7f8052c90f28",
   "metadata": {},
   "outputs": [],
   "source": [
    "def categorise_number(x):\n",
    "    if x < 3:\n",
    "        return \"small\"\n",
    "    elif x < 5:\n",
    "        return \"medium\"\n",
    "    else:\n",
    "        return \"big\""
   ]
  },
  {
   "cell_type": "code",
   "execution_count": 91,
   "id": "e8d6e094-c6ec-49c6-991d-53121bf4346e",
   "metadata": {},
   "outputs": [
    {
     "data": {
      "text/plain": [
       "a     small\n",
       "b     small\n",
       "c       big\n",
       "d       big\n",
       "e    medium\n",
       "dtype: object"
      ]
     },
     "execution_count": 91,
     "metadata": {},
     "output_type": "execute_result"
    }
   ],
   "source": [
    "s.apply(categorise_number)"
   ]
  },
  {
   "cell_type": "code",
   "execution_count": 92,
   "id": "d105f83e-ee8e-4096-b40a-6f0513cb3613",
   "metadata": {},
   "outputs": [
    {
     "data": {
      "text/plain": [
       "0    This\n",
       "1      is\n",
       "2       a\n",
       "3    test\n",
       "4       4\n",
       "dtype: object"
      ]
     },
     "execution_count": 92,
     "metadata": {},
     "output_type": "execute_result"
    }
   ],
   "source": [
    "# get the length of each element of the series\n",
    "s = pd.Series(data=\"This is a test 4\".split())\n",
    "s"
   ]
  },
  {
   "cell_type": "code",
   "execution_count": 93,
   "id": "cdc5445b-7a16-4bd1-b4da-6629a1d0413c",
   "metadata": {},
   "outputs": [
    {
     "data": {
      "text/plain": [
       "0    4\n",
       "1    2\n",
       "2    1\n",
       "3    4\n",
       "4    1\n",
       "dtype: int64"
      ]
     },
     "execution_count": 93,
     "metadata": {},
     "output_type": "execute_result"
    }
   ],
   "source": [
    "s.apply(len)"
   ]
  },
  {
   "cell_type": "markdown",
   "id": "da33c4b4-16cd-487e-8ac8-8a160e2ef787",
   "metadata": {},
   "source": [
    "## Str method\n",
    "\n",
    "The `.str` accessor allows you to apply string operations directly on each element of the Series"
   ]
  },
  {
   "cell_type": "code",
   "execution_count": 94,
   "id": "a3aab9ff-28c9-4144-ad91-38a12d98f004",
   "metadata": {},
   "outputs": [
    {
     "data": {
      "text/plain": [
       "0    4\n",
       "1    2\n",
       "2    1\n",
       "3    4\n",
       "4    1\n",
       "dtype: int64"
      ]
     },
     "execution_count": 94,
     "metadata": {},
     "output_type": "execute_result"
    }
   ],
   "source": [
    "s.str.len()"
   ]
  },
  {
   "cell_type": "code",
   "execution_count": 95,
   "id": "d5f5b9a3-ab7d-40c7-aa8d-88355e0d0520",
   "metadata": {},
   "outputs": [
    {
     "data": {
      "text/plain": [
       "0    False\n",
       "1    False\n",
       "2    False\n",
       "3    False\n",
       "4     True\n",
       "dtype: bool"
      ]
     },
     "execution_count": 95,
     "metadata": {},
     "output_type": "execute_result"
    }
   ],
   "source": [
    "# find numbers in a series\n",
    "s.str.isdigit()"
   ]
  },
  {
   "cell_type": "code",
   "execution_count": 96,
   "id": "0715832f-72ef-44e1-baa2-2a94606ebe93",
   "metadata": {},
   "outputs": [
    {
     "data": {
      "text/plain": [
       "0    False\n",
       "1    False\n",
       "2    False\n",
       "3     True\n",
       "4    False\n",
       "dtype: bool"
      ]
     },
     "execution_count": 96,
     "metadata": {},
     "output_type": "execute_result"
    }
   ],
   "source": [
    "# find elements that start/end with a letter\n",
    "s.str.startswith(\"t\")"
   ]
  },
  {
   "cell_type": "code",
   "execution_count": 97,
   "id": "3c95980c-0fcc-4abf-a79e-8b6d37b48ae2",
   "metadata": {},
   "outputs": [
    {
     "data": {
      "text/plain": [
       "0     True\n",
       "1    False\n",
       "2    False\n",
       "3     True\n",
       "4    False\n",
       "dtype: bool"
      ]
     },
     "execution_count": 97,
     "metadata": {},
     "output_type": "execute_result"
    }
   ],
   "source": [
    "s.str.startswith(('t', 'T')) # one or the other"
   ]
  },
  {
   "cell_type": "code",
   "execution_count": 98,
   "id": "b4e1256e-b071-4a4d-a7f3-43493fb640bb",
   "metadata": {},
   "outputs": [
    {
     "data": {
      "text/plain": [
       "0     True\n",
       "1     True\n",
       "2    False\n",
       "3    False\n",
       "4    False\n",
       "dtype: bool"
      ]
     },
     "execution_count": 98,
     "metadata": {},
     "output_type": "execute_result"
    }
   ],
   "source": [
    "s.str.endswith(\"s\")"
   ]
  },
  {
   "cell_type": "code",
   "execution_count": 99,
   "id": "98ab3872-e07c-4f19-b0ac-f019b7bff20b",
   "metadata": {},
   "outputs": [
    {
     "data": {
      "text/plain": [
       "0    T\n",
       "1    i\n",
       "2    a\n",
       "3    t\n",
       "4    4\n",
       "dtype: object"
      ]
     },
     "execution_count": 99,
     "metadata": {},
     "output_type": "execute_result"
    }
   ],
   "source": [
    "# get the first letter of each element\n",
    "s.str[0]"
   ]
  },
  {
   "cell_type": "code",
   "execution_count": 100,
   "id": "d02e1a6e-7ff4-4ce2-b0ee-e0b9b5832af8",
   "metadata": {},
   "outputs": [
    {
     "data": {
      "text/plain": [
       "0    T\n",
       "1    i\n",
       "2    a\n",
       "3    t\n",
       "4    4\n",
       "dtype: object"
      ]
     },
     "execution_count": 100,
     "metadata": {},
     "output_type": "execute_result"
    }
   ],
   "source": [
    "s.str.get(0)"
   ]
  },
  {
   "cell_type": "code",
   "execution_count": 101,
   "id": "96503cfb-debd-428c-9c2e-71508ee62f55",
   "metadata": {},
   "outputs": [
    {
     "data": {
      "text/plain": [
       "0    Thi\n",
       "1     is\n",
       "2      a\n",
       "3    tes\n",
       "4      4\n",
       "dtype: object"
      ]
     },
     "execution_count": 101,
     "metadata": {},
     "output_type": "execute_result"
    }
   ],
   "source": [
    "s.str[:3]"
   ]
  },
  {
   "cell_type": "code",
   "execution_count": 102,
   "id": "ef4f9a8a-1408-4dde-9546-cc458ff3218a",
   "metadata": {},
   "outputs": [
    {
     "data": {
      "text/plain": [
       "0      s\n",
       "1    NaN\n",
       "2    NaN\n",
       "3      t\n",
       "4    NaN\n",
       "dtype: object"
      ]
     },
     "execution_count": 102,
     "metadata": {},
     "output_type": "execute_result"
    }
   ],
   "source": [
    "s.str[3]"
   ]
  },
  {
   "cell_type": "code",
   "execution_count": 103,
   "id": "abc4468e-b359-405b-a4e8-6615f7f24f1c",
   "metadata": {},
   "outputs": [
    {
     "data": {
      "text/plain": [
       "0    s\n",
       "3    t\n",
       "dtype: object"
      ]
     },
     "execution_count": 103,
     "metadata": {},
     "output_type": "execute_result"
    }
   ],
   "source": [
    "s.str[3].dropna()"
   ]
  },
  {
   "cell_type": "code",
   "execution_count": 104,
   "id": "45db0256-5c32-4498-a5ff-9ec2595ea46f",
   "metadata": {},
   "outputs": [
    {
     "data": {
      "text/plain": [
       "0    T\n",
       "1    i\n",
       "2    a\n",
       "3    t\n",
       "4    4\n",
       "dtype: object"
      ]
     },
     "execution_count": 104,
     "metadata": {},
     "output_type": "execute_result"
    }
   ],
   "source": [
    "# find the elements where the first letter is equal to the last\n",
    "s.str[0]"
   ]
  },
  {
   "cell_type": "code",
   "execution_count": 105,
   "id": "1a8d61e5-c1de-494f-b052-6e9b2175cb32",
   "metadata": {},
   "outputs": [
    {
     "data": {
      "text/plain": [
       "0    s\n",
       "1    s\n",
       "2    a\n",
       "3    t\n",
       "4    4\n",
       "dtype: object"
      ]
     },
     "execution_count": 105,
     "metadata": {},
     "output_type": "execute_result"
    }
   ],
   "source": [
    "s.str[-1]"
   ]
  },
  {
   "cell_type": "code",
   "execution_count": 106,
   "id": "4ded9486-6faf-4ea9-8639-ac9cb65a3444",
   "metadata": {},
   "outputs": [
    {
     "data": {
      "text/plain": [
       "2       a\n",
       "3    test\n",
       "4       4\n",
       "dtype: object"
      ]
     },
     "execution_count": 106,
     "metadata": {},
     "output_type": "execute_result"
    }
   ],
   "source": [
    "s[s.str[0] == s.str[-1]]"
   ]
  },
  {
   "cell_type": "code",
   "execution_count": 107,
   "id": "a05fbaad-7ae3-41d8-8402-b3ce5ce4085c",
   "metadata": {},
   "outputs": [
    {
     "data": {
      "text/plain": [
       "2    a\n",
       "dtype: object"
      ]
     },
     "execution_count": 107,
     "metadata": {},
     "output_type": "execute_result"
    }
   ],
   "source": [
    "s[s.str.contains(\"a\")]"
   ]
  },
  {
   "cell_type": "code",
   "execution_count": 108,
   "id": "9d21ec55-29e7-476e-bf4e-0fc84fa49dda",
   "metadata": {},
   "outputs": [
    {
     "data": {
      "text/plain": [
       "2       a\n",
       "3    test\n",
       "dtype: object"
      ]
     },
     "execution_count": 108,
     "metadata": {},
     "output_type": "execute_result"
    }
   ],
   "source": [
    "# contains expects a regex\n",
    "s[s.str.contains(\"a|t\")]"
   ]
  },
  {
   "cell_type": "code",
   "execution_count": 109,
   "id": "e2f13230-0a65-4641-bc48-e6404506ac16",
   "metadata": {},
   "outputs": [
    {
     "data": {
      "text/plain": [
       "0   -1\n",
       "1   -1\n",
       "2   -1\n",
       "3   -1\n",
       "4    0\n",
       "dtype: int64"
      ]
     },
     "execution_count": 109,
     "metadata": {},
     "output_type": "execute_result"
    }
   ],
   "source": [
    "# find returns the index of the first apparance of the element\n",
    "# -1 means that the string was not found\n",
    "s.str.find('4')"
   ]
  },
  {
   "cell_type": "code",
   "execution_count": 110,
   "id": "85e08d65-10c3-4119-921d-01206cfc4a83",
   "metadata": {},
   "outputs": [
    {
     "data": {
      "text/plain": [
       "0   -1\n",
       "1   -1\n",
       "2   -1\n",
       "3    0\n",
       "4   -1\n",
       "dtype: int64"
      ]
     },
     "execution_count": 110,
     "metadata": {},
     "output_type": "execute_result"
    }
   ],
   "source": [
    "s.str.find(\"t\")"
   ]
  },
  {
   "cell_type": "code",
   "execution_count": 111,
   "id": "4d05a372-42da-4fba-9843-6e71b3621336",
   "metadata": {},
   "outputs": [
    {
     "data": {
      "text/plain": [
       "0    2\n",
       "1    0\n",
       "2   -1\n",
       "3   -1\n",
       "4   -1\n",
       "dtype: int64"
      ]
     },
     "execution_count": 111,
     "metadata": {},
     "output_type": "execute_result"
    }
   ],
   "source": [
    "s.str.find(\"i\")"
   ]
  },
  {
   "cell_type": "code",
   "execution_count": 112,
   "id": "c58770d6-b53f-4021-8702-1833bd5c9e61",
   "metadata": {},
   "outputs": [
    {
     "data": {
      "text/plain": [
       "0    This\n",
       "1      Is\n",
       "2       A\n",
       "3    Test\n",
       "4       4\n",
       "dtype: object"
      ]
     },
     "execution_count": 112,
     "metadata": {},
     "output_type": "execute_result"
    }
   ],
   "source": [
    "s.str.capitalize()"
   ]
  },
  {
   "cell_type": "code",
   "execution_count": 113,
   "id": "f3865b01-f227-4cda-8e67-70686cbbb5b7",
   "metadata": {},
   "outputs": [
    {
     "data": {
      "text/plain": [
       "0    this\n",
       "1      is\n",
       "2       a\n",
       "3    test\n",
       "4       4\n",
       "dtype: object"
      ]
     },
     "execution_count": 113,
     "metadata": {},
     "output_type": "execute_result"
    }
   ],
   "source": [
    "s.str.lower()"
   ]
  },
  {
   "cell_type": "code",
   "execution_count": 114,
   "id": "ff5efbb2-d435-41c6-b041-bf55ef4c1ea2",
   "metadata": {},
   "outputs": [
    {
     "data": {
      "text/plain": [
       "0    THIS\n",
       "1      IS\n",
       "2       A\n",
       "3    TEST\n",
       "4       4\n",
       "dtype: object"
      ]
     },
     "execution_count": 114,
     "metadata": {},
     "output_type": "execute_result"
    }
   ],
   "source": [
    "s.str.upper()"
   ]
  },
  {
   "cell_type": "code",
   "execution_count": 115,
   "id": "29aedeba-52b3-4398-8556-103502448874",
   "metadata": {},
   "outputs": [
    {
     "data": {
      "text/plain": [
       "0    Th*s\n",
       "1      *s\n",
       "2       a\n",
       "3    test\n",
       "4       4\n",
       "dtype: object"
      ]
     },
     "execution_count": 115,
     "metadata": {},
     "output_type": "execute_result"
    }
   ],
   "source": [
    "s.str.replace(\"i\", \"*\")"
   ]
  },
  {
   "cell_type": "code",
   "execution_count": 116,
   "id": "1c02606f-045b-4854-94b6-dc28ca4f9eb9",
   "metadata": {},
   "outputs": [
    {
     "data": {
      "text/plain": [
       "0    This\n",
       "1      is\n",
       "2       a\n",
       "3    test\n",
       "4       4\n",
       "dtype: object"
      ]
     },
     "execution_count": 116,
     "metadata": {},
     "output_type": "execute_result"
    }
   ],
   "source": [
    "s.str.strip() # removes whitespaces from the outside"
   ]
  },
  {
   "cell_type": "markdown",
   "id": "d48ed616-db7f-4b18-8cb7-9cd4dc912da8",
   "metadata": {},
   "source": [
    "# Plots"
   ]
  },
  {
   "cell_type": "code",
   "execution_count": 117,
   "id": "0a0043b4-b597-4fb5-95a2-86093de0ef59",
   "metadata": {},
   "outputs": [],
   "source": [
    "import matplotlib.pyplot as plt"
   ]
  },
  {
   "cell_type": "code",
   "execution_count": 118,
   "id": "0da7891e-5373-497b-b7f3-46739583cb5d",
   "metadata": {},
   "outputs": [
    {
     "data": {
      "text/plain": [
       "0    10\n",
       "1    20\n",
       "2    30\n",
       "3    40\n",
       "4    50\n",
       "dtype: int64"
      ]
     },
     "execution_count": 118,
     "metadata": {},
     "output_type": "execute_result"
    }
   ],
   "source": [
    "s = pd.Series(data=[10, 20, 30, 40, 50])\n",
    "s"
   ]
  },
  {
   "cell_type": "code",
   "execution_count": 119,
   "id": "2af09b81-89a5-4c33-8531-d52d49c89c6b",
   "metadata": {},
   "outputs": [
    {
     "data": {
      "text/plain": [
       "[<matplotlib.lines.Line2D at 0x118ff9890>]"
      ]
     },
     "execution_count": 119,
     "metadata": {},
     "output_type": "execute_result"
    },
    {
     "data": {
      "image/png": "[encoded data removed]",
      "text/plain": [
       "<Figure size 640x480 with 1 Axes>"
      ]
     },
     "metadata": {},
     "output_type": "display_data"
    }
   ],
   "source": [
    "plt.plot(s)"
   ]
  },
  {
   "cell_type": "code",
   "execution_count": 120,
   "id": "84945462-32a3-42ab-b594-cdb6904d2363",
   "metadata": {},
   "outputs": [],
   "source": [
    "# let's change the index\n",
    "s.index = list('abcde')"
   ]
  },
  {
   "cell_type": "code",
   "execution_count": 121,
   "id": "8a5d0169-54ac-4f9a-b269-31e2803cf77b",
   "metadata": {},
   "outputs": [
    {
     "data": {
      "text/plain": [
       "[<matplotlib.lines.Line2D at 0x11956e7d0>]"
      ]
     },
     "execution_count": 121,
     "metadata": {},
     "output_type": "execute_result"
    },
    {
     "data": {
      "image/png": "[encoded data removed]",
      "text/plain": [
       "<Figure size 640x480 with 1 Axes>"
      ]
     },
     "metadata": {},
     "output_type": "display_data"
    }
   ],
   "source": [
    "plt.plot(s)"
   ]
  },
  {
   "cell_type": "code",
   "execution_count": 122,
   "id": "8a268628-cc7c-4ddf-b736-c9213522c2c8",
   "metadata": {},
   "outputs": [
    {
     "data": {
      "text/plain": [
       "[<matplotlib.lines.Line2D at 0x1195ff610>]"
      ]
     },
     "execution_count": 122,
     "metadata": {},
     "output_type": "execute_result"
    },
    {
     "data": {
      "image/png": "[encoded data removed]",
      "text/plain": [
       "<Figure size 640x480 with 1 Axes>"
      ]
     },
     "metadata": {},
     "output_type": "display_data"
    }
   ],
   "source": [
    "plt.plot(s, color='red')"
   ]
  },
  {
   "cell_type": "code",
   "execution_count": 123,
   "id": "b9d96130-86dd-4839-a997-c0cf66f2cc5a",
   "metadata": {},
   "outputs": [
    {
     "data": {
      "text/plain": [
       "[<matplotlib.lines.Line2D at 0x119696a10>]"
      ]
     },
     "execution_count": 123,
     "metadata": {},
     "output_type": "execute_result"
    },
    {
     "data": {
      "image/png": "[encoded data removed]",
      "text/plain": [
       "<Figure size 640x480 with 1 Axes>"
      ]
     },
     "metadata": {},
     "output_type": "display_data"
    }
   ],
   "source": [
    "plt.plot(s, color='red', linestyle='dashed')"
   ]
  },
  {
   "cell_type": "code",
   "execution_count": 124,
   "id": "362f8a97-2c8a-48f5-9d05-c73adf7f3bd7",
   "metadata": {},
   "outputs": [
    {
     "data": {
      "text/plain": [
       "<matplotlib.legend.Legend at 0x119617950>"
      ]
     },
     "execution_count": 124,
     "metadata": {},
     "output_type": "execute_result"
    },
    {
     "data": {
      "image/png": "[encoded data removed]",
      "text/plain": [
       "<Figure size 640x480 with 1 Axes>"
      ]
     },
     "metadata": {},
     "output_type": "display_data"
    }
   ],
   "source": [
    "plt.plot(s, '-o', color='green', label='s')\n",
    "plt.legend()"
   ]
  },
  {
   "cell_type": "markdown",
   "id": "111e7c5b-6ecd-4e92-870a-a91c45f07bbb",
   "metadata": {},
   "source": [
    "### Types of Plots"
   ]
  },
  {
   "cell_type": "code",
   "execution_count": 125,
   "id": "b7abe31c-192d-45e1-a0e6-513d02bb7a3b",
   "metadata": {},
   "outputs": [
    {
     "data": {
      "text/plain": [
       "[<matplotlib.lines.Line2D at 0x1196f5ad0>]"
      ]
     },
     "execution_count": 125,
     "metadata": {},
     "output_type": "execute_result"
    },
    {
     "data": {
      "image/png": "[encoded data removed]",
      "text/plain": [
       "<Figure size 640x480 with 1 Axes>"
      ]
     },
     "metadata": {},
     "output_type": "display_data"
    }
   ],
   "source": [
    "# line plot\n",
    "plt.plot(s)"
   ]
  },
  {
   "cell_type": "code",
   "execution_count": 126,
   "id": "3b6f858e-7b49-445b-b902-237550115acb",
   "metadata": {},
   "outputs": [
    {
     "data": {
      "text/plain": [
       "<BarContainer object of 5 artists>"
      ]
     },
     "execution_count": 126,
     "metadata": {},
     "output_type": "execute_result"
    },
    {
     "data": {
      "image/png": "[encoded data removed]",
      "text/plain": [
       "<Figure size 640x480 with 1 Axes>"
      ]
     },
     "metadata": {},
     "output_type": "display_data"
    }
   ],
   "source": [
    "# bar plot\n",
    "plt.bar(s.index, s.values)"
   ]
  },
  {
   "cell_type": "code",
   "execution_count": 127,
   "id": "b41abc9c-9ed8-4559-ae91-60d3806e8449",
   "metadata": {},
   "outputs": [
    {
     "data": {
      "text/plain": [
       "<BarContainer object of 5 artists>"
      ]
     },
     "execution_count": 127,
     "metadata": {},
     "output_type": "execute_result"
    },
    {
     "data": {
      "image/png": "[encoded data removed]",
      "text/plain": [
       "<Figure size 640x480 with 1 Axes>"
      ]
     },
     "metadata": {},
     "output_type": "display_data"
    }
   ],
   "source": [
    "# horizontal bar plot\n",
    "plt.barh(s.index, s.values)"
   ]
  },
  {
   "cell_type": "code",
   "execution_count": 128,
   "id": "5e5654dc-1fba-414a-9d05-9b95dcfc2444",
   "metadata": {},
   "outputs": [
    {
     "data": {
      "text/plain": [
       "(array([1., 0., 1., 0., 0., 1., 0., 1., 0., 1.]),\n",
       " array([10., 14., 18., 22., 26., 30., 34., 38., 42., 46., 50.]),\n",
       " <BarContainer object of 10 artists>)"
      ]
     },
     "execution_count": 128,
     "metadata": {},
     "output_type": "execute_result"
    },
    {
     "data": {
      "image/png": "[encoded data removed]",
      "text/plain": [
       "<Figure size 640x480 with 1 Axes>"
      ]
     },
     "metadata": {},
     "output_type": "display_data"
    }
   ],
   "source": [
    "# histogram\n",
    "plt.hist(s) # the values are divided in bins (x-axis) and on the y-axis you see the frequency"
   ]
  },
  {
   "cell_type": "code",
   "execution_count": 129,
   "id": "0232a30e-8c13-44c6-b275-f645474ed4b6",
   "metadata": {},
   "outputs": [
    {
     "data": {
      "text/plain": [
       "([<matplotlib.patches.Wedge at 0x119683710>,\n",
       "  <matplotlib.patches.Wedge at 0x119833d90>,\n",
       "  <matplotlib.patches.Wedge at 0x119982910>,\n",
       "  <matplotlib.patches.Wedge at 0x119983e50>,\n",
       "  <matplotlib.patches.Wedge at 0x119991190>],\n",
       " [Text(0.8899186825075615, 0.6465637930815537, '10'),\n",
       "  Text(-0.339918873399729, 1.0461621095732052, '20'),\n",
       "  Text(-1.0999999999999959, -9.616505800409723e-08, '30'),\n",
       "  Text(-0.3399183163461554, -1.046162290570825, '40'),\n",
       "  Text(0.8899186414035474, -0.6465638496563697, '50')])"
      ]
     },
     "execution_count": 129,
     "metadata": {},
     "output_type": "execute_result"
    },
    {
     "data": {
      "image/png": "[encoded data removed]",
      "text/plain": [
       "<Figure size 640x480 with 1 Axes>"
      ]
     },
     "metadata": {},
     "output_type": "display_data"
    }
   ],
   "source": [
    "# pie\n",
    "plt.pie(s.value_counts(), labels=s.value_counts().index)"
   ]
  },
  {
   "cell_type": "code",
   "execution_count": 130,
   "id": "d91d4d72-f4df-40df-8a76-9e14a567cf42",
   "metadata": {},
   "outputs": [
    {
     "data": {
      "text/plain": [
       "10    1\n",
       "20    1\n",
       "30    1\n",
       "40    1\n",
       "50    1\n",
       "Name: count, dtype: int64"
      ]
     },
     "execution_count": 130,
     "metadata": {},
     "output_type": "execute_result"
    }
   ],
   "source": [
    "s.value_counts()"
   ]
  },
  {
   "cell_type": "markdown",
   "id": "d1d7a21c-0b7c-473d-a009-ca9c369f4a9c",
   "metadata": {},
   "source": [
    "# DataFrames"
   ]
  },
  {
   "cell_type": "markdown",
   "id": "192c95de-a02b-4d40-b5d4-8fe3916e25e3",
   "metadata": {},
   "source": [
    "## Creating a DataFrame"
   ]
  },
  {
   "cell_type": "code",
   "execution_count": 131,
   "id": "cfca6609-aa1f-4cb4-ae73-04e10970cf2e",
   "metadata": {},
   "outputs": [],
   "source": [
    "# list of lists\n",
    "df = pd.DataFrame([[1, 2], [3, 4]], index=[\"a\", \"b\"], columns=[\"one\", \"two\"])"
   ]
  },
  {
   "cell_type": "code",
   "execution_count": 132,
   "id": "963e74cd-a820-4fcf-a027-af6656f1c372",
   "metadata": {},
   "outputs": [],
   "source": [
    "# or dict where keys are column names and values are lists\n",
    "df = pd.DataFrame({\"one\": [1, 3], \"two\": [2, 4]})"
   ]
  },
  {
   "cell_type": "code",
   "execution_count": 133,
   "id": "23162ad6-656d-42a4-82a1-62dd38ad5fe0",
   "metadata": {},
   "outputs": [
    {
     "data": {
      "text/html": [
       "<div>\n",
       "<style scoped>\n",
       "    .dataframe tbody tr th:only-of-type {\n",
       "        vertical-align: middle;\n",
       "    }\n",
       "\n",
       "    .dataframe tbody tr th {\n",
       "        vertical-align: top;\n",
       "    }\n",
       "\n",
       "    .dataframe thead th {\n",
       "        text-align: right;\n",
       "    }\n",
       "</style>\n",
       "<table border=\"1\" class=\"dataframe\">\n",
       "  <thead>\n",
       "    <tr style=\"text-align: right;\">\n",
       "      <th></th>\n",
       "      <th>one</th>\n",
       "      <th>two</th>\n",
       "    </tr>\n",
       "  </thead>\n",
       "  <tbody>\n",
       "    <tr>\n",
       "      <th>0</th>\n",
       "      <td>1</td>\n",
       "      <td>2</td>\n",
       "    </tr>\n",
       "    <tr>\n",
       "      <th>1</th>\n",
       "      <td>3</td>\n",
       "      <td>4</td>\n",
       "    </tr>\n",
       "  </tbody>\n",
       "</table>\n",
       "</div>"
      ],
      "text/plain": [
       "   one  two\n",
       "0    1    2\n",
       "1    3    4"
      ]
     },
     "execution_count": 133,
     "metadata": {},
     "output_type": "execute_result"
    }
   ],
   "source": [
    "df"
   ]
  },
  {
   "cell_type": "markdown",
   "id": "a48244bb-c5c0-4ab4-90d7-4a6377c108e4",
   "metadata": {},
   "source": [
    "Each list creates a row in the DataFrame. Once you have a df, each column is a series."
   ]
  },
  {
   "cell_type": "markdown",
   "id": "f5e17109-5fc2-43e2-98b0-ee957595e9af",
   "metadata": {},
   "source": [
    "The index and the columns can be changed also after the df is created"
   ]
  },
  {
   "cell_type": "code",
   "execution_count": 134,
   "id": "7124ed29-059a-470a-a519-39338299621a",
   "metadata": {},
   "outputs": [
    {
     "data": {
      "text/html": [
       "<div>\n",
       "<style scoped>\n",
       "    .dataframe tbody tr th:only-of-type {\n",
       "        vertical-align: middle;\n",
       "    }\n",
       "\n",
       "    .dataframe tbody tr th {\n",
       "        vertical-align: top;\n",
       "    }\n",
       "\n",
       "    .dataframe thead th {\n",
       "        text-align: right;\n",
       "    }\n",
       "</style>\n",
       "<table border=\"1\" class=\"dataframe\">\n",
       "  <thead>\n",
       "    <tr style=\"text-align: right;\">\n",
       "      <th></th>\n",
       "      <th>two</th>\n",
       "    </tr>\n",
       "  </thead>\n",
       "  <tbody>\n",
       "    <tr>\n",
       "      <th>0</th>\n",
       "      <td>2</td>\n",
       "    </tr>\n",
       "    <tr>\n",
       "      <th>1</th>\n",
       "      <td>4</td>\n",
       "    </tr>\n",
       "  </tbody>\n",
       "</table>\n",
       "</div>"
      ],
      "text/plain": [
       "   two\n",
       "0    2\n",
       "1    4"
      ]
     },
     "execution_count": 134,
     "metadata": {},
     "output_type": "execute_result"
    }
   ],
   "source": [
    "# NB: you can specify columns to exclude data\n",
    "pd.DataFrame({\"one\": [1, 3], \"two\": [2, 4]}, columns = [\"two\"])"
   ]
  },
  {
   "cell_type": "code",
   "execution_count": 135,
   "id": "ac1372c2-d1c5-4ce8-89bc-8a1946c6ea09",
   "metadata": {},
   "outputs": [
    {
     "data": {
      "text/html": [
       "<div>\n",
       "<style scoped>\n",
       "    .dataframe tbody tr th:only-of-type {\n",
       "        vertical-align: middle;\n",
       "    }\n",
       "\n",
       "    .dataframe tbody tr th {\n",
       "        vertical-align: top;\n",
       "    }\n",
       "\n",
       "    .dataframe thead th {\n",
       "        text-align: right;\n",
       "    }\n",
       "</style>\n",
       "<table border=\"1\" class=\"dataframe\">\n",
       "  <thead>\n",
       "    <tr style=\"text-align: right;\">\n",
       "      <th></th>\n",
       "      <th>one</th>\n",
       "      <th>two</th>\n",
       "    </tr>\n",
       "  </thead>\n",
       "  <tbody>\n",
       "    <tr>\n",
       "      <th>one</th>\n",
       "      <td>1</td>\n",
       "      <td>2</td>\n",
       "    </tr>\n",
       "    <tr>\n",
       "      <th>two</th>\n",
       "      <td>3</td>\n",
       "      <td>4</td>\n",
       "    </tr>\n",
       "  </tbody>\n",
       "</table>\n",
       "</div>"
      ],
      "text/plain": [
       "     one  two\n",
       "one    1    2\n",
       "two    3    4"
      ]
     },
     "execution_count": 135,
     "metadata": {},
     "output_type": "execute_result"
    }
   ],
   "source": [
    "df.index = [\"one\", \"two\"]\n",
    "df"
   ]
  },
  {
   "cell_type": "code",
   "execution_count": 136,
   "id": "4c02bc5d-4567-478d-85c6-0a5942127cd0",
   "metadata": {},
   "outputs": [
    {
     "data": {
      "text/html": [
       "<div>\n",
       "<style scoped>\n",
       "    .dataframe tbody tr th:only-of-type {\n",
       "        vertical-align: middle;\n",
       "    }\n",
       "\n",
       "    .dataframe tbody tr th {\n",
       "        vertical-align: top;\n",
       "    }\n",
       "\n",
       "    .dataframe thead th {\n",
       "        text-align: right;\n",
       "    }\n",
       "</style>\n",
       "<table border=\"1\" class=\"dataframe\">\n",
       "  <thead>\n",
       "    <tr style=\"text-align: right;\">\n",
       "      <th></th>\n",
       "      <th>a</th>\n",
       "      <th>b</th>\n",
       "    </tr>\n",
       "  </thead>\n",
       "  <tbody>\n",
       "    <tr>\n",
       "      <th>one</th>\n",
       "      <td>1</td>\n",
       "      <td>2</td>\n",
       "    </tr>\n",
       "    <tr>\n",
       "      <th>two</th>\n",
       "      <td>3</td>\n",
       "      <td>4</td>\n",
       "    </tr>\n",
       "  </tbody>\n",
       "</table>\n",
       "</div>"
      ],
      "text/plain": [
       "     a  b\n",
       "one  1  2\n",
       "two  3  4"
      ]
     },
     "execution_count": 136,
     "metadata": {},
     "output_type": "execute_result"
    }
   ],
   "source": [
    "df.columns = [\"a\", \"b\"]\n",
    "df"
   ]
  },
  {
   "cell_type": "markdown",
   "id": "73164b26-8331-4035-a57b-1777bc8984ef",
   "metadata": {},
   "source": [
    "## Retrieve one row"
   ]
  },
  {
   "cell_type": "code",
   "execution_count": 137,
   "id": "58073974-ad50-4453-9577-4d7f9fff80f8",
   "metadata": {},
   "outputs": [
    {
     "data": {
      "text/plain": [
       "a    1\n",
       "b    2\n",
       "Name: one, dtype: int64"
      ]
     },
     "execution_count": 137,
     "metadata": {},
     "output_type": "execute_result"
    }
   ],
   "source": [
    "df.loc[\"one\"]"
   ]
  },
  {
   "cell_type": "code",
   "execution_count": 138,
   "id": "a4227d4b-2152-4261-83ff-d2e35456ba1c",
   "metadata": {},
   "outputs": [
    {
     "data": {
      "text/plain": [
       "a    1\n",
       "b    2\n",
       "Name: one, dtype: int64"
      ]
     },
     "execution_count": 138,
     "metadata": {},
     "output_type": "execute_result"
    }
   ],
   "source": [
    "df.iloc[0]"
   ]
  },
  {
   "cell_type": "markdown",
   "id": "a0a7077e-41d1-41c1-868f-c10a25b4f956",
   "metadata": {},
   "source": [
    "Notice how the retrieved row becomes a series and the columns become the index of the new series."
   ]
  },
  {
   "cell_type": "markdown",
   "id": "3cf89b4b-4642-4a10-bd6a-c85f26be7e1f",
   "metadata": {},
   "source": [
    "## Retrieve multiple rows"
   ]
  },
  {
   "cell_type": "code",
   "execution_count": 139,
   "id": "d7e69ad2-eed2-47ba-8144-1e029e39bb30",
   "metadata": {},
   "outputs": [
    {
     "data": {
      "text/html": [
       "<div>\n",
       "<style scoped>\n",
       "    .dataframe tbody tr th:only-of-type {\n",
       "        vertical-align: middle;\n",
       "    }\n",
       "\n",
       "    .dataframe tbody tr th {\n",
       "        vertical-align: top;\n",
       "    }\n",
       "\n",
       "    .dataframe thead th {\n",
       "        text-align: right;\n",
       "    }\n",
       "</style>\n",
       "<table border=\"1\" class=\"dataframe\">\n",
       "  <thead>\n",
       "    <tr style=\"text-align: right;\">\n",
       "      <th></th>\n",
       "      <th>a</th>\n",
       "      <th>b</th>\n",
       "    </tr>\n",
       "  </thead>\n",
       "  <tbody>\n",
       "    <tr>\n",
       "      <th>one</th>\n",
       "      <td>1</td>\n",
       "      <td>2</td>\n",
       "    </tr>\n",
       "    <tr>\n",
       "      <th>two</th>\n",
       "      <td>3</td>\n",
       "      <td>4</td>\n",
       "    </tr>\n",
       "  </tbody>\n",
       "</table>\n",
       "</div>"
      ],
      "text/plain": [
       "     a  b\n",
       "one  1  2\n",
       "two  3  4"
      ]
     },
     "execution_count": 139,
     "metadata": {},
     "output_type": "execute_result"
    }
   ],
   "source": [
    "df"
   ]
  },
  {
   "cell_type": "code",
   "execution_count": 140,
   "id": "ff0cb2ec-3a25-415b-a865-e6eb29a05804",
   "metadata": {},
   "outputs": [
    {
     "data": {
      "text/plain": [
       "a    1\n",
       "b    2\n",
       "Name: one, dtype: int64"
      ]
     },
     "execution_count": 140,
     "metadata": {},
     "output_type": "execute_result"
    }
   ],
   "source": [
    "df.loc[\"one\"]"
   ]
  },
  {
   "cell_type": "code",
   "execution_count": 141,
   "id": "857748e7-b371-4cc6-aee5-56ee912d954d",
   "metadata": {},
   "outputs": [
    {
     "data": {
      "text/html": [
       "<div>\n",
       "<style scoped>\n",
       "    .dataframe tbody tr th:only-of-type {\n",
       "        vertical-align: middle;\n",
       "    }\n",
       "\n",
       "    .dataframe tbody tr th {\n",
       "        vertical-align: top;\n",
       "    }\n",
       "\n",
       "    .dataframe thead th {\n",
       "        text-align: right;\n",
       "    }\n",
       "</style>\n",
       "<table border=\"1\" class=\"dataframe\">\n",
       "  <thead>\n",
       "    <tr style=\"text-align: right;\">\n",
       "      <th></th>\n",
       "      <th>a</th>\n",
       "      <th>b</th>\n",
       "    </tr>\n",
       "  </thead>\n",
       "  <tbody>\n",
       "    <tr>\n",
       "      <th>one</th>\n",
       "      <td>1</td>\n",
       "      <td>2</td>\n",
       "    </tr>\n",
       "    <tr>\n",
       "      <th>two</th>\n",
       "      <td>3</td>\n",
       "      <td>4</td>\n",
       "    </tr>\n",
       "  </tbody>\n",
       "</table>\n",
       "</div>"
      ],
      "text/plain": [
       "     a  b\n",
       "one  1  2\n",
       "two  3  4"
      ]
     },
     "execution_count": 141,
     "metadata": {},
     "output_type": "execute_result"
    }
   ],
   "source": [
    "df.loc[[\"one\", \"two\"]]"
   ]
  },
  {
   "cell_type": "code",
   "execution_count": 142,
   "id": "103d2b6e-9f94-4cc3-af0f-ca4d56468647",
   "metadata": {},
   "outputs": [
    {
     "data": {
      "text/html": [
       "<div>\n",
       "<style scoped>\n",
       "    .dataframe tbody tr th:only-of-type {\n",
       "        vertical-align: middle;\n",
       "    }\n",
       "\n",
       "    .dataframe tbody tr th {\n",
       "        vertical-align: top;\n",
       "    }\n",
       "\n",
       "    .dataframe thead th {\n",
       "        text-align: right;\n",
       "    }\n",
       "</style>\n",
       "<table border=\"1\" class=\"dataframe\">\n",
       "  <thead>\n",
       "    <tr style=\"text-align: right;\">\n",
       "      <th></th>\n",
       "      <th>a</th>\n",
       "      <th>b</th>\n",
       "    </tr>\n",
       "  </thead>\n",
       "  <tbody>\n",
       "    <tr>\n",
       "      <th>one</th>\n",
       "      <td>1</td>\n",
       "      <td>2</td>\n",
       "    </tr>\n",
       "    <tr>\n",
       "      <th>two</th>\n",
       "      <td>3</td>\n",
       "      <td>4</td>\n",
       "    </tr>\n",
       "  </tbody>\n",
       "</table>\n",
       "</div>"
      ],
      "text/plain": [
       "     a  b\n",
       "one  1  2\n",
       "two  3  4"
      ]
     },
     "execution_count": 142,
     "metadata": {},
     "output_type": "execute_result"
    }
   ],
   "source": [
    "# note how the stop is included here\n",
    "df.loc[\"one\":\"two\"]"
   ]
  },
  {
   "cell_type": "code",
   "execution_count": 143,
   "id": "b743934d-8935-4742-9114-7fda3a3a550b",
   "metadata": {},
   "outputs": [
    {
     "data": {
      "text/html": [
       "<div>\n",
       "<style scoped>\n",
       "    .dataframe tbody tr th:only-of-type {\n",
       "        vertical-align: middle;\n",
       "    }\n",
       "\n",
       "    .dataframe tbody tr th {\n",
       "        vertical-align: top;\n",
       "    }\n",
       "\n",
       "    .dataframe thead th {\n",
       "        text-align: right;\n",
       "    }\n",
       "</style>\n",
       "<table border=\"1\" class=\"dataframe\">\n",
       "  <thead>\n",
       "    <tr style=\"text-align: right;\">\n",
       "      <th></th>\n",
       "      <th>a</th>\n",
       "      <th>b</th>\n",
       "    </tr>\n",
       "  </thead>\n",
       "  <tbody>\n",
       "    <tr>\n",
       "      <th>one</th>\n",
       "      <td>1</td>\n",
       "      <td>2</td>\n",
       "    </tr>\n",
       "  </tbody>\n",
       "</table>\n",
       "</div>"
      ],
      "text/plain": [
       "     a  b\n",
       "one  1  2"
      ]
     },
     "execution_count": 143,
     "metadata": {},
     "output_type": "execute_result"
    }
   ],
   "source": [
    "# if we use iloc, the stop is instead excluded\n",
    "df.iloc[0:1]"
   ]
  },
  {
   "cell_type": "markdown",
   "id": "7d76e25a-fb81-4dfa-bff2-7fdb57411375",
   "metadata": {},
   "source": [
    "## Retrive one column"
   ]
  },
  {
   "cell_type": "code",
   "execution_count": 144,
   "id": "a59ece46-da9a-44d3-9246-f0196e31124b",
   "metadata": {},
   "outputs": [
    {
     "data": {
      "text/plain": [
       "one    1\n",
       "two    3\n",
       "Name: a, dtype: int64"
      ]
     },
     "execution_count": 144,
     "metadata": {},
     "output_type": "execute_result"
    }
   ],
   "source": [
    "df[\"a\"]"
   ]
  },
  {
   "cell_type": "markdown",
   "id": "9274cb4a-a1f9-4ef4-af0a-0d4b589d317e",
   "metadata": {},
   "source": [
    "## Retrieve multiple columns"
   ]
  },
  {
   "cell_type": "code",
   "execution_count": 145,
   "id": "f6cbc766-2609-4e70-b6f0-8563d3079892",
   "metadata": {},
   "outputs": [
    {
     "data": {
      "text/html": [
       "<div>\n",
       "<style scoped>\n",
       "    .dataframe tbody tr th:only-of-type {\n",
       "        vertical-align: middle;\n",
       "    }\n",
       "\n",
       "    .dataframe tbody tr th {\n",
       "        vertical-align: top;\n",
       "    }\n",
       "\n",
       "    .dataframe thead th {\n",
       "        text-align: right;\n",
       "    }\n",
       "</style>\n",
       "<table border=\"1\" class=\"dataframe\">\n",
       "  <thead>\n",
       "    <tr style=\"text-align: right;\">\n",
       "      <th></th>\n",
       "      <th>a</th>\n",
       "      <th>b</th>\n",
       "    </tr>\n",
       "  </thead>\n",
       "  <tbody>\n",
       "    <tr>\n",
       "      <th>one</th>\n",
       "      <td>1</td>\n",
       "      <td>2</td>\n",
       "    </tr>\n",
       "    <tr>\n",
       "      <th>two</th>\n",
       "      <td>3</td>\n",
       "      <td>4</td>\n",
       "    </tr>\n",
       "  </tbody>\n",
       "</table>\n",
       "</div>"
      ],
      "text/plain": [
       "     a  b\n",
       "one  1  2\n",
       "two  3  4"
      ]
     },
     "execution_count": 145,
     "metadata": {},
     "output_type": "execute_result"
    }
   ],
   "source": [
    "df[[\"a\", \"b\"]]"
   ]
  },
  {
   "cell_type": "code",
   "execution_count": 146,
   "id": "6c1396c9-f919-43d9-9215-ab73a7bc06c2",
   "metadata": {},
   "outputs": [],
   "source": [
    "try:\n",
    "    df[\"a\" : \"b\"]\n",
    "except TypeError as e:\n",
    "    print(\"Slicing doesn't work on columns!\")\n",
    "    print(\"Error:\", e)"
   ]
  },
  {
   "cell_type": "markdown",
   "id": "18486b5a-3af3-46fd-b953-378c888e155a",
   "metadata": {},
   "source": [
    "One workaround is to apply slicing to df.columns and then use that"
   ]
  },
  {
   "cell_type": "code",
   "execution_count": 147,
   "id": "118c8edd-41f5-4d19-9600-83668ebe976a",
   "metadata": {},
   "outputs": [
    {
     "data": {
      "text/plain": [
       "Index(['a', 'b'], dtype='object')"
      ]
     },
     "execution_count": 147,
     "metadata": {},
     "output_type": "execute_result"
    }
   ],
   "source": [
    "df.columns[0:2]"
   ]
  },
  {
   "cell_type": "code",
   "execution_count": 148,
   "id": "faf802d0-59d1-40a4-a240-3ac8514dea3c",
   "metadata": {},
   "outputs": [
    {
     "data": {
      "text/html": [
       "<div>\n",
       "<style scoped>\n",
       "    .dataframe tbody tr th:only-of-type {\n",
       "        vertical-align: middle;\n",
       "    }\n",
       "\n",
       "    .dataframe tbody tr th {\n",
       "        vertical-align: top;\n",
       "    }\n",
       "\n",
       "    .dataframe thead th {\n",
       "        text-align: right;\n",
       "    }\n",
       "</style>\n",
       "<table border=\"1\" class=\"dataframe\">\n",
       "  <thead>\n",
       "    <tr style=\"text-align: right;\">\n",
       "      <th></th>\n",
       "      <th>a</th>\n",
       "      <th>b</th>\n",
       "    </tr>\n",
       "  </thead>\n",
       "  <tbody>\n",
       "    <tr>\n",
       "      <th>one</th>\n",
       "      <td>1</td>\n",
       "      <td>2</td>\n",
       "    </tr>\n",
       "    <tr>\n",
       "      <th>two</th>\n",
       "      <td>3</td>\n",
       "      <td>4</td>\n",
       "    </tr>\n",
       "  </tbody>\n",
       "</table>\n",
       "</div>"
      ],
      "text/plain": [
       "     a  b\n",
       "one  1  2\n",
       "two  3  4"
      ]
     },
     "execution_count": 148,
     "metadata": {},
     "output_type": "execute_result"
    }
   ],
   "source": [
    "# then use this to select the columns\n",
    "df[df.columns[0:2]]"
   ]
  },
  {
   "cell_type": "markdown",
   "id": "faf21706-7528-4bd4-98e9-bde213abd026",
   "metadata": {},
   "source": [
    "## Retrieve one element"
   ]
  },
  {
   "cell_type": "code",
   "execution_count": 149,
   "id": "09b71347-e15c-4446-b2e6-0b7598c20348",
   "metadata": {},
   "outputs": [
    {
     "data": {
      "text/html": [
       "<div>\n",
       "<style scoped>\n",
       "    .dataframe tbody tr th:only-of-type {\n",
       "        vertical-align: middle;\n",
       "    }\n",
       "\n",
       "    .dataframe tbody tr th {\n",
       "        vertical-align: top;\n",
       "    }\n",
       "\n",
       "    .dataframe thead th {\n",
       "        text-align: right;\n",
       "    }\n",
       "</style>\n",
       "<table border=\"1\" class=\"dataframe\">\n",
       "  <thead>\n",
       "    <tr style=\"text-align: right;\">\n",
       "      <th></th>\n",
       "      <th>a</th>\n",
       "      <th>b</th>\n",
       "    </tr>\n",
       "  </thead>\n",
       "  <tbody>\n",
       "    <tr>\n",
       "      <th>one</th>\n",
       "      <td>1</td>\n",
       "      <td>2</td>\n",
       "    </tr>\n",
       "    <tr>\n",
       "      <th>two</th>\n",
       "      <td>3</td>\n",
       "      <td>4</td>\n",
       "    </tr>\n",
       "  </tbody>\n",
       "</table>\n",
       "</div>"
      ],
      "text/plain": [
       "     a  b\n",
       "one  1  2\n",
       "two  3  4"
      ]
     },
     "execution_count": 149,
     "metadata": {},
     "output_type": "execute_result"
    }
   ],
   "source": [
    "df"
   ]
  },
  {
   "cell_type": "markdown",
   "id": "643d8619-2954-469a-a378-b05332ec80e2",
   "metadata": {},
   "source": [
    "The most intuitive method is to do:"
   ]
  },
  {
   "cell_type": "code",
   "execution_count": 150,
   "id": "7a248c48-2cf9-4479-a998-9c10040e33a9",
   "metadata": {},
   "outputs": [
    {
     "data": {
      "text/plain": [
       "np.int64(1)"
      ]
     },
     "execution_count": 150,
     "metadata": {},
     "output_type": "execute_result"
    }
   ],
   "source": [
    "df.iloc[0][\"a\"]"
   ]
  },
  {
   "cell_type": "code",
   "execution_count": 151,
   "id": "8b082c5e-50cd-4626-bb12-b026ea68d387",
   "metadata": {},
   "outputs": [
    {
     "data": {
      "text/plain": [
       "np.int64(1)"
      ]
     },
     "execution_count": 151,
     "metadata": {},
     "output_type": "execute_result"
    }
   ],
   "source": [
    "df.loc[\"one\"][\"a\"]"
   ]
  },
  {
   "cell_type": "markdown",
   "id": "9619fac2-5b42-481b-9a9c-6c25127b6d58",
   "metadata": {},
   "source": [
    "However, this is quite bad as you call the get item method twice. Instead do:"
   ]
  },
  {
   "cell_type": "code",
   "execution_count": 152,
   "id": "3bbbe6dd-2dc1-4d0d-80f6-2089b78ac5ef",
   "metadata": {},
   "outputs": [
    {
     "data": {
      "text/plain": [
       "np.int64(1)"
      ]
     },
     "execution_count": 152,
     "metadata": {},
     "output_type": "execute_result"
    }
   ],
   "source": [
    "df.iloc[0, 0]"
   ]
  },
  {
   "cell_type": "code",
   "execution_count": 153,
   "id": "6ccbf322-2f93-43c0-ba75-ec294f4ad6d4",
   "metadata": {},
   "outputs": [
    {
     "data": {
      "text/plain": [
       "np.int64(1)"
      ]
     },
     "execution_count": 153,
     "metadata": {},
     "output_type": "execute_result"
    }
   ],
   "source": [
    "df.loc[\"one\", \"a\"]"
   ]
  },
  {
   "cell_type": "markdown",
   "id": "ed8f7b01-9a1e-4f99-93e5-6b917d99e8f9",
   "metadata": {},
   "source": [
    "Typically DataFrames have numeric indexes, such as:"
   ]
  },
  {
   "cell_type": "code",
   "execution_count": 154,
   "id": "a6613955-8676-4cf7-98f5-ddf24c8e6e4d",
   "metadata": {},
   "outputs": [
    {
     "data": {
      "text/html": [
       "<div>\n",
       "<style scoped>\n",
       "    .dataframe tbody tr th:only-of-type {\n",
       "        vertical-align: middle;\n",
       "    }\n",
       "\n",
       "    .dataframe tbody tr th {\n",
       "        vertical-align: top;\n",
       "    }\n",
       "\n",
       "    .dataframe thead th {\n",
       "        text-align: right;\n",
       "    }\n",
       "</style>\n",
       "<table border=\"1\" class=\"dataframe\">\n",
       "  <thead>\n",
       "    <tr style=\"text-align: right;\">\n",
       "      <th></th>\n",
       "      <th>a</th>\n",
       "      <th>b</th>\n",
       "    </tr>\n",
       "  </thead>\n",
       "  <tbody>\n",
       "    <tr>\n",
       "      <th>0</th>\n",
       "      <td>1</td>\n",
       "      <td>2</td>\n",
       "    </tr>\n",
       "    <tr>\n",
       "      <th>1</th>\n",
       "      <td>3</td>\n",
       "      <td>4</td>\n",
       "    </tr>\n",
       "  </tbody>\n",
       "</table>\n",
       "</div>"
      ],
      "text/plain": [
       "   a  b\n",
       "0  1  2\n",
       "1  3  4"
      ]
     },
     "execution_count": 154,
     "metadata": {},
     "output_type": "execute_result"
    }
   ],
   "source": [
    "df.index = [0, 1]\n",
    "df"
   ]
  },
  {
   "cell_type": "markdown",
   "id": "14df0fc4-0160-4531-bf05-425f7a69ae14",
   "metadata": {},
   "source": [
    "so we have:"
   ]
  },
  {
   "cell_type": "code",
   "execution_count": 155,
   "id": "436816e5-bdf4-4f01-a8e9-8b04e37dd827",
   "metadata": {},
   "outputs": [
    {
     "data": {
      "text/plain": [
       "np.int64(1)"
      ]
     },
     "execution_count": 155,
     "metadata": {},
     "output_type": "execute_result"
    }
   ],
   "source": [
    "df.loc[0, \"a\"]"
   ]
  },
  {
   "cell_type": "markdown",
   "id": "532408d9-92ab-47bc-8233-039af86a49bf",
   "metadata": {},
   "source": [
    "## Updating one value"
   ]
  },
  {
   "cell_type": "code",
   "execution_count": 156,
   "id": "a17251ce-0817-43cb-be2d-e01b8da99937",
   "metadata": {},
   "outputs": [
    {
     "data": {
      "text/html": [
       "<div>\n",
       "<style scoped>\n",
       "    .dataframe tbody tr th:only-of-type {\n",
       "        vertical-align: middle;\n",
       "    }\n",
       "\n",
       "    .dataframe tbody tr th {\n",
       "        vertical-align: top;\n",
       "    }\n",
       "\n",
       "    .dataframe thead th {\n",
       "        text-align: right;\n",
       "    }\n",
       "</style>\n",
       "<table border=\"1\" class=\"dataframe\">\n",
       "  <thead>\n",
       "    <tr style=\"text-align: right;\">\n",
       "      <th></th>\n",
       "      <th>a</th>\n",
       "      <th>b</th>\n",
       "    </tr>\n",
       "  </thead>\n",
       "  <tbody>\n",
       "    <tr>\n",
       "      <th>0</th>\n",
       "      <td>1</td>\n",
       "      <td>2</td>\n",
       "    </tr>\n",
       "    <tr>\n",
       "      <th>1</th>\n",
       "      <td>3</td>\n",
       "      <td>4</td>\n",
       "    </tr>\n",
       "  </tbody>\n",
       "</table>\n",
       "</div>"
      ],
      "text/plain": [
       "   a  b\n",
       "0  1  2\n",
       "1  3  4"
      ]
     },
     "execution_count": 156,
     "metadata": {},
     "output_type": "execute_result"
    }
   ],
   "source": [
    "df"
   ]
  },
  {
   "cell_type": "code",
   "execution_count": 157,
   "id": "718f0626-ccef-4c0f-86e8-08223aedd055",
   "metadata": {},
   "outputs": [
    {
     "name": "stderr",
     "output_type": "stream",
     "text": [
      "/var/folders/ws/xh9mmcpn2v721tc86jthpmcw0000gn/T/ipykernel_30045/3386343329.py:2: FutureWarning: Setting an item of incompatible dtype is deprecated and will raise an error in a future version of pandas. Value '2.5' has dtype incompatible with int64, please explicitly cast to a compatible dtype first.\n",
      "  df.loc[1, \"a\"] = 2.5\n"
     ]
    }
   ],
   "source": [
    "# for the time being, if the value is incompatible, it will change the dtype of the entire column\n",
    "df.loc[1, \"a\"] = 2.5"
   ]
  },
  {
   "cell_type": "code",
   "execution_count": 158,
   "id": "7300ec99-335b-4c5b-b6a6-6bdc201e858d",
   "metadata": {},
   "outputs": [
    {
     "data": {
      "text/html": [
       "<div>\n",
       "<style scoped>\n",
       "    .dataframe tbody tr th:only-of-type {\n",
       "        vertical-align: middle;\n",
       "    }\n",
       "\n",
       "    .dataframe tbody tr th {\n",
       "        vertical-align: top;\n",
       "    }\n",
       "\n",
       "    .dataframe thead th {\n",
       "        text-align: right;\n",
       "    }\n",
       "</style>\n",
       "<table border=\"1\" class=\"dataframe\">\n",
       "  <thead>\n",
       "    <tr style=\"text-align: right;\">\n",
       "      <th></th>\n",
       "      <th>a</th>\n",
       "      <th>b</th>\n",
       "    </tr>\n",
       "  </thead>\n",
       "  <tbody>\n",
       "    <tr>\n",
       "      <th>0</th>\n",
       "      <td>1.0</td>\n",
       "      <td>2</td>\n",
       "    </tr>\n",
       "    <tr>\n",
       "      <th>1</th>\n",
       "      <td>2.5</td>\n",
       "      <td>4</td>\n",
       "    </tr>\n",
       "  </tbody>\n",
       "</table>\n",
       "</div>"
      ],
      "text/plain": [
       "     a  b\n",
       "0  1.0  2\n",
       "1  2.5  4"
      ]
     },
     "execution_count": 158,
     "metadata": {},
     "output_type": "execute_result"
    }
   ],
   "source": [
    "df"
   ]
  },
  {
   "cell_type": "markdown",
   "id": "9af75c5f-38f1-48f3-b693-031401d08ef7",
   "metadata": {},
   "source": [
    "### Alternative method: replace"
   ]
  },
  {
   "cell_type": "code",
   "execution_count": 159,
   "id": "e538fd34-516b-4988-8fce-687d1e0c99e9",
   "metadata": {},
   "outputs": [
    {
     "data": {
      "text/html": [
       "<div>\n",
       "<style scoped>\n",
       "    .dataframe tbody tr th:only-of-type {\n",
       "        vertical-align: middle;\n",
       "    }\n",
       "\n",
       "    .dataframe tbody tr th {\n",
       "        vertical-align: top;\n",
       "    }\n",
       "\n",
       "    .dataframe thead th {\n",
       "        text-align: right;\n",
       "    }\n",
       "</style>\n",
       "<table border=\"1\" class=\"dataframe\">\n",
       "  <thead>\n",
       "    <tr style=\"text-align: right;\">\n",
       "      <th></th>\n",
       "      <th>a</th>\n",
       "      <th>b</th>\n",
       "    </tr>\n",
       "  </thead>\n",
       "  <tbody>\n",
       "    <tr>\n",
       "      <th>0</th>\n",
       "      <td>1.0</td>\n",
       "      <td>0</td>\n",
       "    </tr>\n",
       "    <tr>\n",
       "      <th>1</th>\n",
       "      <td>0.0</td>\n",
       "      <td>4</td>\n",
       "    </tr>\n",
       "  </tbody>\n",
       "</table>\n",
       "</div>"
      ],
      "text/plain": [
       "     a  b\n",
       "0  1.0  0\n",
       "1  0.0  4"
      ]
     },
     "execution_count": 159,
     "metadata": {},
     "output_type": "execute_result"
    }
   ],
   "source": [
    "# Note: this replaces all the occurences!\n",
    "df = df.replace(2, 0)\n",
    "df = df.replace(2.5, 0)\n",
    "df"
   ]
  },
  {
   "cell_type": "code",
   "execution_count": 160,
   "id": "c8bd4f81-088e-4963-aeba-29649e4226a1",
   "metadata": {},
   "outputs": [
    {
     "data": {
      "text/html": [
       "<div>\n",
       "<style scoped>\n",
       "    .dataframe tbody tr th:only-of-type {\n",
       "        vertical-align: middle;\n",
       "    }\n",
       "\n",
       "    .dataframe tbody tr th {\n",
       "        vertical-align: top;\n",
       "    }\n",
       "\n",
       "    .dataframe thead th {\n",
       "        text-align: right;\n",
       "    }\n",
       "</style>\n",
       "<table border=\"1\" class=\"dataframe\">\n",
       "  <thead>\n",
       "    <tr style=\"text-align: right;\">\n",
       "      <th></th>\n",
       "      <th>a</th>\n",
       "      <th>b</th>\n",
       "    </tr>\n",
       "  </thead>\n",
       "  <tbody>\n",
       "    <tr>\n",
       "      <th>0</th>\n",
       "      <td>1.0</td>\n",
       "      <td>None</td>\n",
       "    </tr>\n",
       "    <tr>\n",
       "      <th>1</th>\n",
       "      <td>None</td>\n",
       "      <td>4</td>\n",
       "    </tr>\n",
       "  </tbody>\n",
       "</table>\n",
       "</div>"
      ],
      "text/plain": [
       "      a     b\n",
       "0   1.0  None\n",
       "1  None     4"
      ]
     },
     "execution_count": 160,
     "metadata": {},
     "output_type": "execute_result"
    }
   ],
   "source": [
    "df.replace(0, None)"
   ]
  },
  {
   "cell_type": "markdown",
   "id": "ad6f8e0c-aba5-424a-8b5c-ba0ce0f74cd7",
   "metadata": {},
   "source": [
    "## Updating multiple values"
   ]
  },
  {
   "cell_type": "code",
   "execution_count": 161,
   "id": "d13d593d-ae38-4d6c-b87f-05c43e8cb714",
   "metadata": {},
   "outputs": [
    {
     "data": {
      "text/html": [
       "<div>\n",
       "<style scoped>\n",
       "    .dataframe tbody tr th:only-of-type {\n",
       "        vertical-align: middle;\n",
       "    }\n",
       "\n",
       "    .dataframe tbody tr th {\n",
       "        vertical-align: top;\n",
       "    }\n",
       "\n",
       "    .dataframe thead th {\n",
       "        text-align: right;\n",
       "    }\n",
       "</style>\n",
       "<table border=\"1\" class=\"dataframe\">\n",
       "  <thead>\n",
       "    <tr style=\"text-align: right;\">\n",
       "      <th></th>\n",
       "      <th>a</th>\n",
       "      <th>b</th>\n",
       "    </tr>\n",
       "  </thead>\n",
       "  <tbody>\n",
       "    <tr>\n",
       "      <th>0</th>\n",
       "      <td>1.0</td>\n",
       "      <td>2</td>\n",
       "    </tr>\n",
       "    <tr>\n",
       "      <th>1</th>\n",
       "      <td>3.0</td>\n",
       "      <td>4</td>\n",
       "    </tr>\n",
       "  </tbody>\n",
       "</table>\n",
       "</div>"
      ],
      "text/plain": [
       "     a  b\n",
       "0  1.0  2\n",
       "1  3.0  4"
      ]
     },
     "execution_count": 161,
     "metadata": {},
     "output_type": "execute_result"
    }
   ],
   "source": [
    "# [list of rows, list of columns]\n",
    "df.loc[[0, 1], [\"a\", \"b\"]] = [[1, 2], [3, 4]]\n",
    "df"
   ]
  },
  {
   "cell_type": "code",
   "execution_count": 162,
   "id": "2b7094e9-c711-4ae2-b4d8-e7b74187e0a4",
   "metadata": {},
   "outputs": [
    {
     "data": {
      "text/plain": [
       "0     True\n",
       "1    False\n",
       "Name: b, dtype: bool"
      ]
     },
     "execution_count": 162,
     "metadata": {},
     "output_type": "execute_result"
    }
   ],
   "source": [
    "df[\"b\"] < 4"
   ]
  },
  {
   "cell_type": "code",
   "execution_count": 163,
   "id": "58b5da89-1e9c-4304-a4be-39fa0523084f",
   "metadata": {},
   "outputs": [
    {
     "data": {
      "text/plain": [
       "0    2\n",
       "Name: b, dtype: int64"
      ]
     },
     "execution_count": 163,
     "metadata": {},
     "output_type": "execute_result"
    }
   ],
   "source": [
    "df.loc[df[\"b\"] < 4, \"b\"]"
   ]
  },
  {
   "cell_type": "code",
   "execution_count": 164,
   "id": "98535f1c-daf7-4331-86ca-142950c30267",
   "metadata": {},
   "outputs": [
    {
     "data": {
      "text/html": [
       "<div>\n",
       "<style scoped>\n",
       "    .dataframe tbody tr th:only-of-type {\n",
       "        vertical-align: middle;\n",
       "    }\n",
       "\n",
       "    .dataframe tbody tr th {\n",
       "        vertical-align: top;\n",
       "    }\n",
       "\n",
       "    .dataframe thead th {\n",
       "        text-align: right;\n",
       "    }\n",
       "</style>\n",
       "<table border=\"1\" class=\"dataframe\">\n",
       "  <thead>\n",
       "    <tr style=\"text-align: right;\">\n",
       "      <th></th>\n",
       "      <th>a</th>\n",
       "      <th>b</th>\n",
       "    </tr>\n",
       "  </thead>\n",
       "  <tbody>\n",
       "    <tr>\n",
       "      <th>0</th>\n",
       "      <td>1.0</td>\n",
       "      <td>2</td>\n",
       "    </tr>\n",
       "  </tbody>\n",
       "</table>\n",
       "</div>"
      ],
      "text/plain": [
       "     a  b\n",
       "0  1.0  2"
      ]
     },
     "execution_count": 164,
     "metadata": {},
     "output_type": "execute_result"
    }
   ],
   "source": [
    "df[df[\"b\"] < 4]"
   ]
  },
  {
   "cell_type": "code",
   "execution_count": 165,
   "id": "03c1250e-7105-46d2-af58-42fddd6482da",
   "metadata": {},
   "outputs": [
    {
     "data": {
      "text/plain": [
       "0    2\n",
       "Name: b, dtype: int64"
      ]
     },
     "execution_count": 165,
     "metadata": {},
     "output_type": "execute_result"
    }
   ],
   "source": [
    "df[df[\"b\"] < 4][\"b\"]"
   ]
  },
  {
   "cell_type": "code",
   "execution_count": 166,
   "id": "993f5aa1-d31f-4fa3-a5ce-aeb73f6bee3a",
   "metadata": {},
   "outputs": [
    {
     "data": {
      "text/plain": [
       "0    2\n",
       "Name: b, dtype: int64"
      ]
     },
     "execution_count": 166,
     "metadata": {},
     "output_type": "execute_result"
    }
   ],
   "source": [
    "df.loc[df[\"b\"] < 4, \"b\"]"
   ]
  },
  {
   "cell_type": "markdown",
   "id": "eb5962cb-9042-488e-af02-22c8de9aa73c",
   "metadata": {},
   "source": [
    "## Updating one row"
   ]
  },
  {
   "cell_type": "code",
   "execution_count": 167,
   "id": "dc891797-a708-4620-9e74-d1d2f9403575",
   "metadata": {},
   "outputs": [
    {
     "data": {
      "text/html": [
       "<div>\n",
       "<style scoped>\n",
       "    .dataframe tbody tr th:only-of-type {\n",
       "        vertical-align: middle;\n",
       "    }\n",
       "\n",
       "    .dataframe tbody tr th {\n",
       "        vertical-align: top;\n",
       "    }\n",
       "\n",
       "    .dataframe thead th {\n",
       "        text-align: right;\n",
       "    }\n",
       "</style>\n",
       "<table border=\"1\" class=\"dataframe\">\n",
       "  <thead>\n",
       "    <tr style=\"text-align: right;\">\n",
       "      <th></th>\n",
       "      <th>a</th>\n",
       "      <th>b</th>\n",
       "    </tr>\n",
       "  </thead>\n",
       "  <tbody>\n",
       "    <tr>\n",
       "      <th>0</th>\n",
       "      <td>1.0</td>\n",
       "      <td>2</td>\n",
       "    </tr>\n",
       "    <tr>\n",
       "      <th>1</th>\n",
       "      <td>3.0</td>\n",
       "      <td>4</td>\n",
       "    </tr>\n",
       "  </tbody>\n",
       "</table>\n",
       "</div>"
      ],
      "text/plain": [
       "     a  b\n",
       "0  1.0  2\n",
       "1  3.0  4"
      ]
     },
     "execution_count": 167,
     "metadata": {},
     "output_type": "execute_result"
    }
   ],
   "source": [
    "df"
   ]
  },
  {
   "cell_type": "code",
   "execution_count": 168,
   "id": "5a59443a-575e-4c23-8b59-9714a9e28d98",
   "metadata": {},
   "outputs": [],
   "source": [
    "df.loc[0] = [3, 5]"
   ]
  },
  {
   "cell_type": "code",
   "execution_count": 169,
   "id": "8434fddb-ff6b-4622-81b3-f1de1ab09dcd",
   "metadata": {},
   "outputs": [
    {
     "data": {
      "text/html": [
       "<div>\n",
       "<style scoped>\n",
       "    .dataframe tbody tr th:only-of-type {\n",
       "        vertical-align: middle;\n",
       "    }\n",
       "\n",
       "    .dataframe tbody tr th {\n",
       "        vertical-align: top;\n",
       "    }\n",
       "\n",
       "    .dataframe thead th {\n",
       "        text-align: right;\n",
       "    }\n",
       "</style>\n",
       "<table border=\"1\" class=\"dataframe\">\n",
       "  <thead>\n",
       "    <tr style=\"text-align: right;\">\n",
       "      <th></th>\n",
       "      <th>a</th>\n",
       "      <th>b</th>\n",
       "    </tr>\n",
       "  </thead>\n",
       "  <tbody>\n",
       "    <tr>\n",
       "      <th>0</th>\n",
       "      <td>3.0</td>\n",
       "      <td>5</td>\n",
       "    </tr>\n",
       "    <tr>\n",
       "      <th>1</th>\n",
       "      <td>3.0</td>\n",
       "      <td>4</td>\n",
       "    </tr>\n",
       "  </tbody>\n",
       "</table>\n",
       "</div>"
      ],
      "text/plain": [
       "     a  b\n",
       "0  3.0  5\n",
       "1  3.0  4"
      ]
     },
     "execution_count": 169,
     "metadata": {},
     "output_type": "execute_result"
    }
   ],
   "source": [
    "df"
   ]
  },
  {
   "cell_type": "code",
   "execution_count": 170,
   "id": "369a2d89-307a-40f8-adf2-0139514d42e0",
   "metadata": {},
   "outputs": [],
   "source": [
    "df.loc[0] = 1234"
   ]
  },
  {
   "cell_type": "code",
   "execution_count": 171,
   "id": "3d3d0679-a955-4d62-be3b-5df2226881fa",
   "metadata": {},
   "outputs": [
    {
     "data": {
      "text/html": [
       "<div>\n",
       "<style scoped>\n",
       "    .dataframe tbody tr th:only-of-type {\n",
       "        vertical-align: middle;\n",
       "    }\n",
       "\n",
       "    .dataframe tbody tr th {\n",
       "        vertical-align: top;\n",
       "    }\n",
       "\n",
       "    .dataframe thead th {\n",
       "        text-align: right;\n",
       "    }\n",
       "</style>\n",
       "<table border=\"1\" class=\"dataframe\">\n",
       "  <thead>\n",
       "    <tr style=\"text-align: right;\">\n",
       "      <th></th>\n",
       "      <th>a</th>\n",
       "      <th>b</th>\n",
       "    </tr>\n",
       "  </thead>\n",
       "  <tbody>\n",
       "    <tr>\n",
       "      <th>0</th>\n",
       "      <td>1234.0</td>\n",
       "      <td>1234</td>\n",
       "    </tr>\n",
       "    <tr>\n",
       "      <th>1</th>\n",
       "      <td>3.0</td>\n",
       "      <td>4</td>\n",
       "    </tr>\n",
       "  </tbody>\n",
       "</table>\n",
       "</div>"
      ],
      "text/plain": [
       "        a     b\n",
       "0  1234.0  1234\n",
       "1     3.0     4"
      ]
     },
     "execution_count": 171,
     "metadata": {},
     "output_type": "execute_result"
    }
   ],
   "source": [
    "df"
   ]
  },
  {
   "cell_type": "markdown",
   "id": "9ec4737b-2ae4-4404-b88a-2b486a545e65",
   "metadata": {},
   "source": [
    "## Updating multiple rows"
   ]
  },
  {
   "cell_type": "code",
   "execution_count": 172,
   "id": "e044fe39-f082-4550-8d62-079323d218bf",
   "metadata": {},
   "outputs": [],
   "source": [
    "df.loc[[0, 1]] = 5678"
   ]
  },
  {
   "cell_type": "code",
   "execution_count": 173,
   "id": "086813d0-1a31-4aab-a359-d8354c1ff6e6",
   "metadata": {},
   "outputs": [
    {
     "data": {
      "text/html": [
       "<div>\n",
       "<style scoped>\n",
       "    .dataframe tbody tr th:only-of-type {\n",
       "        vertical-align: middle;\n",
       "    }\n",
       "\n",
       "    .dataframe tbody tr th {\n",
       "        vertical-align: top;\n",
       "    }\n",
       "\n",
       "    .dataframe thead th {\n",
       "        text-align: right;\n",
       "    }\n",
       "</style>\n",
       "<table border=\"1\" class=\"dataframe\">\n",
       "  <thead>\n",
       "    <tr style=\"text-align: right;\">\n",
       "      <th></th>\n",
       "      <th>a</th>\n",
       "      <th>b</th>\n",
       "    </tr>\n",
       "  </thead>\n",
       "  <tbody>\n",
       "    <tr>\n",
       "      <th>0</th>\n",
       "      <td>5678.0</td>\n",
       "      <td>5678</td>\n",
       "    </tr>\n",
       "    <tr>\n",
       "      <th>1</th>\n",
       "      <td>5678.0</td>\n",
       "      <td>5678</td>\n",
       "    </tr>\n",
       "  </tbody>\n",
       "</table>\n",
       "</div>"
      ],
      "text/plain": [
       "        a     b\n",
       "0  5678.0  5678\n",
       "1  5678.0  5678"
      ]
     },
     "execution_count": 173,
     "metadata": {},
     "output_type": "execute_result"
    }
   ],
   "source": [
    "df"
   ]
  },
  {
   "cell_type": "markdown",
   "id": "3176f8a8-8070-49a2-bd40-e961ee56a9d8",
   "metadata": {},
   "source": [
    "## Updating one column"
   ]
  },
  {
   "cell_type": "code",
   "execution_count": 174,
   "id": "69a2b73e-1a5c-4d98-942a-1fe2fe31da90",
   "metadata": {},
   "outputs": [],
   "source": [
    "df[\"b\"] = 6"
   ]
  },
  {
   "cell_type": "code",
   "execution_count": 175,
   "id": "22a350d9-c31a-4cec-b433-11f8ffaf81e3",
   "metadata": {},
   "outputs": [
    {
     "data": {
      "text/html": [
       "<div>\n",
       "<style scoped>\n",
       "    .dataframe tbody tr th:only-of-type {\n",
       "        vertical-align: middle;\n",
       "    }\n",
       "\n",
       "    .dataframe tbody tr th {\n",
       "        vertical-align: top;\n",
       "    }\n",
       "\n",
       "    .dataframe thead th {\n",
       "        text-align: right;\n",
       "    }\n",
       "</style>\n",
       "<table border=\"1\" class=\"dataframe\">\n",
       "  <thead>\n",
       "    <tr style=\"text-align: right;\">\n",
       "      <th></th>\n",
       "      <th>a</th>\n",
       "      <th>b</th>\n",
       "    </tr>\n",
       "  </thead>\n",
       "  <tbody>\n",
       "    <tr>\n",
       "      <th>0</th>\n",
       "      <td>5678.0</td>\n",
       "      <td>6</td>\n",
       "    </tr>\n",
       "    <tr>\n",
       "      <th>1</th>\n",
       "      <td>5678.0</td>\n",
       "      <td>6</td>\n",
       "    </tr>\n",
       "  </tbody>\n",
       "</table>\n",
       "</div>"
      ],
      "text/plain": [
       "        a  b\n",
       "0  5678.0  6\n",
       "1  5678.0  6"
      ]
     },
     "execution_count": 175,
     "metadata": {},
     "output_type": "execute_result"
    }
   ],
   "source": [
    "df"
   ]
  },
  {
   "cell_type": "code",
   "execution_count": 176,
   "id": "8e413259-0223-44b3-906e-f7823f5aee9f",
   "metadata": {},
   "outputs": [
    {
     "data": {
      "text/html": [
       "<div>\n",
       "<style scoped>\n",
       "    .dataframe tbody tr th:only-of-type {\n",
       "        vertical-align: middle;\n",
       "    }\n",
       "\n",
       "    .dataframe tbody tr th {\n",
       "        vertical-align: top;\n",
       "    }\n",
       "\n",
       "    .dataframe thead th {\n",
       "        text-align: right;\n",
       "    }\n",
       "</style>\n",
       "<table border=\"1\" class=\"dataframe\">\n",
       "  <thead>\n",
       "    <tr style=\"text-align: right;\">\n",
       "      <th></th>\n",
       "      <th>a</th>\n",
       "      <th>b</th>\n",
       "    </tr>\n",
       "  </thead>\n",
       "  <tbody>\n",
       "    <tr>\n",
       "      <th>0</th>\n",
       "      <td>5678.0</td>\n",
       "      <td>0</td>\n",
       "    </tr>\n",
       "    <tr>\n",
       "      <th>1</th>\n",
       "      <td>5678.0</td>\n",
       "      <td>0</td>\n",
       "    </tr>\n",
       "  </tbody>\n",
       "</table>\n",
       "</div>"
      ],
      "text/plain": [
       "        a  b\n",
       "0  5678.0  0\n",
       "1  5678.0  0"
      ]
     },
     "execution_count": 176,
     "metadata": {},
     "output_type": "execute_result"
    }
   ],
   "source": [
    "df[\"b\"] = [0, 0]\n",
    "df"
   ]
  },
  {
   "cell_type": "code",
   "execution_count": 177,
   "id": "dc22f38c-d08b-4c96-afde-9f58fc0e0720",
   "metadata": {},
   "outputs": [
    {
     "data": {
      "text/html": [
       "<div>\n",
       "<style scoped>\n",
       "    .dataframe tbody tr th:only-of-type {\n",
       "        vertical-align: middle;\n",
       "    }\n",
       "\n",
       "    .dataframe tbody tr th {\n",
       "        vertical-align: top;\n",
       "    }\n",
       "\n",
       "    .dataframe thead th {\n",
       "        text-align: right;\n",
       "    }\n",
       "</style>\n",
       "<table border=\"1\" class=\"dataframe\">\n",
       "  <thead>\n",
       "    <tr style=\"text-align: right;\">\n",
       "      <th></th>\n",
       "      <th>a</th>\n",
       "      <th>b</th>\n",
       "    </tr>\n",
       "  </thead>\n",
       "  <tbody>\n",
       "    <tr>\n",
       "      <th>0</th>\n",
       "      <td>5678.0</td>\n",
       "      <td>11356.0</td>\n",
       "    </tr>\n",
       "    <tr>\n",
       "      <th>1</th>\n",
       "      <td>5678.0</td>\n",
       "      <td>11356.0</td>\n",
       "    </tr>\n",
       "  </tbody>\n",
       "</table>\n",
       "</div>"
      ],
      "text/plain": [
       "        a        b\n",
       "0  5678.0  11356.0\n",
       "1  5678.0  11356.0"
      ]
     },
     "execution_count": 177,
     "metadata": {},
     "output_type": "execute_result"
    }
   ],
   "source": [
    "df[\"b\"] = df[\"a\"] * 2\n",
    "df"
   ]
  },
  {
   "cell_type": "markdown",
   "id": "a5a9ac78-4ba5-40b5-9530-6fe4f0bc6f1c",
   "metadata": {},
   "source": [
    "## Dropping Rows or Columns"
   ]
  },
  {
   "cell_type": "code",
   "execution_count": 178,
   "id": "a34c12e6-90d1-4933-83af-4ef96cf3892c",
   "metadata": {},
   "outputs": [
    {
     "data": {
      "text/html": [
       "<div>\n",
       "<style scoped>\n",
       "    .dataframe tbody tr th:only-of-type {\n",
       "        vertical-align: middle;\n",
       "    }\n",
       "\n",
       "    .dataframe tbody tr th {\n",
       "        vertical-align: top;\n",
       "    }\n",
       "\n",
       "    .dataframe thead th {\n",
       "        text-align: right;\n",
       "    }\n",
       "</style>\n",
       "<table border=\"1\" class=\"dataframe\">\n",
       "  <thead>\n",
       "    <tr style=\"text-align: right;\">\n",
       "      <th></th>\n",
       "      <th>a</th>\n",
       "      <th>b</th>\n",
       "    </tr>\n",
       "  </thead>\n",
       "  <tbody>\n",
       "    <tr>\n",
       "      <th>0</th>\n",
       "      <td>5678.0</td>\n",
       "      <td>11356.0</td>\n",
       "    </tr>\n",
       "    <tr>\n",
       "      <th>1</th>\n",
       "      <td>5678.0</td>\n",
       "      <td>11356.0</td>\n",
       "    </tr>\n",
       "  </tbody>\n",
       "</table>\n",
       "</div>"
      ],
      "text/plain": [
       "        a        b\n",
       "0  5678.0  11356.0\n",
       "1  5678.0  11356.0"
      ]
     },
     "execution_count": 178,
     "metadata": {},
     "output_type": "execute_result"
    }
   ],
   "source": [
    "df"
   ]
  },
  {
   "cell_type": "code",
   "execution_count": 179,
   "id": "fd279a78-d906-47f3-a4b7-ecd71bf6acdb",
   "metadata": {},
   "outputs": [
    {
     "data": {
      "text/html": [
       "<div>\n",
       "<style scoped>\n",
       "    .dataframe tbody tr th:only-of-type {\n",
       "        vertical-align: middle;\n",
       "    }\n",
       "\n",
       "    .dataframe tbody tr th {\n",
       "        vertical-align: top;\n",
       "    }\n",
       "\n",
       "    .dataframe thead th {\n",
       "        text-align: right;\n",
       "    }\n",
       "</style>\n",
       "<table border=\"1\" class=\"dataframe\">\n",
       "  <thead>\n",
       "    <tr style=\"text-align: right;\">\n",
       "      <th></th>\n",
       "      <th>a</th>\n",
       "      <th>b</th>\n",
       "    </tr>\n",
       "  </thead>\n",
       "  <tbody>\n",
       "    <tr>\n",
       "      <th>1</th>\n",
       "      <td>5678.0</td>\n",
       "      <td>11356.0</td>\n",
       "    </tr>\n",
       "  </tbody>\n",
       "</table>\n",
       "</div>"
      ],
      "text/plain": [
       "        a        b\n",
       "1  5678.0  11356.0"
      ]
     },
     "execution_count": 179,
     "metadata": {},
     "output_type": "execute_result"
    }
   ],
   "source": [
    "df.drop([0], axis = \"rows\")"
   ]
  },
  {
   "cell_type": "code",
   "execution_count": 180,
   "id": "3339d2ec-c981-42d3-9099-8e30005218d0",
   "metadata": {},
   "outputs": [
    {
     "data": {
      "text/html": [
       "<div>\n",
       "<style scoped>\n",
       "    .dataframe tbody tr th:only-of-type {\n",
       "        vertical-align: middle;\n",
       "    }\n",
       "\n",
       "    .dataframe tbody tr th {\n",
       "        vertical-align: top;\n",
       "    }\n",
       "\n",
       "    .dataframe thead th {\n",
       "        text-align: right;\n",
       "    }\n",
       "</style>\n",
       "<table border=\"1\" class=\"dataframe\">\n",
       "  <thead>\n",
       "    <tr style=\"text-align: right;\">\n",
       "      <th></th>\n",
       "      <th>a</th>\n",
       "    </tr>\n",
       "  </thead>\n",
       "  <tbody>\n",
       "    <tr>\n",
       "      <th>0</th>\n",
       "      <td>5678.0</td>\n",
       "    </tr>\n",
       "    <tr>\n",
       "      <th>1</th>\n",
       "      <td>5678.0</td>\n",
       "    </tr>\n",
       "  </tbody>\n",
       "</table>\n",
       "</div>"
      ],
      "text/plain": [
       "        a\n",
       "0  5678.0\n",
       "1  5678.0"
      ]
     },
     "execution_count": 180,
     "metadata": {},
     "output_type": "execute_result"
    }
   ],
   "source": [
    "df.drop([\"b\"], axis = \"columns\")"
   ]
  },
  {
   "cell_type": "markdown",
   "id": "2d296350-6645-4804-9c06-22b20c338233",
   "metadata": {},
   "source": [
    "## One-column Methods"
   ]
  },
  {
   "cell_type": "markdown",
   "id": "71e9377d-7fc2-43b3-a86c-f05b3a1f9f93",
   "metadata": {},
   "source": [
    "Since a df column is a series, all the methods that can be used on a series can also be used on a column"
   ]
  },
  {
   "cell_type": "code",
   "execution_count": 181,
   "id": "9d27e93f-c8ce-4539-9d80-1c19f2a2b0bb",
   "metadata": {},
   "outputs": [
    {
     "data": {
      "text/html": [
       "<div>\n",
       "<style scoped>\n",
       "    .dataframe tbody tr th:only-of-type {\n",
       "        vertical-align: middle;\n",
       "    }\n",
       "\n",
       "    .dataframe tbody tr th {\n",
       "        vertical-align: top;\n",
       "    }\n",
       "\n",
       "    .dataframe thead th {\n",
       "        text-align: right;\n",
       "    }\n",
       "</style>\n",
       "<table border=\"1\" class=\"dataframe\">\n",
       "  <thead>\n",
       "    <tr style=\"text-align: right;\">\n",
       "      <th></th>\n",
       "      <th>a</th>\n",
       "      <th>b</th>\n",
       "    </tr>\n",
       "  </thead>\n",
       "  <tbody>\n",
       "    <tr>\n",
       "      <th>0</th>\n",
       "      <td>5678.0</td>\n",
       "      <td>11356.0</td>\n",
       "    </tr>\n",
       "    <tr>\n",
       "      <th>1</th>\n",
       "      <td>5678.0</td>\n",
       "      <td>11356.0</td>\n",
       "    </tr>\n",
       "  </tbody>\n",
       "</table>\n",
       "</div>"
      ],
      "text/plain": [
       "        a        b\n",
       "0  5678.0  11356.0\n",
       "1  5678.0  11356.0"
      ]
     },
     "execution_count": 181,
     "metadata": {},
     "output_type": "execute_result"
    }
   ],
   "source": [
    "df"
   ]
  },
  {
   "cell_type": "code",
   "execution_count": 182,
   "id": "c6667acd-e203-4250-8959-faf3e7ad1bd6",
   "metadata": {},
   "outputs": [
    {
     "data": {
      "text/plain": [
       "0    32239684.0\n",
       "1    32239684.0\n",
       "Name: a, dtype: float64"
      ]
     },
     "execution_count": 182,
     "metadata": {},
     "output_type": "execute_result"
    }
   ],
   "source": [
    "df[\"a\"].mean()\n",
    "df[\"a\"].std()\n",
    "df[\"a\"].max()\n",
    "df[\"a\"].min()\n",
    "df[\"a\"].describe()\n",
    "df[\"a\"] + 5\n",
    "df[\"a\"] ** 2"
   ]
  },
  {
   "cell_type": "markdown",
   "id": "d2163c22-7ce2-43ec-b708-948974b9c7a4",
   "metadata": {},
   "source": [
    "## DataFrame Methods"
   ]
  },
  {
   "cell_type": "code",
   "execution_count": 183,
   "id": "794d7fdc-7b83-4af2-9dd7-a2fefc45149f",
   "metadata": {},
   "outputs": [
    {
     "data": {
      "text/plain": [
       "a     5678.0\n",
       "b    11356.0\n",
       "dtype: float64"
      ]
     },
     "execution_count": 183,
     "metadata": {},
     "output_type": "execute_result"
    }
   ],
   "source": [
    "# we get a series back. Each element is the mean of a given column\n",
    "df.mean()"
   ]
  },
  {
   "cell_type": "code",
   "execution_count": 184,
   "id": "00cd4107-96fc-4b08-8997-fc3a3a318cce",
   "metadata": {},
   "outputs": [
    {
     "data": {
      "text/plain": [
       "a     5678.0\n",
       "b    11356.0\n",
       "dtype: float64"
      ]
     },
     "execution_count": 184,
     "metadata": {},
     "output_type": "execute_result"
    }
   ],
   "source": [
    "df.min()"
   ]
  },
  {
   "cell_type": "code",
   "execution_count": 185,
   "id": "31f96548-eb55-4df8-94ec-3daca4542bbf",
   "metadata": {},
   "outputs": [
    {
     "data": {
      "text/plain": [
       "a     5678.0\n",
       "b    11356.0\n",
       "dtype: float64"
      ]
     },
     "execution_count": 185,
     "metadata": {},
     "output_type": "execute_result"
    }
   ],
   "source": [
    "df.max()"
   ]
  },
  {
   "cell_type": "code",
   "execution_count": 186,
   "id": "7778d48b-fe90-4da4-a082-94c1afff0f6b",
   "metadata": {},
   "outputs": [
    {
     "data": {
      "text/html": [
       "<div>\n",
       "<style scoped>\n",
       "    .dataframe tbody tr th:only-of-type {\n",
       "        vertical-align: middle;\n",
       "    }\n",
       "\n",
       "    .dataframe tbody tr th {\n",
       "        vertical-align: top;\n",
       "    }\n",
       "\n",
       "    .dataframe thead th {\n",
       "        text-align: right;\n",
       "    }\n",
       "</style>\n",
       "<table border=\"1\" class=\"dataframe\">\n",
       "  <thead>\n",
       "    <tr style=\"text-align: right;\">\n",
       "      <th></th>\n",
       "      <th>a</th>\n",
       "      <th>b</th>\n",
       "    </tr>\n",
       "  </thead>\n",
       "  <tbody>\n",
       "    <tr>\n",
       "      <th>count</th>\n",
       "      <td>2.0</td>\n",
       "      <td>2.0</td>\n",
       "    </tr>\n",
       "    <tr>\n",
       "      <th>mean</th>\n",
       "      <td>5678.0</td>\n",
       "      <td>11356.0</td>\n",
       "    </tr>\n",
       "    <tr>\n",
       "      <th>std</th>\n",
       "      <td>0.0</td>\n",
       "      <td>0.0</td>\n",
       "    </tr>\n",
       "    <tr>\n",
       "      <th>min</th>\n",
       "      <td>5678.0</td>\n",
       "      <td>11356.0</td>\n",
       "    </tr>\n",
       "    <tr>\n",
       "      <th>25%</th>\n",
       "      <td>5678.0</td>\n",
       "      <td>11356.0</td>\n",
       "    </tr>\n",
       "    <tr>\n",
       "      <th>50%</th>\n",
       "      <td>5678.0</td>\n",
       "      <td>11356.0</td>\n",
       "    </tr>\n",
       "    <tr>\n",
       "      <th>75%</th>\n",
       "      <td>5678.0</td>\n",
       "      <td>11356.0</td>\n",
       "    </tr>\n",
       "    <tr>\n",
       "      <th>max</th>\n",
       "      <td>5678.0</td>\n",
       "      <td>11356.0</td>\n",
       "    </tr>\n",
       "  </tbody>\n",
       "</table>\n",
       "</div>"
      ],
      "text/plain": [
       "            a        b\n",
       "count     2.0      2.0\n",
       "mean   5678.0  11356.0\n",
       "std       0.0      0.0\n",
       "min    5678.0  11356.0\n",
       "25%    5678.0  11356.0\n",
       "50%    5678.0  11356.0\n",
       "75%    5678.0  11356.0\n",
       "max    5678.0  11356.0"
      ]
     },
     "execution_count": 186,
     "metadata": {},
     "output_type": "execute_result"
    }
   ],
   "source": [
    "df.describe()"
   ]
  },
  {
   "cell_type": "code",
   "execution_count": 187,
   "id": "ec716982-9447-4484-be85-cd75e4d324ae",
   "metadata": {},
   "outputs": [
    {
     "data": {
      "text/plain": [
       "np.float64(8517.0)"
      ]
     },
     "execution_count": 187,
     "metadata": {},
     "output_type": "execute_result"
    }
   ],
   "source": [
    "# mean equivalence \n",
    "df.mean().mean()"
   ]
  },
  {
   "cell_type": "code",
   "execution_count": 188,
   "id": "c9362fa5-c122-4f17-bc1d-db9ad0fe8c17",
   "metadata": {},
   "outputs": [
    {
     "data": {
      "text/plain": [
       "np.float64(8517.0)"
      ]
     },
     "execution_count": 188,
     "metadata": {},
     "output_type": "execute_result"
    }
   ],
   "source": [
    "df.values.mean()"
   ]
  },
  {
   "cell_type": "code",
   "execution_count": 189,
   "id": "4f5bfd48-2538-44e2-890c-3a0047fc57a4",
   "metadata": {},
   "outputs": [],
   "source": [
    "df2 = pd.DataFrame({\"a\": [1, 2, None], \"b\": [10, 20, 30]})"
   ]
  },
  {
   "cell_type": "code",
   "execution_count": 190,
   "id": "f55f561a-4c4d-448d-b590-e33e041c35c3",
   "metadata": {},
   "outputs": [
    {
     "data": {
      "text/html": [
       "<div>\n",
       "<style scoped>\n",
       "    .dataframe tbody tr th:only-of-type {\n",
       "        vertical-align: middle;\n",
       "    }\n",
       "\n",
       "    .dataframe tbody tr th {\n",
       "        vertical-align: top;\n",
       "    }\n",
       "\n",
       "    .dataframe thead th {\n",
       "        text-align: right;\n",
       "    }\n",
       "</style>\n",
       "<table border=\"1\" class=\"dataframe\">\n",
       "  <thead>\n",
       "    <tr style=\"text-align: right;\">\n",
       "      <th></th>\n",
       "      <th>a</th>\n",
       "      <th>b</th>\n",
       "    </tr>\n",
       "  </thead>\n",
       "  <tbody>\n",
       "    <tr>\n",
       "      <th>0</th>\n",
       "      <td>1.0</td>\n",
       "      <td>10</td>\n",
       "    </tr>\n",
       "    <tr>\n",
       "      <th>1</th>\n",
       "      <td>2.0</td>\n",
       "      <td>20</td>\n",
       "    </tr>\n",
       "    <tr>\n",
       "      <th>2</th>\n",
       "      <td>NaN</td>\n",
       "      <td>30</td>\n",
       "    </tr>\n",
       "  </tbody>\n",
       "</table>\n",
       "</div>"
      ],
      "text/plain": [
       "     a   b\n",
       "0  1.0  10\n",
       "1  2.0  20\n",
       "2  NaN  30"
      ]
     },
     "execution_count": 190,
     "metadata": {},
     "output_type": "execute_result"
    }
   ],
   "source": [
    "df2"
   ]
  },
  {
   "cell_type": "code",
   "execution_count": 191,
   "id": "f950c24b-880e-4c82-9bd1-74a2b1f54a51",
   "metadata": {},
   "outputs": [
    {
     "data": {
      "text/plain": [
       "a     1.5\n",
       "b    20.0\n",
       "dtype: float64"
      ]
     },
     "execution_count": 191,
     "metadata": {},
     "output_type": "execute_result"
    }
   ],
   "source": [
    "df2.mean()"
   ]
  },
  {
   "cell_type": "code",
   "execution_count": 192,
   "id": "d315cd75-c815-466c-8919-dd0e59a67246",
   "metadata": {},
   "outputs": [
    {
     "data": {
      "text/plain": [
       "np.float64(10.75)"
      ]
     },
     "execution_count": 192,
     "metadata": {},
     "output_type": "execute_result"
    }
   ],
   "source": [
    "df2.mean().mean()"
   ]
  },
  {
   "cell_type": "code",
   "execution_count": 193,
   "id": "1ebcb49c-5536-45d9-9cd8-b88c065cb163",
   "metadata": {},
   "outputs": [
    {
     "data": {
      "text/plain": [
       "np.float64(nan)"
      ]
     },
     "execution_count": 193,
     "metadata": {},
     "output_type": "execute_result"
    }
   ],
   "source": [
    "# df2.values returns a Numpy array which doesn't ignore nan!!\n",
    "df2.values.mean()"
   ]
  },
  {
   "cell_type": "markdown",
   "id": "6cf0657c-44aa-44b3-8ba6-e67e5c8655ba",
   "metadata": {},
   "source": [
    "## Missing Values"
   ]
  },
  {
   "cell_type": "code",
   "execution_count": 194,
   "id": "fe341827-c7ec-4f59-b16b-186c21f68acc",
   "metadata": {},
   "outputs": [
    {
     "data": {
      "text/html": [
       "<div>\n",
       "<style scoped>\n",
       "    .dataframe tbody tr th:only-of-type {\n",
       "        vertical-align: middle;\n",
       "    }\n",
       "\n",
       "    .dataframe tbody tr th {\n",
       "        vertical-align: top;\n",
       "    }\n",
       "\n",
       "    .dataframe thead th {\n",
       "        text-align: right;\n",
       "    }\n",
       "</style>\n",
       "<table border=\"1\" class=\"dataframe\">\n",
       "  <thead>\n",
       "    <tr style=\"text-align: right;\">\n",
       "      <th></th>\n",
       "      <th>a</th>\n",
       "      <th>b</th>\n",
       "    </tr>\n",
       "  </thead>\n",
       "  <tbody>\n",
       "    <tr>\n",
       "      <th>0</th>\n",
       "      <td>1.0</td>\n",
       "      <td>10</td>\n",
       "    </tr>\n",
       "    <tr>\n",
       "      <th>1</th>\n",
       "      <td>2.0</td>\n",
       "      <td>20</td>\n",
       "    </tr>\n",
       "    <tr>\n",
       "      <th>2</th>\n",
       "      <td>NaN</td>\n",
       "      <td>30</td>\n",
       "    </tr>\n",
       "  </tbody>\n",
       "</table>\n",
       "</div>"
      ],
      "text/plain": [
       "     a   b\n",
       "0  1.0  10\n",
       "1  2.0  20\n",
       "2  NaN  30"
      ]
     },
     "execution_count": 194,
     "metadata": {},
     "output_type": "execute_result"
    }
   ],
   "source": [
    "df = pd.DataFrame({\"a\": [1, 2, None], \"b\": [10, 20, 30]})\n",
    "df"
   ]
  },
  {
   "cell_type": "code",
   "execution_count": 195,
   "id": "979b3898-c342-45a4-94df-ed1e1fe41f79",
   "metadata": {},
   "outputs": [
    {
     "data": {
      "text/html": [
       "<div>\n",
       "<style scoped>\n",
       "    .dataframe tbody tr th:only-of-type {\n",
       "        vertical-align: middle;\n",
       "    }\n",
       "\n",
       "    .dataframe tbody tr th {\n",
       "        vertical-align: top;\n",
       "    }\n",
       "\n",
       "    .dataframe thead th {\n",
       "        text-align: right;\n",
       "    }\n",
       "</style>\n",
       "<table border=\"1\" class=\"dataframe\">\n",
       "  <thead>\n",
       "    <tr style=\"text-align: right;\">\n",
       "      <th></th>\n",
       "      <th>a</th>\n",
       "      <th>b</th>\n",
       "    </tr>\n",
       "  </thead>\n",
       "  <tbody>\n",
       "    <tr>\n",
       "      <th>0</th>\n",
       "      <td>False</td>\n",
       "      <td>False</td>\n",
       "    </tr>\n",
       "    <tr>\n",
       "      <th>1</th>\n",
       "      <td>False</td>\n",
       "      <td>False</td>\n",
       "    </tr>\n",
       "    <tr>\n",
       "      <th>2</th>\n",
       "      <td>True</td>\n",
       "      <td>False</td>\n",
       "    </tr>\n",
       "  </tbody>\n",
       "</table>\n",
       "</div>"
      ],
      "text/plain": [
       "       a      b\n",
       "0  False  False\n",
       "1  False  False\n",
       "2   True  False"
      ]
     },
     "execution_count": 195,
     "metadata": {},
     "output_type": "execute_result"
    }
   ],
   "source": [
    "df.isna()"
   ]
  },
  {
   "cell_type": "code",
   "execution_count": 196,
   "id": "9454a38a-0096-4111-b62c-e4c759c456f3",
   "metadata": {},
   "outputs": [
    {
     "data": {
      "text/html": [
       "<div>\n",
       "<style scoped>\n",
       "    .dataframe tbody tr th:only-of-type {\n",
       "        vertical-align: middle;\n",
       "    }\n",
       "\n",
       "    .dataframe tbody tr th {\n",
       "        vertical-align: top;\n",
       "    }\n",
       "\n",
       "    .dataframe thead th {\n",
       "        text-align: right;\n",
       "    }\n",
       "</style>\n",
       "<table border=\"1\" class=\"dataframe\">\n",
       "  <thead>\n",
       "    <tr style=\"text-align: right;\">\n",
       "      <th></th>\n",
       "      <th>a</th>\n",
       "      <th>b</th>\n",
       "    </tr>\n",
       "  </thead>\n",
       "  <tbody>\n",
       "    <tr>\n",
       "      <th>count</th>\n",
       "      <td>2.000000</td>\n",
       "      <td>3.0</td>\n",
       "    </tr>\n",
       "    <tr>\n",
       "      <th>mean</th>\n",
       "      <td>1.500000</td>\n",
       "      <td>20.0</td>\n",
       "    </tr>\n",
       "    <tr>\n",
       "      <th>std</th>\n",
       "      <td>0.707107</td>\n",
       "      <td>10.0</td>\n",
       "    </tr>\n",
       "    <tr>\n",
       "      <th>min</th>\n",
       "      <td>1.000000</td>\n",
       "      <td>10.0</td>\n",
       "    </tr>\n",
       "    <tr>\n",
       "      <th>25%</th>\n",
       "      <td>1.250000</td>\n",
       "      <td>15.0</td>\n",
       "    </tr>\n",
       "    <tr>\n",
       "      <th>50%</th>\n",
       "      <td>1.500000</td>\n",
       "      <td>20.0</td>\n",
       "    </tr>\n",
       "    <tr>\n",
       "      <th>75%</th>\n",
       "      <td>1.750000</td>\n",
       "      <td>25.0</td>\n",
       "    </tr>\n",
       "    <tr>\n",
       "      <th>max</th>\n",
       "      <td>2.000000</td>\n",
       "      <td>30.0</td>\n",
       "    </tr>\n",
       "  </tbody>\n",
       "</table>\n",
       "</div>"
      ],
      "text/plain": [
       "              a     b\n",
       "count  2.000000   3.0\n",
       "mean   1.500000  20.0\n",
       "std    0.707107  10.0\n",
       "min    1.000000  10.0\n",
       "25%    1.250000  15.0\n",
       "50%    1.500000  20.0\n",
       "75%    1.750000  25.0\n",
       "max    2.000000  30.0"
      ]
     },
     "execution_count": 196,
     "metadata": {},
     "output_type": "execute_result"
    }
   ],
   "source": [
    "df.describe()"
   ]
  },
  {
   "cell_type": "code",
   "execution_count": 197,
   "id": "bec07099-878c-49c4-ae72-d6173f7887ed",
   "metadata": {},
   "outputs": [
    {
     "data": {
      "text/html": [
       "<div>\n",
       "<style scoped>\n",
       "    .dataframe tbody tr th:only-of-type {\n",
       "        vertical-align: middle;\n",
       "    }\n",
       "\n",
       "    .dataframe tbody tr th {\n",
       "        vertical-align: top;\n",
       "    }\n",
       "\n",
       "    .dataframe thead th {\n",
       "        text-align: right;\n",
       "    }\n",
       "</style>\n",
       "<table border=\"1\" class=\"dataframe\">\n",
       "  <thead>\n",
       "    <tr style=\"text-align: right;\">\n",
       "      <th></th>\n",
       "      <th>a</th>\n",
       "      <th>b</th>\n",
       "    </tr>\n",
       "  </thead>\n",
       "  <tbody>\n",
       "    <tr>\n",
       "      <th>0</th>\n",
       "      <td>1.0</td>\n",
       "      <td>10</td>\n",
       "    </tr>\n",
       "    <tr>\n",
       "      <th>1</th>\n",
       "      <td>2.0</td>\n",
       "      <td>20</td>\n",
       "    </tr>\n",
       "    <tr>\n",
       "      <th>2</th>\n",
       "      <td>1000.0</td>\n",
       "      <td>30</td>\n",
       "    </tr>\n",
       "  </tbody>\n",
       "</table>\n",
       "</div>"
      ],
      "text/plain": [
       "        a   b\n",
       "0     1.0  10\n",
       "1     2.0  20\n",
       "2  1000.0  30"
      ]
     },
     "execution_count": 197,
     "metadata": {},
     "output_type": "execute_result"
    }
   ],
   "source": [
    "df = df.fillna(1000)\n",
    "df"
   ]
  },
  {
   "cell_type": "code",
   "execution_count": 198,
   "id": "65b68ae7-e524-4918-819f-fd206c0bf87b",
   "metadata": {},
   "outputs": [
    {
     "data": {
      "text/html": [
       "<div>\n",
       "<style scoped>\n",
       "    .dataframe tbody tr th:only-of-type {\n",
       "        vertical-align: middle;\n",
       "    }\n",
       "\n",
       "    .dataframe tbody tr th {\n",
       "        vertical-align: top;\n",
       "    }\n",
       "\n",
       "    .dataframe thead th {\n",
       "        text-align: right;\n",
       "    }\n",
       "</style>\n",
       "<table border=\"1\" class=\"dataframe\">\n",
       "  <thead>\n",
       "    <tr style=\"text-align: right;\">\n",
       "      <th></th>\n",
       "      <th>a</th>\n",
       "      <th>b</th>\n",
       "    </tr>\n",
       "  </thead>\n",
       "  <tbody>\n",
       "    <tr>\n",
       "      <th>0</th>\n",
       "      <td>1.0</td>\n",
       "      <td>10</td>\n",
       "    </tr>\n",
       "    <tr>\n",
       "      <th>1</th>\n",
       "      <td>2.0</td>\n",
       "      <td>20</td>\n",
       "    </tr>\n",
       "    <tr>\n",
       "      <th>2</th>\n",
       "      <td>None</td>\n",
       "      <td>30</td>\n",
       "    </tr>\n",
       "  </tbody>\n",
       "</table>\n",
       "</div>"
      ],
      "text/plain": [
       "      a   b\n",
       "0   1.0  10\n",
       "1   2.0  20\n",
       "2  None  30"
      ]
     },
     "execution_count": 198,
     "metadata": {},
     "output_type": "execute_result"
    }
   ],
   "source": [
    "df = df.replace(1000, None)\n",
    "df"
   ]
  },
  {
   "cell_type": "code",
   "execution_count": 199,
   "id": "a68251c7-3349-41b8-a8fe-46a803968207",
   "metadata": {},
   "outputs": [
    {
     "name": "stderr",
     "output_type": "stream",
     "text": [
      "/var/folders/ws/xh9mmcpn2v721tc86jthpmcw0000gn/T/ipykernel_30045/634187881.py:1: FutureWarning: Downcasting object dtype arrays on .fillna, .ffill, .bfill is deprecated and will change in a future version. Call result.infer_objects(copy=False) instead. To opt-in to the future behavior, set `pd.set_option('future.no_silent_downcasting', True)`\n",
      "  df.fillna(df.mean())\n"
     ]
    },
    {
     "data": {
      "text/html": [
       "<div>\n",
       "<style scoped>\n",
       "    .dataframe tbody tr th:only-of-type {\n",
       "        vertical-align: middle;\n",
       "    }\n",
       "\n",
       "    .dataframe tbody tr th {\n",
       "        vertical-align: top;\n",
       "    }\n",
       "\n",
       "    .dataframe thead th {\n",
       "        text-align: right;\n",
       "    }\n",
       "</style>\n",
       "<table border=\"1\" class=\"dataframe\">\n",
       "  <thead>\n",
       "    <tr style=\"text-align: right;\">\n",
       "      <th></th>\n",
       "      <th>a</th>\n",
       "      <th>b</th>\n",
       "    </tr>\n",
       "  </thead>\n",
       "  <tbody>\n",
       "    <tr>\n",
       "      <th>0</th>\n",
       "      <td>1.0</td>\n",
       "      <td>10</td>\n",
       "    </tr>\n",
       "    <tr>\n",
       "      <th>1</th>\n",
       "      <td>2.0</td>\n",
       "      <td>20</td>\n",
       "    </tr>\n",
       "    <tr>\n",
       "      <th>2</th>\n",
       "      <td>1.5</td>\n",
       "      <td>30</td>\n",
       "    </tr>\n",
       "  </tbody>\n",
       "</table>\n",
       "</div>"
      ],
      "text/plain": [
       "     a   b\n",
       "0  1.0  10\n",
       "1  2.0  20\n",
       "2  1.5  30"
      ]
     },
     "execution_count": 199,
     "metadata": {},
     "output_type": "execute_result"
    }
   ],
   "source": [
    "df.fillna(df.mean())"
   ]
  },
  {
   "cell_type": "code",
   "execution_count": 200,
   "id": "4c7aa143-7e68-40f1-bbc9-e7795b0f9f10",
   "metadata": {},
   "outputs": [
    {
     "data": {
      "text/html": [
       "<div>\n",
       "<style scoped>\n",
       "    .dataframe tbody tr th:only-of-type {\n",
       "        vertical-align: middle;\n",
       "    }\n",
       "\n",
       "    .dataframe tbody tr th {\n",
       "        vertical-align: top;\n",
       "    }\n",
       "\n",
       "    .dataframe thead th {\n",
       "        text-align: right;\n",
       "    }\n",
       "</style>\n",
       "<table border=\"1\" class=\"dataframe\">\n",
       "  <thead>\n",
       "    <tr style=\"text-align: right;\">\n",
       "      <th></th>\n",
       "      <th>a</th>\n",
       "      <th>b</th>\n",
       "    </tr>\n",
       "  </thead>\n",
       "  <tbody>\n",
       "    <tr>\n",
       "      <th>0</th>\n",
       "      <td>1.0</td>\n",
       "      <td>10</td>\n",
       "    </tr>\n",
       "    <tr>\n",
       "      <th>1</th>\n",
       "      <td>2.0</td>\n",
       "      <td>20</td>\n",
       "    </tr>\n",
       "    <tr>\n",
       "      <th>2</th>\n",
       "      <td>None</td>\n",
       "      <td>30</td>\n",
       "    </tr>\n",
       "  </tbody>\n",
       "</table>\n",
       "</div>"
      ],
      "text/plain": [
       "      a   b\n",
       "0   1.0  10\n",
       "1   2.0  20\n",
       "2  None  30"
      ]
     },
     "execution_count": 200,
     "metadata": {},
     "output_type": "execute_result"
    }
   ],
   "source": [
    "df"
   ]
  },
  {
   "cell_type": "code",
   "execution_count": 201,
   "id": "a20fa9e4-c265-4408-b167-7c83187ff2d0",
   "metadata": {},
   "outputs": [
    {
     "data": {
      "text/html": [
       "<div>\n",
       "<style scoped>\n",
       "    .dataframe tbody tr th:only-of-type {\n",
       "        vertical-align: middle;\n",
       "    }\n",
       "\n",
       "    .dataframe tbody tr th {\n",
       "        vertical-align: top;\n",
       "    }\n",
       "\n",
       "    .dataframe thead th {\n",
       "        text-align: right;\n",
       "    }\n",
       "</style>\n",
       "<table border=\"1\" class=\"dataframe\">\n",
       "  <thead>\n",
       "    <tr style=\"text-align: right;\">\n",
       "      <th></th>\n",
       "      <th>a</th>\n",
       "      <th>b</th>\n",
       "    </tr>\n",
       "  </thead>\n",
       "  <tbody>\n",
       "    <tr>\n",
       "      <th>0</th>\n",
       "      <td>1.0</td>\n",
       "      <td>10</td>\n",
       "    </tr>\n",
       "    <tr>\n",
       "      <th>1</th>\n",
       "      <td>2.0</td>\n",
       "      <td>20</td>\n",
       "    </tr>\n",
       "  </tbody>\n",
       "</table>\n",
       "</div>"
      ],
      "text/plain": [
       "     a   b\n",
       "0  1.0  10\n",
       "1  2.0  20"
      ]
     },
     "execution_count": 201,
     "metadata": {},
     "output_type": "execute_result"
    }
   ],
   "source": [
    "# drop a row if it contains at least one NaN\n",
    "df.dropna()"
   ]
  },
  {
   "cell_type": "code",
   "execution_count": 202,
   "id": "b1ee9703-75a0-4324-8af7-1071d1d1ba04",
   "metadata": {},
   "outputs": [
    {
     "data": {
      "text/html": [
       "<div>\n",
       "<style scoped>\n",
       "    .dataframe tbody tr th:only-of-type {\n",
       "        vertical-align: middle;\n",
       "    }\n",
       "\n",
       "    .dataframe tbody tr th {\n",
       "        vertical-align: top;\n",
       "    }\n",
       "\n",
       "    .dataframe thead th {\n",
       "        text-align: right;\n",
       "    }\n",
       "</style>\n",
       "<table border=\"1\" class=\"dataframe\">\n",
       "  <thead>\n",
       "    <tr style=\"text-align: right;\">\n",
       "      <th></th>\n",
       "      <th>a</th>\n",
       "      <th>b</th>\n",
       "    </tr>\n",
       "  </thead>\n",
       "  <tbody>\n",
       "    <tr>\n",
       "      <th>0</th>\n",
       "      <td>1.0</td>\n",
       "      <td>10</td>\n",
       "    </tr>\n",
       "    <tr>\n",
       "      <th>1</th>\n",
       "      <td>2.0</td>\n",
       "      <td>20</td>\n",
       "    </tr>\n",
       "    <tr>\n",
       "      <th>2</th>\n",
       "      <td>None</td>\n",
       "      <td>30</td>\n",
       "    </tr>\n",
       "  </tbody>\n",
       "</table>\n",
       "</div>"
      ],
      "text/plain": [
       "      a   b\n",
       "0   1.0  10\n",
       "1   2.0  20\n",
       "2  None  30"
      ]
     },
     "execution_count": 202,
     "metadata": {},
     "output_type": "execute_result"
    }
   ],
   "source": [
    "# you can specify a threshold for the minimum number of non-NaN values required to keep a row\n",
    "df.dropna(thresh=1)"
   ]
  },
  {
   "cell_type": "code",
   "execution_count": 203,
   "id": "8f9838d3-6dde-40b0-aa26-b781f9bdb880",
   "metadata": {},
   "outputs": [
    {
     "data": {
      "text/html": [
       "<div>\n",
       "<style scoped>\n",
       "    .dataframe tbody tr th:only-of-type {\n",
       "        vertical-align: middle;\n",
       "    }\n",
       "\n",
       "    .dataframe tbody tr th {\n",
       "        vertical-align: top;\n",
       "    }\n",
       "\n",
       "    .dataframe thead th {\n",
       "        text-align: right;\n",
       "    }\n",
       "</style>\n",
       "<table border=\"1\" class=\"dataframe\">\n",
       "  <thead>\n",
       "    <tr style=\"text-align: right;\">\n",
       "      <th></th>\n",
       "      <th>a</th>\n",
       "      <th>b</th>\n",
       "    </tr>\n",
       "  </thead>\n",
       "  <tbody>\n",
       "    <tr>\n",
       "      <th>0</th>\n",
       "      <td>1.0</td>\n",
       "      <td>10</td>\n",
       "    </tr>\n",
       "    <tr>\n",
       "      <th>1</th>\n",
       "      <td>2.0</td>\n",
       "      <td>20</td>\n",
       "    </tr>\n",
       "  </tbody>\n",
       "</table>\n",
       "</div>"
      ],
      "text/plain": [
       "     a   b\n",
       "0  1.0  10\n",
       "1  2.0  20"
      ]
     },
     "execution_count": 203,
     "metadata": {},
     "output_type": "execute_result"
    }
   ],
   "source": [
    "df.dropna(thresh=2)"
   ]
  },
  {
   "cell_type": "markdown",
   "id": "b28d9c90-886e-4824-aeb7-f7ebdd027447",
   "metadata": {},
   "source": [
    "## Where method"
   ]
  },
  {
   "cell_type": "code",
   "execution_count": 204,
   "id": "dbc23891-494e-46c4-9fbc-31963b1fbfdf",
   "metadata": {},
   "outputs": [
    {
     "data": {
      "text/html": [
       "<div>\n",
       "<style scoped>\n",
       "    .dataframe tbody tr th:only-of-type {\n",
       "        vertical-align: middle;\n",
       "    }\n",
       "\n",
       "    .dataframe tbody tr th {\n",
       "        vertical-align: top;\n",
       "    }\n",
       "\n",
       "    .dataframe thead th {\n",
       "        text-align: right;\n",
       "    }\n",
       "</style>\n",
       "<table border=\"1\" class=\"dataframe\">\n",
       "  <thead>\n",
       "    <tr style=\"text-align: right;\">\n",
       "      <th></th>\n",
       "      <th>a</th>\n",
       "      <th>b</th>\n",
       "    </tr>\n",
       "  </thead>\n",
       "  <tbody>\n",
       "    <tr>\n",
       "      <th>0</th>\n",
       "      <td>NaN</td>\n",
       "      <td>NaN</td>\n",
       "    </tr>\n",
       "    <tr>\n",
       "      <th>1</th>\n",
       "      <td>2.0</td>\n",
       "      <td>NaN</td>\n",
       "    </tr>\n",
       "    <tr>\n",
       "      <th>2</th>\n",
       "      <td>NaN</td>\n",
       "      <td>30.0</td>\n",
       "    </tr>\n",
       "  </tbody>\n",
       "</table>\n",
       "</div>"
      ],
      "text/plain": [
       "     a     b\n",
       "0  NaN   NaN\n",
       "1  2.0   NaN\n",
       "2  NaN  30.0"
      ]
     },
     "execution_count": 204,
     "metadata": {},
     "output_type": "execute_result"
    }
   ],
   "source": [
    "# keep values in a column that are higher than the mean of that column\n",
    "df.where(df > df.mean())"
   ]
  },
  {
   "cell_type": "code",
   "execution_count": 205,
   "id": "deca39ab-fbdd-4f37-a48c-c304ef13ba76",
   "metadata": {},
   "outputs": [
    {
     "data": {
      "text/plain": [
       "a     1.5\n",
       "b    20.0\n",
       "dtype: object"
      ]
     },
     "execution_count": 205,
     "metadata": {},
     "output_type": "execute_result"
    }
   ],
   "source": [
    "# note again that the mean is per column!\n",
    "df.mean()"
   ]
  },
  {
   "cell_type": "markdown",
   "id": "d723b633-ee45-4b77-bf6c-447c4c8cfe80",
   "metadata": {},
   "source": [
    "## Clip Method"
   ]
  },
  {
   "cell_type": "code",
   "execution_count": 206,
   "id": "625abc89-83de-443a-8895-c530292e3aa5",
   "metadata": {},
   "outputs": [
    {
     "data": {
      "text/html": [
       "<div>\n",
       "<style scoped>\n",
       "    .dataframe tbody tr th:only-of-type {\n",
       "        vertical-align: middle;\n",
       "    }\n",
       "\n",
       "    .dataframe tbody tr th {\n",
       "        vertical-align: top;\n",
       "    }\n",
       "\n",
       "    .dataframe thead th {\n",
       "        text-align: right;\n",
       "    }\n",
       "</style>\n",
       "<table border=\"1\" class=\"dataframe\">\n",
       "  <thead>\n",
       "    <tr style=\"text-align: right;\">\n",
       "      <th></th>\n",
       "      <th>a</th>\n",
       "      <th>b</th>\n",
       "    </tr>\n",
       "  </thead>\n",
       "  <tbody>\n",
       "    <tr>\n",
       "      <th>0</th>\n",
       "      <td>1.0</td>\n",
       "      <td>10</td>\n",
       "    </tr>\n",
       "    <tr>\n",
       "      <th>1</th>\n",
       "      <td>2.0</td>\n",
       "      <td>20</td>\n",
       "    </tr>\n",
       "    <tr>\n",
       "      <th>2</th>\n",
       "      <td>None</td>\n",
       "      <td>30</td>\n",
       "    </tr>\n",
       "  </tbody>\n",
       "</table>\n",
       "</div>"
      ],
      "text/plain": [
       "      a   b\n",
       "0   1.0  10\n",
       "1   2.0  20\n",
       "2  None  30"
      ]
     },
     "execution_count": 206,
     "metadata": {},
     "output_type": "execute_result"
    }
   ],
   "source": [
    "df"
   ]
  },
  {
   "cell_type": "code",
   "execution_count": 207,
   "id": "72a7f8b3-b5ff-4f83-a9de-0484791a473f",
   "metadata": {},
   "outputs": [
    {
     "data": {
      "text/plain": [
       "0    20\n",
       "1    20\n",
       "2    25\n",
       "Name: b, dtype: int64"
      ]
     },
     "execution_count": 207,
     "metadata": {},
     "output_type": "execute_result"
    }
   ],
   "source": [
    "# anything below 20 becomes 20, anything above 25 becomes 25\n",
    "df[\"b\"].clip(20, 25)"
   ]
  },
  {
   "cell_type": "markdown",
   "id": "b43909ea-cc2b-4697-b9b6-8a357366b531",
   "metadata": {},
   "source": [
    "# Indexes and Multi-indexes"
   ]
  },
  {
   "cell_type": "code",
   "execution_count": 232,
   "id": "c0143f73-0306-4ad6-ac2b-a12100ded932",
   "metadata": {},
   "outputs": [
    {
     "data": {
      "text/html": [
       "<div>\n",
       "<style scoped>\n",
       "    .dataframe tbody tr th:only-of-type {\n",
       "        vertical-align: middle;\n",
       "    }\n",
       "\n",
       "    .dataframe tbody tr th {\n",
       "        vertical-align: top;\n",
       "    }\n",
       "\n",
       "    .dataframe thead th {\n",
       "        text-align: right;\n",
       "    }\n",
       "</style>\n",
       "<table border=\"1\" class=\"dataframe\">\n",
       "  <thead>\n",
       "    <tr style=\"text-align: right;\">\n",
       "      <th></th>\n",
       "      <th>a</th>\n",
       "      <th>b</th>\n",
       "    </tr>\n",
       "  </thead>\n",
       "  <tbody>\n",
       "    <tr>\n",
       "      <th>0</th>\n",
       "      <td>1.0</td>\n",
       "      <td>10</td>\n",
       "    </tr>\n",
       "    <tr>\n",
       "      <th>1</th>\n",
       "      <td>2.0</td>\n",
       "      <td>20</td>\n",
       "    </tr>\n",
       "    <tr>\n",
       "      <th>2</th>\n",
       "      <td>None</td>\n",
       "      <td>30</td>\n",
       "    </tr>\n",
       "  </tbody>\n",
       "</table>\n",
       "</div>"
      ],
      "text/plain": [
       "      a   b\n",
       "0   1.0  10\n",
       "1   2.0  20\n",
       "2  None  30"
      ]
     },
     "execution_count": 232,
     "metadata": {},
     "output_type": "execute_result"
    }
   ],
   "source": [
    "df"
   ]
  },
  {
   "cell_type": "code",
   "execution_count": 233,
   "id": "12e5f7f6-6ab1-48a5-9a48-fde17e672c8b",
   "metadata": {},
   "outputs": [
    {
     "data": {
      "text/html": [
       "<div>\n",
       "<style scoped>\n",
       "    .dataframe tbody tr th:only-of-type {\n",
       "        vertical-align: middle;\n",
       "    }\n",
       "\n",
       "    .dataframe tbody tr th {\n",
       "        vertical-align: top;\n",
       "    }\n",
       "\n",
       "    .dataframe thead th {\n",
       "        text-align: right;\n",
       "    }\n",
       "</style>\n",
       "<table border=\"1\" class=\"dataframe\">\n",
       "  <thead>\n",
       "    <tr style=\"text-align: right;\">\n",
       "      <th></th>\n",
       "      <th>b</th>\n",
       "    </tr>\n",
       "    <tr>\n",
       "      <th>a</th>\n",
       "      <th></th>\n",
       "    </tr>\n",
       "  </thead>\n",
       "  <tbody>\n",
       "    <tr>\n",
       "      <th>1.0</th>\n",
       "      <td>10</td>\n",
       "    </tr>\n",
       "    <tr>\n",
       "      <th>2.0</th>\n",
       "      <td>20</td>\n",
       "    </tr>\n",
       "    <tr>\n",
       "      <th>None</th>\n",
       "      <td>30</td>\n",
       "    </tr>\n",
       "  </tbody>\n",
       "</table>\n",
       "</div>"
      ],
      "text/plain": [
       "       b\n",
       "a       \n",
       "1.0   10\n",
       "2.0   20\n",
       "None  30"
      ]
     },
     "execution_count": 233,
     "metadata": {},
     "output_type": "execute_result"
    }
   ],
   "source": [
    "# you can use a column as index of the df - NB: you need to reassign\n",
    "df.set_index(\"a\")"
   ]
  },
  {
   "cell_type": "code",
   "execution_count": 234,
   "id": "740a47f7-4732-4986-894e-74f92229f9ce",
   "metadata": {},
   "outputs": [
    {
     "data": {
      "text/html": [
       "<div>\n",
       "<style scoped>\n",
       "    .dataframe tbody tr th:only-of-type {\n",
       "        vertical-align: middle;\n",
       "    }\n",
       "\n",
       "    .dataframe tbody tr th {\n",
       "        vertical-align: top;\n",
       "    }\n",
       "\n",
       "    .dataframe thead th {\n",
       "        text-align: right;\n",
       "    }\n",
       "</style>\n",
       "<table border=\"1\" class=\"dataframe\">\n",
       "  <thead>\n",
       "    <tr style=\"text-align: right;\">\n",
       "      <th></th>\n",
       "      <th>a</th>\n",
       "      <th>b</th>\n",
       "    </tr>\n",
       "  </thead>\n",
       "  <tbody>\n",
       "    <tr>\n",
       "      <th>0</th>\n",
       "      <td>1.0</td>\n",
       "      <td>10</td>\n",
       "    </tr>\n",
       "    <tr>\n",
       "      <th>1</th>\n",
       "      <td>2.0</td>\n",
       "      <td>20</td>\n",
       "    </tr>\n",
       "    <tr>\n",
       "      <th>2</th>\n",
       "      <td>None</td>\n",
       "      <td>30</td>\n",
       "    </tr>\n",
       "  </tbody>\n",
       "</table>\n",
       "</div>"
      ],
      "text/plain": [
       "      a   b\n",
       "0   1.0  10\n",
       "1   2.0  20\n",
       "2  None  30"
      ]
     },
     "execution_count": 234,
     "metadata": {},
     "output_type": "execute_result"
    }
   ],
   "source": []
  },
  {
   "cell_type": "code",
   "execution_count": 235,
   "id": "57c3f16b-83c9-4d97-bc0a-f4cfe10b0ff1",
   "metadata": {},
   "outputs": [],
   "source": [
    "df = df.set_index(\"a\")"
   ]
  },
  {
   "cell_type": "code",
   "execution_count": 236,
   "id": "692f5301-c069-481d-b5f1-28d73a4bb976",
   "metadata": {},
   "outputs": [
    {
     "data": {
      "text/html": [
       "<div>\n",
       "<style scoped>\n",
       "    .dataframe tbody tr th:only-of-type {\n",
       "        vertical-align: middle;\n",
       "    }\n",
       "\n",
       "    .dataframe tbody tr th {\n",
       "        vertical-align: top;\n",
       "    }\n",
       "\n",
       "    .dataframe thead th {\n",
       "        text-align: right;\n",
       "    }\n",
       "</style>\n",
       "<table border=\"1\" class=\"dataframe\">\n",
       "  <thead>\n",
       "    <tr style=\"text-align: right;\">\n",
       "      <th></th>\n",
       "      <th>b</th>\n",
       "    </tr>\n",
       "    <tr>\n",
       "      <th>a</th>\n",
       "      <th></th>\n",
       "    </tr>\n",
       "  </thead>\n",
       "  <tbody>\n",
       "    <tr>\n",
       "      <th>1.0</th>\n",
       "      <td>10</td>\n",
       "    </tr>\n",
       "    <tr>\n",
       "      <th>2.0</th>\n",
       "      <td>20</td>\n",
       "    </tr>\n",
       "    <tr>\n",
       "      <th>None</th>\n",
       "      <td>30</td>\n",
       "    </tr>\n",
       "  </tbody>\n",
       "</table>\n",
       "</div>"
      ],
      "text/plain": [
       "       b\n",
       "a       \n",
       "1.0   10\n",
       "2.0   20\n",
       "None  30"
      ]
     },
     "execution_count": 236,
     "metadata": {},
     "output_type": "execute_result"
    }
   ],
   "source": [
    "df"
   ]
  },
  {
   "cell_type": "code",
   "execution_count": 239,
   "id": "5b86a342-17bc-4c91-b32e-bb6c88b0a0fb",
   "metadata": {},
   "outputs": [
    {
     "data": {
      "text/html": [
       "<div>\n",
       "<style scoped>\n",
       "    .dataframe tbody tr th:only-of-type {\n",
       "        vertical-align: middle;\n",
       "    }\n",
       "\n",
       "    .dataframe tbody tr th {\n",
       "        vertical-align: top;\n",
       "    }\n",
       "\n",
       "    .dataframe thead th {\n",
       "        text-align: right;\n",
       "    }\n",
       "</style>\n",
       "<table border=\"1\" class=\"dataframe\">\n",
       "  <thead>\n",
       "    <tr style=\"text-align: right;\">\n",
       "      <th></th>\n",
       "      <th>a</th>\n",
       "      <th>b</th>\n",
       "    </tr>\n",
       "  </thead>\n",
       "  <tbody>\n",
       "    <tr>\n",
       "      <th>0</th>\n",
       "      <td>1.0</td>\n",
       "      <td>10</td>\n",
       "    </tr>\n",
       "    <tr>\n",
       "      <th>1</th>\n",
       "      <td>2.0</td>\n",
       "      <td>20</td>\n",
       "    </tr>\n",
       "    <tr>\n",
       "      <th>2</th>\n",
       "      <td>NaN</td>\n",
       "      <td>30</td>\n",
       "    </tr>\n",
       "  </tbody>\n",
       "</table>\n",
       "</div>"
      ],
      "text/plain": [
       "     a   b\n",
       "0  1.0  10\n",
       "1  2.0  20\n",
       "2  NaN  30"
      ]
     },
     "execution_count": 239,
     "metadata": {},
     "output_type": "execute_result"
    }
   ],
   "source": [
    "# reset index\n",
    "df = df.reset_index()\n",
    "df"
   ]
  },
  {
   "cell_type": "markdown",
   "id": "e4a58a49-01ea-44db-b611-69bf5f655822",
   "metadata": {},
   "source": [
    "## DataFrame with multiindex"
   ]
  },
  {
   "cell_type": "code",
   "execution_count": 243,
   "id": "4103c043-1770-40b9-8a8d-b17793304377",
   "metadata": {},
   "outputs": [
    {
     "data": {
      "text/html": [
       "<div>\n",
       "<style scoped>\n",
       "    .dataframe tbody tr th:only-of-type {\n",
       "        vertical-align: middle;\n",
       "    }\n",
       "\n",
       "    .dataframe tbody tr th {\n",
       "        vertical-align: top;\n",
       "    }\n",
       "\n",
       "    .dataframe thead th {\n",
       "        text-align: right;\n",
       "    }\n",
       "</style>\n",
       "<table border=\"1\" class=\"dataframe\">\n",
       "  <thead>\n",
       "    <tr style=\"text-align: right;\">\n",
       "      <th></th>\n",
       "      <th></th>\n",
       "      <th></th>\n",
       "      <th>Sales</th>\n",
       "      <th>Revenue</th>\n",
       "    </tr>\n",
       "    <tr>\n",
       "      <th>Store</th>\n",
       "      <th>Month</th>\n",
       "      <th>Product</th>\n",
       "      <th></th>\n",
       "      <th></th>\n",
       "    </tr>\n",
       "  </thead>\n",
       "  <tbody>\n",
       "    <tr>\n",
       "      <th rowspan=\"3\" valign=\"top\">Store A</th>\n",
       "      <th rowspan=\"2\" valign=\"top\">Jan</th>\n",
       "      <th>Product 1</th>\n",
       "      <td>200</td>\n",
       "      <td>4000</td>\n",
       "    </tr>\n",
       "    <tr>\n",
       "      <th>Product 2</th>\n",
       "      <td>150</td>\n",
       "      <td>3000</td>\n",
       "    </tr>\n",
       "    <tr>\n",
       "      <th>Feb</th>\n",
       "      <th>Product 1</th>\n",
       "      <td>300</td>\n",
       "      <td>6000</td>\n",
       "    </tr>\n",
       "    <tr>\n",
       "      <th rowspan=\"2\" valign=\"top\">Store B</th>\n",
       "      <th>Jan</th>\n",
       "      <th>Product 1</th>\n",
       "      <td>250</td>\n",
       "      <td>5000</td>\n",
       "    </tr>\n",
       "    <tr>\n",
       "      <th>Feb</th>\n",
       "      <th>Product 2</th>\n",
       "      <td>100</td>\n",
       "      <td>2000</td>\n",
       "    </tr>\n",
       "    <tr>\n",
       "      <th>Store C</th>\n",
       "      <th>Feb</th>\n",
       "      <th>Product 1</th>\n",
       "      <td>400</td>\n",
       "      <td>8000</td>\n",
       "    </tr>\n",
       "  </tbody>\n",
       "</table>\n",
       "</div>"
      ],
      "text/plain": [
       "                         Sales  Revenue\n",
       "Store   Month Product                  \n",
       "Store A Jan   Product 1    200     4000\n",
       "              Product 2    150     3000\n",
       "        Feb   Product 1    300     6000\n",
       "Store B Jan   Product 1    250     5000\n",
       "        Feb   Product 2    100     2000\n",
       "Store C Feb   Product 1    400     8000"
      ]
     },
     "execution_count": 243,
     "metadata": {},
     "output_type": "execute_result"
    }
   ],
   "source": [
    "# Defining a MultiIndex\n",
    "index = pd.MultiIndex.from_tuples([\n",
    "    (\"Store A\", \"Jan\", \"Product 1\"),\n",
    "    (\"Store A\", \"Jan\", \"Product 2\"),\n",
    "    (\"Store A\", \"Feb\", \"Product 1\"),\n",
    "    (\"Store B\", \"Jan\", \"Product 1\"),\n",
    "    (\"Store B\", \"Feb\", \"Product 2\"),\n",
    "    (\"Store C\", \"Feb\", \"Product 1\"),\n",
    "], names=[\"Store\", \"Month\", \"Product\"])\n",
    "\n",
    "# Creating the DataFrame\n",
    "data = {\n",
    "    \"Sales\": [200, 150, 300, 250, 100, 400],\n",
    "    \"Revenue\": [4000, 3000, 6000, 5000, 2000, 8000]\n",
    "}\n",
    "\n",
    "df = pd.DataFrame(data, index=index)\n",
    "df"
   ]
  },
  {
   "cell_type": "code",
   "execution_count": 253,
   "id": "121c2f92-7837-48ff-92c7-435bc82fd1a9",
   "metadata": {},
   "outputs": [
    {
     "data": {
      "text/html": [
       "<div>\n",
       "<style scoped>\n",
       "    .dataframe tbody tr th:only-of-type {\n",
       "        vertical-align: middle;\n",
       "    }\n",
       "\n",
       "    .dataframe tbody tr th {\n",
       "        vertical-align: top;\n",
       "    }\n",
       "\n",
       "    .dataframe thead th {\n",
       "        text-align: right;\n",
       "    }\n",
       "</style>\n",
       "<table border=\"1\" class=\"dataframe\">\n",
       "  <thead>\n",
       "    <tr style=\"text-align: right;\">\n",
       "      <th></th>\n",
       "      <th></th>\n",
       "      <th>Sales</th>\n",
       "      <th>Revenue</th>\n",
       "    </tr>\n",
       "    <tr>\n",
       "      <th>Month</th>\n",
       "      <th>Product</th>\n",
       "      <th></th>\n",
       "      <th></th>\n",
       "    </tr>\n",
       "  </thead>\n",
       "  <tbody>\n",
       "    <tr>\n",
       "      <th rowspan=\"2\" valign=\"top\">Jan</th>\n",
       "      <th>Product 1</th>\n",
       "      <td>200</td>\n",
       "      <td>4000</td>\n",
       "    </tr>\n",
       "    <tr>\n",
       "      <th>Product 2</th>\n",
       "      <td>150</td>\n",
       "      <td>3000</td>\n",
       "    </tr>\n",
       "    <tr>\n",
       "      <th>Feb</th>\n",
       "      <th>Product 1</th>\n",
       "      <td>300</td>\n",
       "      <td>6000</td>\n",
       "    </tr>\n",
       "  </tbody>\n",
       "</table>\n",
       "</div>"
      ],
      "text/plain": [
       "                 Sales  Revenue\n",
       "Month Product                  \n",
       "Jan   Product 1    200     4000\n",
       "      Product 2    150     3000\n",
       "Feb   Product 1    300     6000"
      ]
     },
     "execution_count": 253,
     "metadata": {},
     "output_type": "execute_result"
    }
   ],
   "source": [
    "df.xs(\"Store A\", level=\"Store\")"
   ]
  },
  {
   "cell_type": "code",
   "execution_count": 255,
   "id": "29c16a66-c9d4-40eb-993a-ed0e324af90e",
   "metadata": {},
   "outputs": [
    {
     "data": {
      "text/html": [
       "<div>\n",
       "<style scoped>\n",
       "    .dataframe tbody tr th:only-of-type {\n",
       "        vertical-align: middle;\n",
       "    }\n",
       "\n",
       "    .dataframe tbody tr th {\n",
       "        vertical-align: top;\n",
       "    }\n",
       "\n",
       "    .dataframe thead th {\n",
       "        text-align: right;\n",
       "    }\n",
       "</style>\n",
       "<table border=\"1\" class=\"dataframe\">\n",
       "  <thead>\n",
       "    <tr style=\"text-align: right;\">\n",
       "      <th></th>\n",
       "      <th></th>\n",
       "      <th></th>\n",
       "      <th>Sales</th>\n",
       "      <th>Revenue</th>\n",
       "    </tr>\n",
       "    <tr>\n",
       "      <th>Store</th>\n",
       "      <th>Month</th>\n",
       "      <th>Product</th>\n",
       "      <th></th>\n",
       "      <th></th>\n",
       "    </tr>\n",
       "  </thead>\n",
       "  <tbody>\n",
       "    <tr>\n",
       "      <th>Store A</th>\n",
       "      <th>Jan</th>\n",
       "      <th>Product 2</th>\n",
       "      <td>150</td>\n",
       "      <td>3000</td>\n",
       "    </tr>\n",
       "  </tbody>\n",
       "</table>\n",
       "</div>"
      ],
      "text/plain": [
       "                         Sales  Revenue\n",
       "Store   Month Product                  \n",
       "Store A Jan   Product 2    150     3000"
      ]
     },
     "execution_count": 255,
     "metadata": {},
     "output_type": "execute_result"
    }
   ],
   "source": [
    "df.xs((\"Store A\", \"Jan\", \"Product 2\"), level=[\"Store\", \"Month\", \"Product\"])"
   ]
  },
  {
   "cell_type": "code",
   "execution_count": 256,
   "id": "5d4e861f-b3a2-4e4c-bfd3-6044fd9cbd52",
   "metadata": {},
   "outputs": [
    {
     "data": {
      "text/plain": [
       "Store    Month  Product  \n",
       "Store A  Jan    Product 2    150\n",
       "Name: Sales, dtype: int64"
      ]
     },
     "execution_count": 256,
     "metadata": {},
     "output_type": "execute_result"
    }
   ],
   "source": [
    "df.xs((\"Store A\", \"Jan\", \"Product 2\"), level=[\"Store\", \"Month\", \"Product\"])[\"Sales\"]"
   ]
  },
  {
   "cell_type": "markdown",
   "id": "c4a9541d-6b12-459c-bb73-bf91048ad958",
   "metadata": {},
   "source": [
    "## Unstack"
   ]
  },
  {
   "cell_type": "code",
   "execution_count": 260,
   "id": "2d837711-eb60-49b7-95c6-1d050349fce4",
   "metadata": {},
   "outputs": [
    {
     "data": {
      "text/html": [
       "<div>\n",
       "<style scoped>\n",
       "    .dataframe tbody tr th:only-of-type {\n",
       "        vertical-align: middle;\n",
       "    }\n",
       "\n",
       "    .dataframe tbody tr th {\n",
       "        vertical-align: top;\n",
       "    }\n",
       "\n",
       "    .dataframe thead tr th {\n",
       "        text-align: left;\n",
       "    }\n",
       "\n",
       "    .dataframe thead tr:last-of-type th {\n",
       "        text-align: right;\n",
       "    }\n",
       "</style>\n",
       "<table border=\"1\" class=\"dataframe\">\n",
       "  <thead>\n",
       "    <tr>\n",
       "      <th></th>\n",
       "      <th></th>\n",
       "      <th colspan=\"2\" halign=\"left\">Sales</th>\n",
       "      <th colspan=\"2\" halign=\"left\">Revenue</th>\n",
       "    </tr>\n",
       "    <tr>\n",
       "      <th></th>\n",
       "      <th>Month</th>\n",
       "      <th>Feb</th>\n",
       "      <th>Jan</th>\n",
       "      <th>Feb</th>\n",
       "      <th>Jan</th>\n",
       "    </tr>\n",
       "    <tr>\n",
       "      <th>Store</th>\n",
       "      <th>Product</th>\n",
       "      <th></th>\n",
       "      <th></th>\n",
       "      <th></th>\n",
       "      <th></th>\n",
       "    </tr>\n",
       "  </thead>\n",
       "  <tbody>\n",
       "    <tr>\n",
       "      <th rowspan=\"2\" valign=\"top\">Store A</th>\n",
       "      <th>Product 1</th>\n",
       "      <td>300.0</td>\n",
       "      <td>200.0</td>\n",
       "      <td>6000.0</td>\n",
       "      <td>4000.0</td>\n",
       "    </tr>\n",
       "    <tr>\n",
       "      <th>Product 2</th>\n",
       "      <td>NaN</td>\n",
       "      <td>150.0</td>\n",
       "      <td>NaN</td>\n",
       "      <td>3000.0</td>\n",
       "    </tr>\n",
       "    <tr>\n",
       "      <th rowspan=\"2\" valign=\"top\">Store B</th>\n",
       "      <th>Product 1</th>\n",
       "      <td>NaN</td>\n",
       "      <td>250.0</td>\n",
       "      <td>NaN</td>\n",
       "      <td>5000.0</td>\n",
       "    </tr>\n",
       "    <tr>\n",
       "      <th>Product 2</th>\n",
       "      <td>100.0</td>\n",
       "      <td>NaN</td>\n",
       "      <td>2000.0</td>\n",
       "      <td>NaN</td>\n",
       "    </tr>\n",
       "    <tr>\n",
       "      <th>Store C</th>\n",
       "      <th>Product 1</th>\n",
       "      <td>400.0</td>\n",
       "      <td>NaN</td>\n",
       "      <td>8000.0</td>\n",
       "      <td>NaN</td>\n",
       "    </tr>\n",
       "  </tbody>\n",
       "</table>\n",
       "</div>"
      ],
      "text/plain": [
       "                   Sales        Revenue        \n",
       "Month                Feb    Jan     Feb     Jan\n",
       "Store   Product                                \n",
       "Store A Product 1  300.0  200.0  6000.0  4000.0\n",
       "        Product 2    NaN  150.0     NaN  3000.0\n",
       "Store B Product 1    NaN  250.0     NaN  5000.0\n",
       "        Product 2  100.0    NaN  2000.0     NaN\n",
       "Store C Product 1  400.0    NaN  8000.0     NaN"
      ]
     },
     "execution_count": 260,
     "metadata": {},
     "output_type": "execute_result"
    }
   ],
   "source": [
    "df.unstack(level=\"Month\")"
   ]
  },
  {
   "cell_type": "code",
   "execution_count": 262,
   "id": "ec9329ed-f885-4d60-bd79-0d2aee29822c",
   "metadata": {},
   "outputs": [
    {
     "data": {
      "text/html": [
       "<div>\n",
       "<style scoped>\n",
       "    .dataframe tbody tr th:only-of-type {\n",
       "        vertical-align: middle;\n",
       "    }\n",
       "\n",
       "    .dataframe tbody tr th {\n",
       "        vertical-align: top;\n",
       "    }\n",
       "\n",
       "    .dataframe thead tr th {\n",
       "        text-align: left;\n",
       "    }\n",
       "\n",
       "    .dataframe thead tr:last-of-type th {\n",
       "        text-align: right;\n",
       "    }\n",
       "</style>\n",
       "<table border=\"1\" class=\"dataframe\">\n",
       "  <thead>\n",
       "    <tr>\n",
       "      <th></th>\n",
       "      <th colspan=\"5\" halign=\"left\">Sales</th>\n",
       "      <th colspan=\"5\" halign=\"left\">Revenue</th>\n",
       "    </tr>\n",
       "    <tr>\n",
       "      <th>Store</th>\n",
       "      <th colspan=\"2\" halign=\"left\">Store A</th>\n",
       "      <th colspan=\"2\" halign=\"left\">Store B</th>\n",
       "      <th>Store C</th>\n",
       "      <th colspan=\"2\" halign=\"left\">Store A</th>\n",
       "      <th colspan=\"2\" halign=\"left\">Store B</th>\n",
       "      <th>Store C</th>\n",
       "    </tr>\n",
       "    <tr>\n",
       "      <th>Month</th>\n",
       "      <th>Jan</th>\n",
       "      <th>Feb</th>\n",
       "      <th>Jan</th>\n",
       "      <th>Feb</th>\n",
       "      <th>Feb</th>\n",
       "      <th>Jan</th>\n",
       "      <th>Feb</th>\n",
       "      <th>Jan</th>\n",
       "      <th>Feb</th>\n",
       "      <th>Feb</th>\n",
       "    </tr>\n",
       "    <tr>\n",
       "      <th>Product</th>\n",
       "      <th></th>\n",
       "      <th></th>\n",
       "      <th></th>\n",
       "      <th></th>\n",
       "      <th></th>\n",
       "      <th></th>\n",
       "      <th></th>\n",
       "      <th></th>\n",
       "      <th></th>\n",
       "      <th></th>\n",
       "    </tr>\n",
       "  </thead>\n",
       "  <tbody>\n",
       "    <tr>\n",
       "      <th>Product 1</th>\n",
       "      <td>200.0</td>\n",
       "      <td>300.0</td>\n",
       "      <td>250.0</td>\n",
       "      <td>NaN</td>\n",
       "      <td>400.0</td>\n",
       "      <td>4000.0</td>\n",
       "      <td>6000.0</td>\n",
       "      <td>5000.0</td>\n",
       "      <td>NaN</td>\n",
       "      <td>8000.0</td>\n",
       "    </tr>\n",
       "    <tr>\n",
       "      <th>Product 2</th>\n",
       "      <td>150.0</td>\n",
       "      <td>NaN</td>\n",
       "      <td>NaN</td>\n",
       "      <td>100.0</td>\n",
       "      <td>NaN</td>\n",
       "      <td>3000.0</td>\n",
       "      <td>NaN</td>\n",
       "      <td>NaN</td>\n",
       "      <td>2000.0</td>\n",
       "      <td>NaN</td>\n",
       "    </tr>\n",
       "  </tbody>\n",
       "</table>\n",
       "</div>"
      ],
      "text/plain": [
       "            Sales                               Revenue                  \\\n",
       "Store     Store A        Store B        Store C Store A         Store B   \n",
       "Month         Jan    Feb     Jan    Feb     Feb     Jan     Feb     Jan   \n",
       "Product                                                                   \n",
       "Product 1   200.0  300.0   250.0    NaN   400.0  4000.0  6000.0  5000.0   \n",
       "Product 2   150.0    NaN     NaN  100.0     NaN  3000.0     NaN     NaN   \n",
       "\n",
       "                           \n",
       "Store             Store C  \n",
       "Month         Feb     Feb  \n",
       "Product                    \n",
       "Product 1     NaN  8000.0  \n",
       "Product 2  2000.0     NaN  "
      ]
     },
     "execution_count": 262,
     "metadata": {},
     "output_type": "execute_result"
    }
   ],
   "source": [
    "df.unstack(level=[\"Store\", \"Month\"])"
   ]
  },
  {
   "cell_type": "code",
   "execution_count": 266,
   "id": "006fd9e1-d6bc-4ac8-a26a-3f078d9e36d1",
   "metadata": {},
   "outputs": [
    {
     "data": {
      "text/html": [
       "<div>\n",
       "<style scoped>\n",
       "    .dataframe tbody tr th:only-of-type {\n",
       "        vertical-align: middle;\n",
       "    }\n",
       "\n",
       "    .dataframe tbody tr th {\n",
       "        vertical-align: top;\n",
       "    }\n",
       "\n",
       "    .dataframe thead th {\n",
       "        text-align: right;\n",
       "    }\n",
       "</style>\n",
       "<table border=\"1\" class=\"dataframe\">\n",
       "  <thead>\n",
       "    <tr style=\"text-align: right;\">\n",
       "      <th></th>\n",
       "      <th></th>\n",
       "      <th></th>\n",
       "      <th></th>\n",
       "      <th>0</th>\n",
       "    </tr>\n",
       "    <tr>\n",
       "      <th></th>\n",
       "      <th>Store</th>\n",
       "      <th>Month</th>\n",
       "      <th>Product</th>\n",
       "      <th></th>\n",
       "    </tr>\n",
       "  </thead>\n",
       "  <tbody>\n",
       "    <tr>\n",
       "      <th rowspan=\"6\" valign=\"top\">Sales</th>\n",
       "      <th rowspan=\"3\" valign=\"top\">Store A</th>\n",
       "      <th rowspan=\"2\" valign=\"top\">Jan</th>\n",
       "      <th>Product 1</th>\n",
       "      <td>200</td>\n",
       "    </tr>\n",
       "    <tr>\n",
       "      <th>Product 2</th>\n",
       "      <td>150</td>\n",
       "    </tr>\n",
       "    <tr>\n",
       "      <th>Feb</th>\n",
       "      <th>Product 1</th>\n",
       "      <td>300</td>\n",
       "    </tr>\n",
       "    <tr>\n",
       "      <th rowspan=\"2\" valign=\"top\">Store B</th>\n",
       "      <th>Jan</th>\n",
       "      <th>Product 1</th>\n",
       "      <td>250</td>\n",
       "    </tr>\n",
       "    <tr>\n",
       "      <th>Feb</th>\n",
       "      <th>Product 2</th>\n",
       "      <td>100</td>\n",
       "    </tr>\n",
       "    <tr>\n",
       "      <th>Store C</th>\n",
       "      <th>Feb</th>\n",
       "      <th>Product 1</th>\n",
       "      <td>400</td>\n",
       "    </tr>\n",
       "    <tr>\n",
       "      <th rowspan=\"6\" valign=\"top\">Revenue</th>\n",
       "      <th rowspan=\"3\" valign=\"top\">Store A</th>\n",
       "      <th rowspan=\"2\" valign=\"top\">Jan</th>\n",
       "      <th>Product 1</th>\n",
       "      <td>4000</td>\n",
       "    </tr>\n",
       "    <tr>\n",
       "      <th>Product 2</th>\n",
       "      <td>3000</td>\n",
       "    </tr>\n",
       "    <tr>\n",
       "      <th>Feb</th>\n",
       "      <th>Product 1</th>\n",
       "      <td>6000</td>\n",
       "    </tr>\n",
       "    <tr>\n",
       "      <th rowspan=\"2\" valign=\"top\">Store B</th>\n",
       "      <th>Jan</th>\n",
       "      <th>Product 1</th>\n",
       "      <td>5000</td>\n",
       "    </tr>\n",
       "    <tr>\n",
       "      <th>Feb</th>\n",
       "      <th>Product 2</th>\n",
       "      <td>2000</td>\n",
       "    </tr>\n",
       "    <tr>\n",
       "      <th>Store C</th>\n",
       "      <th>Feb</th>\n",
       "      <th>Product 1</th>\n",
       "      <td>8000</td>\n",
       "    </tr>\n",
       "  </tbody>\n",
       "</table>\n",
       "</div>"
      ],
      "text/plain": [
       "                                    0\n",
       "        Store   Month Product        \n",
       "Sales   Store A Jan   Product 1   200\n",
       "                      Product 2   150\n",
       "                Feb   Product 1   300\n",
       "        Store B Jan   Product 1   250\n",
       "                Feb   Product 2   100\n",
       "        Store C Feb   Product 1   400\n",
       "Revenue Store A Jan   Product 1  4000\n",
       "                      Product 2  3000\n",
       "                Feb   Product 1  6000\n",
       "        Store B Jan   Product 1  5000\n",
       "                Feb   Product 2  2000\n",
       "        Store C Feb   Product 1  8000"
      ]
     },
     "execution_count": 266,
     "metadata": {},
     "output_type": "execute_result"
    }
   ],
   "source": [
    "pd.DataFrame(df.unstack(level=[\"Store\", \"Month\", \"Product\"]))"
   ]
  },
  {
   "cell_type": "code",
   "execution_count": 270,
   "id": "a219c1f0-474a-4b8d-bf51-e673652d100f",
   "metadata": {},
   "outputs": [
    {
     "data": {
      "text/html": [
       "<div>\n",
       "<style scoped>\n",
       "    .dataframe tbody tr th:only-of-type {\n",
       "        vertical-align: middle;\n",
       "    }\n",
       "\n",
       "    .dataframe tbody tr th {\n",
       "        vertical-align: top;\n",
       "    }\n",
       "\n",
       "    .dataframe thead th {\n",
       "        text-align: right;\n",
       "    }\n",
       "</style>\n",
       "<table border=\"1\" class=\"dataframe\">\n",
       "  <thead>\n",
       "    <tr style=\"text-align: right;\">\n",
       "      <th></th>\n",
       "      <th></th>\n",
       "      <th></th>\n",
       "      <th>Sales</th>\n",
       "      <th>Revenue</th>\n",
       "    </tr>\n",
       "    <tr>\n",
       "      <th>Month</th>\n",
       "      <th>Store</th>\n",
       "      <th>Product</th>\n",
       "      <th></th>\n",
       "      <th></th>\n",
       "    </tr>\n",
       "  </thead>\n",
       "  <tbody>\n",
       "    <tr>\n",
       "      <th rowspan=\"2\" valign=\"top\">Jan</th>\n",
       "      <th rowspan=\"2\" valign=\"top\">Store A</th>\n",
       "      <th>Product 1</th>\n",
       "      <td>200</td>\n",
       "      <td>4000</td>\n",
       "    </tr>\n",
       "    <tr>\n",
       "      <th>Product 2</th>\n",
       "      <td>150</td>\n",
       "      <td>3000</td>\n",
       "    </tr>\n",
       "    <tr>\n",
       "      <th>Feb</th>\n",
       "      <th>Store A</th>\n",
       "      <th>Product 1</th>\n",
       "      <td>300</td>\n",
       "      <td>6000</td>\n",
       "    </tr>\n",
       "    <tr>\n",
       "      <th>Jan</th>\n",
       "      <th>Store B</th>\n",
       "      <th>Product 1</th>\n",
       "      <td>250</td>\n",
       "      <td>5000</td>\n",
       "    </tr>\n",
       "    <tr>\n",
       "      <th rowspan=\"2\" valign=\"top\">Feb</th>\n",
       "      <th>Store B</th>\n",
       "      <th>Product 2</th>\n",
       "      <td>100</td>\n",
       "      <td>2000</td>\n",
       "    </tr>\n",
       "    <tr>\n",
       "      <th>Store C</th>\n",
       "      <th>Product 1</th>\n",
       "      <td>400</td>\n",
       "      <td>8000</td>\n",
       "    </tr>\n",
       "  </tbody>\n",
       "</table>\n",
       "</div>"
      ],
      "text/plain": [
       "                         Sales  Revenue\n",
       "Month Store   Product                  \n",
       "Jan   Store A Product 1    200     4000\n",
       "              Product 2    150     3000\n",
       "Feb   Store A Product 1    300     6000\n",
       "Jan   Store B Product 1    250     5000\n",
       "Feb   Store B Product 2    100     2000\n",
       "      Store C Product 1    400     8000"
      ]
     },
     "execution_count": 270,
     "metadata": {},
     "output_type": "execute_result"
    }
   ],
   "source": [
    "df.swaplevel(\"Store\", \"Month\")"
   ]
  },
  {
   "cell_type": "markdown",
   "id": "2b3cd018-61e6-467a-9c3b-b16f36837fa8",
   "metadata": {},
   "source": [
    "## Stack()"
   ]
  },
  {
   "cell_type": "code",
   "execution_count": 274,
   "id": "12484cda-64e6-473a-9968-27abc0efed92",
   "metadata": {},
   "outputs": [
    {
     "data": {
      "text/plain": [
       "Store    Month  Product           \n",
       "Store A  Jan    Product 1  Sales       200\n",
       "                           Revenue    4000\n",
       "                Product 2  Sales       150\n",
       "                           Revenue    3000\n",
       "         Feb    Product 1  Sales       300\n",
       "                           Revenue    6000\n",
       "Store B  Jan    Product 1  Sales       250\n",
       "                           Revenue    5000\n",
       "         Feb    Product 2  Sales       100\n",
       "                           Revenue    2000\n",
       "Store C  Feb    Product 1  Sales       400\n",
       "                           Revenue    8000\n",
       "dtype: int64"
      ]
     },
     "execution_count": 274,
     "metadata": {},
     "output_type": "execute_result"
    }
   ],
   "source": [
    "# from a df to a multilevel series\n",
    "df.stack() "
   ]
  },
  {
   "cell_type": "markdown",
   "id": "27518f6c-60fc-49f8-9352-02c0e71a8cb6",
   "metadata": {},
   "source": [
    "# Sorting"
   ]
  },
  {
   "cell_type": "code",
   "execution_count": 290,
   "id": "b93a70a5-7ed0-49e2-b559-81ef2021974c",
   "metadata": {},
   "outputs": [
    {
     "data": {
      "text/html": [
       "<div>\n",
       "<style scoped>\n",
       "    .dataframe tbody tr th:only-of-type {\n",
       "        vertical-align: middle;\n",
       "    }\n",
       "\n",
       "    .dataframe tbody tr th {\n",
       "        vertical-align: top;\n",
       "    }\n",
       "\n",
       "    .dataframe thead th {\n",
       "        text-align: right;\n",
       "    }\n",
       "</style>\n",
       "<table border=\"1\" class=\"dataframe\">\n",
       "  <thead>\n",
       "    <tr style=\"text-align: right;\">\n",
       "      <th></th>\n",
       "      <th>Name</th>\n",
       "      <th>Age</th>\n",
       "      <th>Score</th>\n",
       "    </tr>\n",
       "  </thead>\n",
       "  <tbody>\n",
       "    <tr>\n",
       "      <th>0</th>\n",
       "      <td>Alice</td>\n",
       "      <td>25</td>\n",
       "      <td>88</td>\n",
       "    </tr>\n",
       "    <tr>\n",
       "      <th>1</th>\n",
       "      <td>Bob</td>\n",
       "      <td>30</td>\n",
       "      <td>92</td>\n",
       "    </tr>\n",
       "    <tr>\n",
       "      <th>2</th>\n",
       "      <td>Charlie</td>\n",
       "      <td>35</td>\n",
       "      <td>85</td>\n",
       "    </tr>\n",
       "    <tr>\n",
       "      <th>3</th>\n",
       "      <td>Eve</td>\n",
       "      <td>40</td>\n",
       "      <td>77</td>\n",
       "    </tr>\n",
       "    <tr>\n",
       "      <th>4</th>\n",
       "      <td>Eve</td>\n",
       "      <td>22</td>\n",
       "      <td>90</td>\n",
       "    </tr>\n",
       "  </tbody>\n",
       "</table>\n",
       "</div>"
      ],
      "text/plain": [
       "      Name  Age  Score\n",
       "0    Alice   25     88\n",
       "1      Bob   30     92\n",
       "2  Charlie   35     85\n",
       "3      Eve   40     77\n",
       "4      Eve   22     90"
      ]
     },
     "execution_count": 290,
     "metadata": {},
     "output_type": "execute_result"
    }
   ],
   "source": [
    "data = {\n",
    "    \"Name\": [\"Alice\", \"Bob\", \"Charlie\", \"Eve\", \"Eve\"],\n",
    "    \"Age\": [25, 30, 35, 40, 22],\n",
    "    \"Score\": [88, 92, 85, 77, 90]\n",
    "}\n",
    "\n",
    "df = pd.DataFrame(data)\n",
    "df"
   ]
  },
  {
   "cell_type": "code",
   "execution_count": 291,
   "id": "1a2563d5-59ee-4ade-b2a7-7343047da2c3",
   "metadata": {},
   "outputs": [
    {
     "data": {
      "text/html": [
       "<div>\n",
       "<style scoped>\n",
       "    .dataframe tbody tr th:only-of-type {\n",
       "        vertical-align: middle;\n",
       "    }\n",
       "\n",
       "    .dataframe tbody tr th {\n",
       "        vertical-align: top;\n",
       "    }\n",
       "\n",
       "    .dataframe thead th {\n",
       "        text-align: right;\n",
       "    }\n",
       "</style>\n",
       "<table border=\"1\" class=\"dataframe\">\n",
       "  <thead>\n",
       "    <tr style=\"text-align: right;\">\n",
       "      <th></th>\n",
       "      <th>Name</th>\n",
       "      <th>Age</th>\n",
       "      <th>Score</th>\n",
       "    </tr>\n",
       "  </thead>\n",
       "  <tbody>\n",
       "    <tr>\n",
       "      <th>4</th>\n",
       "      <td>Eve</td>\n",
       "      <td>22</td>\n",
       "      <td>90</td>\n",
       "    </tr>\n",
       "    <tr>\n",
       "      <th>3</th>\n",
       "      <td>Eve</td>\n",
       "      <td>40</td>\n",
       "      <td>77</td>\n",
       "    </tr>\n",
       "    <tr>\n",
       "      <th>2</th>\n",
       "      <td>Charlie</td>\n",
       "      <td>35</td>\n",
       "      <td>85</td>\n",
       "    </tr>\n",
       "    <tr>\n",
       "      <th>1</th>\n",
       "      <td>Bob</td>\n",
       "      <td>30</td>\n",
       "      <td>92</td>\n",
       "    </tr>\n",
       "    <tr>\n",
       "      <th>0</th>\n",
       "      <td>Alice</td>\n",
       "      <td>25</td>\n",
       "      <td>88</td>\n",
       "    </tr>\n",
       "  </tbody>\n",
       "</table>\n",
       "</div>"
      ],
      "text/plain": [
       "      Name  Age  Score\n",
       "4      Eve   22     90\n",
       "3      Eve   40     77\n",
       "2  Charlie   35     85\n",
       "1      Bob   30     92\n",
       "0    Alice   25     88"
      ]
     },
     "execution_count": 291,
     "metadata": {},
     "output_type": "execute_result"
    }
   ],
   "source": [
    "df.sort_index(ascending=False)"
   ]
  },
  {
   "cell_type": "code",
   "execution_count": 292,
   "id": "ab12d27c-1b9c-4e0a-b844-2bc6a6afff10",
   "metadata": {},
   "outputs": [
    {
     "data": {
      "text/html": [
       "<div>\n",
       "<style scoped>\n",
       "    .dataframe tbody tr th:only-of-type {\n",
       "        vertical-align: middle;\n",
       "    }\n",
       "\n",
       "    .dataframe tbody tr th {\n",
       "        vertical-align: top;\n",
       "    }\n",
       "\n",
       "    .dataframe thead th {\n",
       "        text-align: right;\n",
       "    }\n",
       "</style>\n",
       "<table border=\"1\" class=\"dataframe\">\n",
       "  <thead>\n",
       "    <tr style=\"text-align: right;\">\n",
       "      <th></th>\n",
       "      <th>Name</th>\n",
       "      <th>Age</th>\n",
       "      <th>Score</th>\n",
       "    </tr>\n",
       "  </thead>\n",
       "  <tbody>\n",
       "    <tr>\n",
       "      <th>3</th>\n",
       "      <td>Eve</td>\n",
       "      <td>40</td>\n",
       "      <td>77</td>\n",
       "    </tr>\n",
       "    <tr>\n",
       "      <th>2</th>\n",
       "      <td>Charlie</td>\n",
       "      <td>35</td>\n",
       "      <td>85</td>\n",
       "    </tr>\n",
       "    <tr>\n",
       "      <th>1</th>\n",
       "      <td>Bob</td>\n",
       "      <td>30</td>\n",
       "      <td>92</td>\n",
       "    </tr>\n",
       "    <tr>\n",
       "      <th>0</th>\n",
       "      <td>Alice</td>\n",
       "      <td>25</td>\n",
       "      <td>88</td>\n",
       "    </tr>\n",
       "    <tr>\n",
       "      <th>4</th>\n",
       "      <td>Eve</td>\n",
       "      <td>22</td>\n",
       "      <td>90</td>\n",
       "    </tr>\n",
       "  </tbody>\n",
       "</table>\n",
       "</div>"
      ],
      "text/plain": [
       "      Name  Age  Score\n",
       "3      Eve   40     77\n",
       "2  Charlie   35     85\n",
       "1      Bob   30     92\n",
       "0    Alice   25     88\n",
       "4      Eve   22     90"
      ]
     },
     "execution_count": 292,
     "metadata": {},
     "output_type": "execute_result"
    }
   ],
   "source": [
    "df.sort_values(by=\"Age\", ascending=False)"
   ]
  },
  {
   "cell_type": "code",
   "execution_count": 294,
   "id": "fddaa846-f999-4a7b-a18b-11896ee38055",
   "metadata": {},
   "outputs": [
    {
     "data": {
      "text/html": [
       "<div>\n",
       "<style scoped>\n",
       "    .dataframe tbody tr th:only-of-type {\n",
       "        vertical-align: middle;\n",
       "    }\n",
       "\n",
       "    .dataframe tbody tr th {\n",
       "        vertical-align: top;\n",
       "    }\n",
       "\n",
       "    .dataframe thead th {\n",
       "        text-align: right;\n",
       "    }\n",
       "</style>\n",
       "<table border=\"1\" class=\"dataframe\">\n",
       "  <thead>\n",
       "    <tr style=\"text-align: right;\">\n",
       "      <th></th>\n",
       "      <th>Name</th>\n",
       "      <th>Age</th>\n",
       "      <th>Score</th>\n",
       "    </tr>\n",
       "  </thead>\n",
       "  <tbody>\n",
       "    <tr>\n",
       "      <th>4</th>\n",
       "      <td>Eve</td>\n",
       "      <td>22</td>\n",
       "      <td>90</td>\n",
       "    </tr>\n",
       "    <tr>\n",
       "      <th>3</th>\n",
       "      <td>Eve</td>\n",
       "      <td>40</td>\n",
       "      <td>77</td>\n",
       "    </tr>\n",
       "    <tr>\n",
       "      <th>2</th>\n",
       "      <td>Charlie</td>\n",
       "      <td>35</td>\n",
       "      <td>85</td>\n",
       "    </tr>\n",
       "    <tr>\n",
       "      <th>1</th>\n",
       "      <td>Bob</td>\n",
       "      <td>30</td>\n",
       "      <td>92</td>\n",
       "    </tr>\n",
       "    <tr>\n",
       "      <th>0</th>\n",
       "      <td>Alice</td>\n",
       "      <td>25</td>\n",
       "      <td>88</td>\n",
       "    </tr>\n",
       "  </tbody>\n",
       "</table>\n",
       "</div>"
      ],
      "text/plain": [
       "      Name  Age  Score\n",
       "4      Eve   22     90\n",
       "3      Eve   40     77\n",
       "2  Charlie   35     85\n",
       "1      Bob   30     92\n",
       "0    Alice   25     88"
      ]
     },
     "execution_count": 294,
     "metadata": {},
     "output_type": "execute_result"
    }
   ],
   "source": [
    "df.sort_values(by=[\"Name\", \"Age\"], ascending=[False, True])"
   ]
  },
  {
   "cell_type": "markdown",
   "id": "132487e2-5952-4287-9001-c9977312a1e7",
   "metadata": {},
   "source": [
    "# Grouping"
   ]
  },
  {
   "cell_type": "code",
   "execution_count": 298,
   "id": "7c1db42c-c48d-46ac-b887-d99b94d690fb",
   "metadata": {},
   "outputs": [
    {
     "data": {
      "text/plain": [
       "Name\n",
       "Alice      88.0\n",
       "Bob        92.0\n",
       "Charlie    85.0\n",
       "Eve        83.5\n",
       "Name: Score, dtype: float64"
      ]
     },
     "execution_count": 298,
     "metadata": {},
     "output_type": "execute_result"
    }
   ],
   "source": [
    "df.groupby(\"Name\")[\"Score\"].mean()"
   ]
  },
  {
   "cell_type": "code",
   "execution_count": 299,
   "id": "0cf36d3a-35ab-4bee-969f-4ca92cb06c27",
   "metadata": {},
   "outputs": [
    {
     "data": {
      "text/plain": [
       "Name     Age\n",
       "Alice    25     88.0\n",
       "Bob      30     92.0\n",
       "Charlie  35     85.0\n",
       "Eve      22     90.0\n",
       "         40     77.0\n",
       "Name: Score, dtype: float64"
      ]
     },
     "execution_count": 299,
     "metadata": {},
     "output_type": "execute_result"
    }
   ],
   "source": [
    "df.groupby([\"Name\", \"Age\"])[\"Score\"].mean()"
   ]
  },
  {
   "cell_type": "markdown",
   "id": "fceb6545-75ec-46a4-849c-7370d83f8dfb",
   "metadata": {},
   "source": [
    "# Pivot"
   ]
  },
  {
   "cell_type": "code",
   "execution_count": 300,
   "id": "3c0e64e4-2dcf-45c1-bce0-e6364d08d7b6",
   "metadata": {},
   "outputs": [
    {
     "data": {
      "text/html": [
       "<div>\n",
       "<style scoped>\n",
       "    .dataframe tbody tr th:only-of-type {\n",
       "        vertical-align: middle;\n",
       "    }\n",
       "\n",
       "    .dataframe tbody tr th {\n",
       "        vertical-align: top;\n",
       "    }\n",
       "\n",
       "    .dataframe thead th {\n",
       "        text-align: right;\n",
       "    }\n",
       "</style>\n",
       "<table border=\"1\" class=\"dataframe\">\n",
       "  <thead>\n",
       "    <tr style=\"text-align: right;\">\n",
       "      <th></th>\n",
       "      <th>Name</th>\n",
       "      <th>Age</th>\n",
       "      <th>Score</th>\n",
       "    </tr>\n",
       "  </thead>\n",
       "  <tbody>\n",
       "    <tr>\n",
       "      <th>0</th>\n",
       "      <td>Alice</td>\n",
       "      <td>25</td>\n",
       "      <td>88</td>\n",
       "    </tr>\n",
       "    <tr>\n",
       "      <th>1</th>\n",
       "      <td>Bob</td>\n",
       "      <td>30</td>\n",
       "      <td>92</td>\n",
       "    </tr>\n",
       "    <tr>\n",
       "      <th>2</th>\n",
       "      <td>Charlie</td>\n",
       "      <td>35</td>\n",
       "      <td>85</td>\n",
       "    </tr>\n",
       "    <tr>\n",
       "      <th>3</th>\n",
       "      <td>Eve</td>\n",
       "      <td>40</td>\n",
       "      <td>77</td>\n",
       "    </tr>\n",
       "    <tr>\n",
       "      <th>4</th>\n",
       "      <td>Eve</td>\n",
       "      <td>22</td>\n",
       "      <td>90</td>\n",
       "    </tr>\n",
       "  </tbody>\n",
       "</table>\n",
       "</div>"
      ],
      "text/plain": [
       "      Name  Age  Score\n",
       "0    Alice   25     88\n",
       "1      Bob   30     92\n",
       "2  Charlie   35     85\n",
       "3      Eve   40     77\n",
       "4      Eve   22     90"
      ]
     },
     "execution_count": 300,
     "metadata": {},
     "output_type": "execute_result"
    }
   ],
   "source": [
    "df"
   ]
  },
  {
   "cell_type": "code",
   "execution_count": 302,
   "id": "75219e3b-3e50-4fa7-b0dc-7ccebbba4a24",
   "metadata": {},
   "outputs": [
    {
     "data": {
      "text/html": [
       "<div>\n",
       "<style scoped>\n",
       "    .dataframe tbody tr th:only-of-type {\n",
       "        vertical-align: middle;\n",
       "    }\n",
       "\n",
       "    .dataframe tbody tr th {\n",
       "        vertical-align: top;\n",
       "    }\n",
       "\n",
       "    .dataframe thead tr th {\n",
       "        text-align: left;\n",
       "    }\n",
       "\n",
       "    .dataframe thead tr:last-of-type th {\n",
       "        text-align: right;\n",
       "    }\n",
       "</style>\n",
       "<table border=\"1\" class=\"dataframe\">\n",
       "  <thead>\n",
       "    <tr>\n",
       "      <th></th>\n",
       "      <th colspan=\"5\" halign=\"left\">Age</th>\n",
       "    </tr>\n",
       "    <tr>\n",
       "      <th>Score</th>\n",
       "      <th>77</th>\n",
       "      <th>85</th>\n",
       "      <th>88</th>\n",
       "      <th>90</th>\n",
       "      <th>92</th>\n",
       "    </tr>\n",
       "    <tr>\n",
       "      <th>Name</th>\n",
       "      <th></th>\n",
       "      <th></th>\n",
       "      <th></th>\n",
       "      <th></th>\n",
       "      <th></th>\n",
       "    </tr>\n",
       "  </thead>\n",
       "  <tbody>\n",
       "    <tr>\n",
       "      <th>Alice</th>\n",
       "      <td>NaN</td>\n",
       "      <td>NaN</td>\n",
       "      <td>25.0</td>\n",
       "      <td>NaN</td>\n",
       "      <td>NaN</td>\n",
       "    </tr>\n",
       "    <tr>\n",
       "      <th>Bob</th>\n",
       "      <td>NaN</td>\n",
       "      <td>NaN</td>\n",
       "      <td>NaN</td>\n",
       "      <td>NaN</td>\n",
       "      <td>30.0</td>\n",
       "    </tr>\n",
       "    <tr>\n",
       "      <th>Charlie</th>\n",
       "      <td>NaN</td>\n",
       "      <td>35.0</td>\n",
       "      <td>NaN</td>\n",
       "      <td>NaN</td>\n",
       "      <td>NaN</td>\n",
       "    </tr>\n",
       "    <tr>\n",
       "      <th>Eve</th>\n",
       "      <td>40.0</td>\n",
       "      <td>NaN</td>\n",
       "      <td>NaN</td>\n",
       "      <td>22.0</td>\n",
       "      <td>NaN</td>\n",
       "    </tr>\n",
       "  </tbody>\n",
       "</table>\n",
       "</div>"
      ],
      "text/plain": [
       "          Age                        \n",
       "Score      77    85    88    90    92\n",
       "Name                                 \n",
       "Alice     NaN   NaN  25.0   NaN   NaN\n",
       "Bob       NaN   NaN   NaN   NaN  30.0\n",
       "Charlie   NaN  35.0   NaN   NaN   NaN\n",
       "Eve      40.0   NaN   NaN  22.0   NaN"
      ]
     },
     "execution_count": 302,
     "metadata": {},
     "output_type": "execute_result"
    }
   ],
   "source": [
    "df.pivot(index=\"Name\", columns=\"Score\", values=\"Age\")"
   ]
  },
  {
   "cell_type": "markdown",
   "id": "203fd670-6a98-4891-b8aa-525fe75ceded",
   "metadata": {},
   "source": [
    "# Merging"
   ]
  },
  {
   "cell_type": "code",
   "execution_count": 303,
   "id": "a7a99a62-860a-494c-b9c9-673749a156fc",
   "metadata": {},
   "outputs": [
    {
     "data": {
      "text/html": [
       "<div>\n",
       "<style scoped>\n",
       "    .dataframe tbody tr th:only-of-type {\n",
       "        vertical-align: middle;\n",
       "    }\n",
       "\n",
       "    .dataframe tbody tr th {\n",
       "        vertical-align: top;\n",
       "    }\n",
       "\n",
       "    .dataframe thead th {\n",
       "        text-align: right;\n",
       "    }\n",
       "</style>\n",
       "<table border=\"1\" class=\"dataframe\">\n",
       "  <thead>\n",
       "    <tr style=\"text-align: right;\">\n",
       "      <th></th>\n",
       "      <th>ID</th>\n",
       "      <th>Name</th>\n",
       "    </tr>\n",
       "  </thead>\n",
       "  <tbody>\n",
       "    <tr>\n",
       "      <th>0</th>\n",
       "      <td>1</td>\n",
       "      <td>Alice</td>\n",
       "    </tr>\n",
       "    <tr>\n",
       "      <th>1</th>\n",
       "      <td>2</td>\n",
       "      <td>Bob</td>\n",
       "    </tr>\n",
       "    <tr>\n",
       "      <th>2</th>\n",
       "      <td>3</td>\n",
       "      <td>Charlie</td>\n",
       "    </tr>\n",
       "    <tr>\n",
       "      <th>3</th>\n",
       "      <td>4</td>\n",
       "      <td>David</td>\n",
       "    </tr>\n",
       "  </tbody>\n",
       "</table>\n",
       "</div>"
      ],
      "text/plain": [
       "   ID     Name\n",
       "0   1    Alice\n",
       "1   2      Bob\n",
       "2   3  Charlie\n",
       "3   4    David"
      ]
     },
     "execution_count": 303,
     "metadata": {},
     "output_type": "execute_result"
    }
   ],
   "source": [
    "df1 = pd.DataFrame({\n",
    "    \"ID\": [1, 2, 3, 4],\n",
    "    \"Name\": [\"Alice\", \"Bob\", \"Charlie\", \"David\"]\n",
    "})\n",
    "\n",
    "df1"
   ]
  },
  {
   "cell_type": "code",
   "execution_count": 304,
   "id": "6fb93cfb-c90b-4000-ac72-a6fc7654b761",
   "metadata": {},
   "outputs": [
    {
     "data": {
      "text/html": [
       "<div>\n",
       "<style scoped>\n",
       "    .dataframe tbody tr th:only-of-type {\n",
       "        vertical-align: middle;\n",
       "    }\n",
       "\n",
       "    .dataframe tbody tr th {\n",
       "        vertical-align: top;\n",
       "    }\n",
       "\n",
       "    .dataframe thead th {\n",
       "        text-align: right;\n",
       "    }\n",
       "</style>\n",
       "<table border=\"1\" class=\"dataframe\">\n",
       "  <thead>\n",
       "    <tr style=\"text-align: right;\">\n",
       "      <th></th>\n",
       "      <th>ID</th>\n",
       "      <th>Score</th>\n",
       "    </tr>\n",
       "  </thead>\n",
       "  <tbody>\n",
       "    <tr>\n",
       "      <th>0</th>\n",
       "      <td>2</td>\n",
       "      <td>92</td>\n",
       "    </tr>\n",
       "    <tr>\n",
       "      <th>1</th>\n",
       "      <td>3</td>\n",
       "      <td>85</td>\n",
       "    </tr>\n",
       "    <tr>\n",
       "      <th>2</th>\n",
       "      <td>4</td>\n",
       "      <td>77</td>\n",
       "    </tr>\n",
       "    <tr>\n",
       "      <th>3</th>\n",
       "      <td>5</td>\n",
       "      <td>90</td>\n",
       "    </tr>\n",
       "  </tbody>\n",
       "</table>\n",
       "</div>"
      ],
      "text/plain": [
       "   ID  Score\n",
       "0   2     92\n",
       "1   3     85\n",
       "2   4     77\n",
       "3   5     90"
      ]
     },
     "execution_count": 304,
     "metadata": {},
     "output_type": "execute_result"
    }
   ],
   "source": [
    "df2 = pd.DataFrame({\n",
    "    \"ID\": [2, 3, 4, 5],\n",
    "    \"Score\": [92, 85, 77, 90]\n",
    "})\n",
    "\n",
    "df2"
   ]
  },
  {
   "cell_type": "code",
   "execution_count": 305,
   "id": "bb461257-e5aa-4b53-804f-bead291a985e",
   "metadata": {},
   "outputs": [
    {
     "data": {
      "text/html": [
       "<div>\n",
       "<style scoped>\n",
       "    .dataframe tbody tr th:only-of-type {\n",
       "        vertical-align: middle;\n",
       "    }\n",
       "\n",
       "    .dataframe tbody tr th {\n",
       "        vertical-align: top;\n",
       "    }\n",
       "\n",
       "    .dataframe thead th {\n",
       "        text-align: right;\n",
       "    }\n",
       "</style>\n",
       "<table border=\"1\" class=\"dataframe\">\n",
       "  <thead>\n",
       "    <tr style=\"text-align: right;\">\n",
       "      <th></th>\n",
       "      <th>ID</th>\n",
       "      <th>Name</th>\n",
       "      <th>Score</th>\n",
       "    </tr>\n",
       "  </thead>\n",
       "  <tbody>\n",
       "    <tr>\n",
       "      <th>0</th>\n",
       "      <td>2</td>\n",
       "      <td>Bob</td>\n",
       "      <td>92</td>\n",
       "    </tr>\n",
       "    <tr>\n",
       "      <th>1</th>\n",
       "      <td>3</td>\n",
       "      <td>Charlie</td>\n",
       "      <td>85</td>\n",
       "    </tr>\n",
       "    <tr>\n",
       "      <th>2</th>\n",
       "      <td>4</td>\n",
       "      <td>David</td>\n",
       "      <td>77</td>\n",
       "    </tr>\n",
       "  </tbody>\n",
       "</table>\n",
       "</div>"
      ],
      "text/plain": [
       "   ID     Name  Score\n",
       "0   2      Bob     92\n",
       "1   3  Charlie     85\n",
       "2   4    David     77"
      ]
     },
     "execution_count": 305,
     "metadata": {},
     "output_type": "execute_result"
    }
   ],
   "source": [
    "pd.merge(df1, df2, left_on=\"ID\", right_on=\"ID\", how=\"inner\")"
   ]
  },
  {
   "cell_type": "markdown",
   "id": "a97c92ee-8eb6-44c5-bf21-5488523102cd",
   "metadata": {},
   "source": [
    "# Concatenating"
   ]
  },
  {
   "cell_type": "code",
   "execution_count": 306,
   "id": "827f2a99-e909-4e01-b2e1-3b1f1d271561",
   "metadata": {},
   "outputs": [
    {
     "data": {
      "text/html": [
       "<div>\n",
       "<style scoped>\n",
       "    .dataframe tbody tr th:only-of-type {\n",
       "        vertical-align: middle;\n",
       "    }\n",
       "\n",
       "    .dataframe tbody tr th {\n",
       "        vertical-align: top;\n",
       "    }\n",
       "\n",
       "    .dataframe thead th {\n",
       "        text-align: right;\n",
       "    }\n",
       "</style>\n",
       "<table border=\"1\" class=\"dataframe\">\n",
       "  <thead>\n",
       "    <tr style=\"text-align: right;\">\n",
       "      <th></th>\n",
       "      <th>ID</th>\n",
       "      <th>Name</th>\n",
       "      <th>Score</th>\n",
       "    </tr>\n",
       "  </thead>\n",
       "  <tbody>\n",
       "    <tr>\n",
       "      <th>0</th>\n",
       "      <td>1</td>\n",
       "      <td>Alice</td>\n",
       "      <td>NaN</td>\n",
       "    </tr>\n",
       "    <tr>\n",
       "      <th>1</th>\n",
       "      <td>2</td>\n",
       "      <td>Bob</td>\n",
       "      <td>NaN</td>\n",
       "    </tr>\n",
       "    <tr>\n",
       "      <th>2</th>\n",
       "      <td>3</td>\n",
       "      <td>Charlie</td>\n",
       "      <td>NaN</td>\n",
       "    </tr>\n",
       "    <tr>\n",
       "      <th>3</th>\n",
       "      <td>4</td>\n",
       "      <td>David</td>\n",
       "      <td>NaN</td>\n",
       "    </tr>\n",
       "    <tr>\n",
       "      <th>0</th>\n",
       "      <td>2</td>\n",
       "      <td>NaN</td>\n",
       "      <td>92.0</td>\n",
       "    </tr>\n",
       "    <tr>\n",
       "      <th>1</th>\n",
       "      <td>3</td>\n",
       "      <td>NaN</td>\n",
       "      <td>85.0</td>\n",
       "    </tr>\n",
       "    <tr>\n",
       "      <th>2</th>\n",
       "      <td>4</td>\n",
       "      <td>NaN</td>\n",
       "      <td>77.0</td>\n",
       "    </tr>\n",
       "    <tr>\n",
       "      <th>3</th>\n",
       "      <td>5</td>\n",
       "      <td>NaN</td>\n",
       "      <td>90.0</td>\n",
       "    </tr>\n",
       "  </tbody>\n",
       "</table>\n",
       "</div>"
      ],
      "text/plain": [
       "   ID     Name  Score\n",
       "0   1    Alice    NaN\n",
       "1   2      Bob    NaN\n",
       "2   3  Charlie    NaN\n",
       "3   4    David    NaN\n",
       "0   2      NaN   92.0\n",
       "1   3      NaN   85.0\n",
       "2   4      NaN   77.0\n",
       "3   5      NaN   90.0"
      ]
     },
     "execution_count": 306,
     "metadata": {},
     "output_type": "execute_result"
    }
   ],
   "source": [
    "pd.concat([df1, df2])"
   ]
  },
  {
   "cell_type": "code",
   "execution_count": 307,
   "id": "ad7f5955-38fc-4a3a-914c-e69af2e1f99a",
   "metadata": {},
   "outputs": [
    {
     "data": {
      "text/html": [
       "<div>\n",
       "<style scoped>\n",
       "    .dataframe tbody tr th:only-of-type {\n",
       "        vertical-align: middle;\n",
       "    }\n",
       "\n",
       "    .dataframe tbody tr th {\n",
       "        vertical-align: top;\n",
       "    }\n",
       "\n",
       "    .dataframe thead th {\n",
       "        text-align: right;\n",
       "    }\n",
       "</style>\n",
       "<table border=\"1\" class=\"dataframe\">\n",
       "  <thead>\n",
       "    <tr style=\"text-align: right;\">\n",
       "      <th></th>\n",
       "      <th>ID</th>\n",
       "      <th>Name</th>\n",
       "      <th>ID</th>\n",
       "      <th>Score</th>\n",
       "    </tr>\n",
       "  </thead>\n",
       "  <tbody>\n",
       "    <tr>\n",
       "      <th>0</th>\n",
       "      <td>1</td>\n",
       "      <td>Alice</td>\n",
       "      <td>2</td>\n",
       "      <td>92</td>\n",
       "    </tr>\n",
       "    <tr>\n",
       "      <th>1</th>\n",
       "      <td>2</td>\n",
       "      <td>Bob</td>\n",
       "      <td>3</td>\n",
       "      <td>85</td>\n",
       "    </tr>\n",
       "    <tr>\n",
       "      <th>2</th>\n",
       "      <td>3</td>\n",
       "      <td>Charlie</td>\n",
       "      <td>4</td>\n",
       "      <td>77</td>\n",
       "    </tr>\n",
       "    <tr>\n",
       "      <th>3</th>\n",
       "      <td>4</td>\n",
       "      <td>David</td>\n",
       "      <td>5</td>\n",
       "      <td>90</td>\n",
       "    </tr>\n",
       "  </tbody>\n",
       "</table>\n",
       "</div>"
      ],
      "text/plain": [
       "   ID     Name  ID  Score\n",
       "0   1    Alice   2     92\n",
       "1   2      Bob   3     85\n",
       "2   3  Charlie   4     77\n",
       "3   4    David   5     90"
      ]
     },
     "execution_count": 307,
     "metadata": {},
     "output_type": "execute_result"
    }
   ],
   "source": [
    "# this is possible but I've never seen it in real life\n",
    "pd.concat([df1, df2], axis=\"columns\")"
   ]
  },
  {
   "cell_type": "markdown",
   "id": "d6aa0dc5-2747-430f-83ab-369491df8bee",
   "metadata": {},
   "source": [
    "# Pandas and IO"
   ]
  },
  {
   "cell_type": "markdown",
   "id": "7cf05cca-c413-431a-8dff-f1c1da210bf5",
   "metadata": {},
   "source": [
    "## Export data to File"
   ]
  },
  {
   "cell_type": "markdown",
   "id": "164f56db-1c20-46d6-84b7-6fc7515c00b5",
   "metadata": {},
   "source": [
    "### Export as CSV"
   ]
  },
  {
   "cell_type": "code",
   "execution_count": 208,
   "id": "650513cd-552c-46d4-9829-1d48be522e2f",
   "metadata": {},
   "outputs": [],
   "source": [
    "df.to_csv(\"mydata.csv\")"
   ]
  },
  {
   "cell_type": "code",
   "execution_count": 209,
   "id": "2c0e0247-2b2c-47c2-8744-13a1eb1e57b3",
   "metadata": {},
   "outputs": [],
   "source": [
    "# you can also specify the separator\n",
    "df.to_csv(\"mydata.csv\", sep=\"\\t\")"
   ]
  },
  {
   "cell_type": "code",
   "execution_count": 210,
   "id": "41043517-cadf-41bb-876c-f31dfb6758f4",
   "metadata": {},
   "outputs": [],
   "source": [
    "# NaN are turned into an empty string as default\n",
    "df.to_csv(\"mydata.csv\", sep=\",\", na_rep=\"missing\")"
   ]
  },
  {
   "cell_type": "code",
   "execution_count": 211,
   "id": "41ce683a-03ab-4013-9a2e-b0e0fbd5e871",
   "metadata": {},
   "outputs": [],
   "source": [
    "# avoid the index\n",
    "df.to_csv(\"mydata.csv\", index=False)"
   ]
  },
  {
   "cell_type": "code",
   "execution_count": 212,
   "id": "3e7812ba-9974-4c77-a303-e02d4b6811b9",
   "metadata": {},
   "outputs": [],
   "source": [
    "# avoid header\n",
    "df.to_csv(\"mydata.csv\", header=False)"
   ]
  },
  {
   "cell_type": "markdown",
   "id": "c8595cd5-cad9-417c-bf50-0bb100509cea",
   "metadata": {},
   "source": [
    "### Export as compressed data"
   ]
  },
  {
   "cell_type": "code",
   "execution_count": 213,
   "id": "af98e65e-fbcf-488f-92d0-aa253d7b6e27",
   "metadata": {},
   "outputs": [],
   "source": [
    "# compress one file\n",
    "df.to_csv(\"mydata.csv.gz\")"
   ]
  },
  {
   "cell_type": "code",
   "execution_count": 214,
   "id": "11843f06-1771-48c6-96e9-f514a9fb8e9c",
   "metadata": {},
   "outputs": [],
   "source": [
    "# or (better for windows) - can compress also folder or multiple file using .zip\n",
    "df.to_csv(\"mydata.csv.zip\")"
   ]
  },
  {
   "cell_type": "markdown",
   "id": "d07043e0-d8a8-4d92-be77-32e9cd9c5730",
   "metadata": {},
   "source": [
    "### Export as excel"
   ]
  },
  {
   "cell_type": "code",
   "execution_count": 219,
   "id": "718be0d8-d2e9-4349-8963-dff1d7c04567",
   "metadata": {},
   "outputs": [],
   "source": [
    "df.to_excel(\"mydata.xlsx\")"
   ]
  },
  {
   "cell_type": "markdown",
   "id": "ae6f3293-3eaa-489b-9a67-78c4c3785d07",
   "metadata": {},
   "source": [
    "### Export as JSON"
   ]
  },
  {
   "cell_type": "code",
   "execution_count": 224,
   "id": "5d33547f-fe58-496c-9461-42a11e608795",
   "metadata": {},
   "outputs": [],
   "source": [
    "df.to_json(\"mydata.json\")"
   ]
  },
  {
   "cell_type": "markdown",
   "id": "ce46bd78-8ca9-4469-95b7-432c2ce788f8",
   "metadata": {},
   "source": [
    "## Reading data from File"
   ]
  },
  {
   "cell_type": "markdown",
   "id": "7657aa93-387f-4312-8d70-562cf4e6e20a",
   "metadata": {},
   "source": [
    "### Read from CSV"
   ]
  },
  {
   "cell_type": "code",
   "execution_count": null,
   "id": "1c1eb7b3-2bd1-41e3-acb4-a3a977575eda",
   "metadata": {},
   "outputs": [],
   "source": [
    "# index_col specifies which column(s) should be used as the index of the DataFrame\n",
    "df = pd.read_csv(\"mydata.csv\", header=None, index_col=0, names=[\"a\", \"b\"])"
   ]
  },
  {
   "cell_type": "code",
   "execution_count": null,
   "id": "ce7b687e-498e-43f4-9a4f-ab70edcc27fc",
   "metadata": {},
   "outputs": [],
   "source": [
    "# you can also read only some columns\n",
    "pd.read_csv(\"mydata.csv\", usecols=[0])"
   ]
  },
  {
   "cell_type": "markdown",
   "id": "e2d9c0f9-e541-407d-aaea-854662ac9d87",
   "metadata": {},
   "source": [
    "### Read from Excel"
   ]
  },
  {
   "cell_type": "code",
   "execution_count": 223,
   "id": "1529c93a-bccb-4458-895a-0d976039b69a",
   "metadata": {},
   "outputs": [
    {
     "data": {
      "text/html": [
       "<div>\n",
       "<style scoped>\n",
       "    .dataframe tbody tr th:only-of-type {\n",
       "        vertical-align: middle;\n",
       "    }\n",
       "\n",
       "    .dataframe tbody tr th {\n",
       "        vertical-align: top;\n",
       "    }\n",
       "\n",
       "    .dataframe thead th {\n",
       "        text-align: right;\n",
       "    }\n",
       "</style>\n",
       "<table border=\"1\" class=\"dataframe\">\n",
       "  <thead>\n",
       "    <tr style=\"text-align: right;\">\n",
       "      <th></th>\n",
       "      <th>a</th>\n",
       "      <th>b</th>\n",
       "    </tr>\n",
       "  </thead>\n",
       "  <tbody>\n",
       "    <tr>\n",
       "      <th>0</th>\n",
       "      <td>1.0</td>\n",
       "      <td>10</td>\n",
       "    </tr>\n",
       "    <tr>\n",
       "      <th>1</th>\n",
       "      <td>2.0</td>\n",
       "      <td>20</td>\n",
       "    </tr>\n",
       "    <tr>\n",
       "      <th>2</th>\n",
       "      <td>NaN</td>\n",
       "      <td>30</td>\n",
       "    </tr>\n",
       "  </tbody>\n",
       "</table>\n",
       "</div>"
      ],
      "text/plain": [
       "     a   b\n",
       "0  1.0  10\n",
       "1  2.0  20\n",
       "2  NaN  30"
      ]
     },
     "execution_count": 223,
     "metadata": {},
     "output_type": "execute_result"
    }
   ],
   "source": [
    "pd.read_excel(\"mydata.xlsx\", index_col=0)"
   ]
  },
  {
   "cell_type": "markdown",
   "id": "07bdbe1b-c5da-4d54-9904-7f6831393d64",
   "metadata": {},
   "source": [
    "### Read from JSON"
   ]
  },
  {
   "cell_type": "code",
   "execution_count": 226,
   "id": "eac55dbe-928e-44ff-8708-6cfe86252e03",
   "metadata": {},
   "outputs": [
    {
     "data": {
      "text/html": [
       "<div>\n",
       "<style scoped>\n",
       "    .dataframe tbody tr th:only-of-type {\n",
       "        vertical-align: middle;\n",
       "    }\n",
       "\n",
       "    .dataframe tbody tr th {\n",
       "        vertical-align: top;\n",
       "    }\n",
       "\n",
       "    .dataframe thead th {\n",
       "        text-align: right;\n",
       "    }\n",
       "</style>\n",
       "<table border=\"1\" class=\"dataframe\">\n",
       "  <thead>\n",
       "    <tr style=\"text-align: right;\">\n",
       "      <th></th>\n",
       "      <th>a</th>\n",
       "      <th>b</th>\n",
       "    </tr>\n",
       "  </thead>\n",
       "  <tbody>\n",
       "    <tr>\n",
       "      <th>0</th>\n",
       "      <td>1.0</td>\n",
       "      <td>10</td>\n",
       "    </tr>\n",
       "    <tr>\n",
       "      <th>1</th>\n",
       "      <td>2.0</td>\n",
       "      <td>20</td>\n",
       "    </tr>\n",
       "    <tr>\n",
       "      <th>2</th>\n",
       "      <td>NaN</td>\n",
       "      <td>30</td>\n",
       "    </tr>\n",
       "  </tbody>\n",
       "</table>\n",
       "</div>"
      ],
      "text/plain": [
       "     a   b\n",
       "0  1.0  10\n",
       "1  2.0  20\n",
       "2  NaN  30"
      ]
     },
     "execution_count": 226,
     "metadata": {},
     "output_type": "execute_result"
    }
   ],
   "source": [
    "pd.read_json(\"mydata.json\")"
   ]
  },
  {
   "cell_type": "code",
   "execution_count": 227,
   "id": "47fa337b-7bd4-465a-aa4b-a89814c56546",
   "metadata": {},
   "outputs": [
    {
     "name": "stdout",
     "output_type": "stream",
     "text": [
      "{\"a\":{\"0\":1.0,\"1\":2.0,\"2\":null},\"b\":{\"0\":10,\"1\":20,\"2\":30}}"
     ]
    }
   ],
   "source": [
    "!head mydata.json"
   ]
  },
  {
   "cell_type": "code",
   "execution_count": 229,
   "id": "fcf3284f-2f68-4a00-afa5-e87923a45c8c",
   "metadata": {},
   "outputs": [
    {
     "name": "stdout",
     "output_type": "stream",
     "text": [
      "0,1.0,10\n",
      "1,2.0,20\n",
      "2,,30\n"
     ]
    }
   ],
   "source": [
    "!head mydata.csv"
   ]
  },
  {
   "cell_type": "code",
   "execution_count": 230,
   "id": "913fb693-678a-42cb-bdc4-8ef3078a0a01",
   "metadata": {},
   "outputs": [
    {
     "name": "stdout",
     "output_type": "stream",
     "text": [
      "@�#�>�ʡ���{�1݁��\u001a\u000f�\u001f\u001e",
      "\u0003âm׀�1\f",
      "8�ⷰ��.FguϖBw�:Q&��X4:�'\u001f��\u001c",
      "���\u001e",
      "�\u000eD=����.u��)m����\u0004?nyy�\u001b�.�\"&��E�.�m32�\n",
      "\u0010�z%>�\u0013K9�+\u0005��S�\u0015S���o�d\u0005�\u0007�\u0017PK\u0003\u0004\u0014\u0000\u0000\u0000|mY�ɑ��\u0000\u0000\u0000�\u0001\u0000\u0000\u0011\u0000\u0000\u0000docProps/core.xml���N�0\f",
      "�_e�u�n ��\u0017�NCBb\u0012�[�x[D�F�Q���-[\u0007�\u001b�����V\u0014z�m���z\n",
      "�M��<\u0004,���EG��8y��.b膈��x`�/�ֻ�/��W2$\u0011A0\u0019�����\u0011D&��2\u0005\u0017�l���죝��벮��a#\u0001����i��6�u��Tʠ�@��P�\u0017�S_+�VT��_\u00052�a�䓧urI^����&���X�B��܉�\\��������\u0015��ؽ���\"�\u0014����\u0013PK\u0003\u0004\u0014\u0000\u0000\u0000|mY�\\�#\u0010\u0006\u0000\u0000�'\u0000\u0000\u0013\u0000\u0000\u0000xl/theme/theme1.xml�Z[s�8\u0014~��xg�m\u000b",
      "�6���\u0013siv۴���N\u001f�\u0011X�lyd���G6\u0010˖\n",
      ";:�X�v|��ퟌ��t4m\u001a���x8��ҋp\u001c",
      "\u0004�Q���l��A\t��i�d��ڮ����SO��}��h��e�\u0001\u0013WA&�����l����>e��:\u001d",
      "2�n0\u001bX �o��NZ��T���jg?Vk���H���}�\u0005�I���2\n",
      "��O�î�ƫ�t�i&'��k��\u0016hBF��z\u0012\u0015��@� \u0000Xpv���\u0003�^)�u�\u001a�\u001d",
      "��A\\�X�9�\u0011���\u0004�i�\u0019�4Fr��\u0005\u000e\u00007��LP|�A����\\���)�P�ȁ�G�!�ܯ����ɤ3z�}:�k�i�\u0001����ϓ�s�䟧��MB�p�,\t��#[a�'n;\u0013r:\u001c",
      "gB|�����%2���\n",
      "\u0012�9~MH\u0013�+�����@�/$�J��i�#�t&��3\u001a�F�\u001bu�h�<z�\u0005��5\u0007�F��U�ܣ�X\u0015\u0001�\u0018�4�5,��x���<\u001d",
      "\u0013\u0012͔\u000b",
      "\u0006A���N<g\u001fV��]��䞌r#���X}�OGn#ש��\"הF$E��-��\u00118�I\n",
      "\u001c",
      "�\u001b\u001d",
      "\u0002g\u001b�F!�i��\u001e",
      "�$����\u0011+B>b\u00196\u001ar�\u0016��q��`Z\u0012��xNҴ\u0011�Y�5�>`��͑u�֑\u000e\u0011�^7B>b΋�\u0011�\u001e",
      "�8J���qX\u0004��^�I���f��~��3l,��G�\u0017J�\u000f&�?�24\u0007��Y\t��Vj���4>�\u001e",
      "2\n",
      "\u0005�\u001e",
      ">�zx\n",
      "7�ƼP��{\u0001���7«���9.}ϥ��=�ҷ7#}g�Ӌ[�Fn[���1��4.(cWr���T��)�9����h>�����$���Y-#\u0016�K��A$�����*�\t�d[%\t�T�e7�\u0012�B\u001bn�S�J��对(�<[�鯡t>,��<_��\u000b",
      "3C�rK궔��&8J���pN\u001e",
      "�\f",
      ";g<�\u001d",
      "�w�\u001d",
      "5��]v�#�0S�C�\u001aB�\u0003m���:8����\n",
      "�R�o����x\u001a�9�\u0004�}�Wm�������Q���<�\u001d",
      "ǈ�!���C�y{_�g��P4\u0014ml�$,F�`���,\u0014�d`-�\u0007��Q\u0002�RU`1[�\u0003+��|L�E�p�\\_�ђ�ۦe�n�)w\u0019m\"R9�i�\u0013g���e��U\u001d",
      "�U[�j=�\u0015N��Y�ȟ\f",
      "\u0011N\u0016\u000b",
      "\u0012Hc�\u0017�J��\u0019S��+I�U8�E3�\u0012�\u0018����qNS�\u0012v�\u000f\u00022��9�ze1g���-\f",
      "\t,[�Y\u0012�M]��盜�z\"v��w�`��p�G\u000f�;�_�]C�~����n�;HL�y�\u0011\u0001tE\u0002#�\u001c",
      "\u0006\u0016\u00172�P\u0006\u0013\u0001͔�D�\u0002�d�\u001c",
      "���\u000b",
      "��\f",
      "�)\u0015έ>9E,��N^�%\u0012\u0014��\f",
      "\u0005!\u0017r���jw���,�m�T2d�\u0017�C��=3rC�T%��&\u000b",
      "���Tͻ\u001a�&`K�zn�-'��^�=�\u0017=F��\u001e",
      "��s�z��E��X�\u001e",
      "�2�9p�:�\u0003^�\u0013,C�~�}���\u0011�b���O�%�;�{� ���ۤ���\f",
      "|ԫZ�d+\u0011?K\u0007|\u001f�\u0006c�[�4_�\u0014b������1\f",
      "y�X�\f",
      "�f8߇E�\u001a3Ջ�9�\n"
     ]
    }
   ],
   "source": [
    "!head mydata.xlsx"
   ]
  },
  {
   "cell_type": "markdown",
   "id": "0718c2a8-aa73-4a49-94c7-79853afdb586",
   "metadata": {},
   "source": [
    "### Read data from SQL"
   ]
  },
  {
   "cell_type": "markdown",
   "id": "0c3f6dcf-318e-403d-9227-0b958739583e",
   "metadata": {},
   "source": [
    "This requires:\n",
    "1. A DB instance (e.g. Postgres)\n",
    "2. A library to connect (e.g. SQLAlchemy)"
   ]
  },
  {
   "cell_type": "code",
   "execution_count": null,
   "id": "49eada07-005e-46e6-b3c2-0dadd3c2422e",
   "metadata": {},
   "outputs": [],
   "source": [
    "# pip install SQLAlchemy"
   ]
  },
  {
   "cell_type": "code",
   "execution_count": null,
   "id": "436be176-ebc2-45be-bcdf-b5b596191584",
   "metadata": {},
   "outputs": [],
   "source": [
    "# from sqlalchemy import create_engine\n",
    "# conn = create_engine(\"postgres://<username>:<password>@<host>:<port>/<dbname>\", echo=True)\n",
    "# pd.read_sql_table(\"people\", conn)\n",
    "# pd.read_sql(\"SELECT * FROM people\", conn)\n",
    "# df.to_sql(\"people\", conn, if_exists=\"replace\")"
   ]
  },
  {
   "cell_type": "markdown",
   "id": "5e60ff82-6f4a-4854-b6cf-d9e732f55681",
   "metadata": {},
   "source": [
    "# Plots"
   ]
  },
  {
   "cell_type": "code",
   "execution_count": 308,
   "id": "8bc46059-570a-40e5-b1b9-3294223fea9e",
   "metadata": {},
   "outputs": [
    {
     "data": {
      "text/html": [
       "<div>\n",
       "<style scoped>\n",
       "    .dataframe tbody tr th:only-of-type {\n",
       "        vertical-align: middle;\n",
       "    }\n",
       "\n",
       "    .dataframe tbody tr th {\n",
       "        vertical-align: top;\n",
       "    }\n",
       "\n",
       "    .dataframe thead th {\n",
       "        text-align: right;\n",
       "    }\n",
       "</style>\n",
       "<table border=\"1\" class=\"dataframe\">\n",
       "  <thead>\n",
       "    <tr style=\"text-align: right;\">\n",
       "      <th></th>\n",
       "      <th>Name</th>\n",
       "      <th>Age</th>\n",
       "      <th>Score</th>\n",
       "    </tr>\n",
       "  </thead>\n",
       "  <tbody>\n",
       "    <tr>\n",
       "      <th>0</th>\n",
       "      <td>Alice</td>\n",
       "      <td>25</td>\n",
       "      <td>88</td>\n",
       "    </tr>\n",
       "    <tr>\n",
       "      <th>1</th>\n",
       "      <td>Bob</td>\n",
       "      <td>30</td>\n",
       "      <td>92</td>\n",
       "    </tr>\n",
       "    <tr>\n",
       "      <th>2</th>\n",
       "      <td>Charlie</td>\n",
       "      <td>35</td>\n",
       "      <td>85</td>\n",
       "    </tr>\n",
       "    <tr>\n",
       "      <th>3</th>\n",
       "      <td>Eve</td>\n",
       "      <td>40</td>\n",
       "      <td>77</td>\n",
       "    </tr>\n",
       "    <tr>\n",
       "      <th>4</th>\n",
       "      <td>Eve</td>\n",
       "      <td>22</td>\n",
       "      <td>90</td>\n",
       "    </tr>\n",
       "  </tbody>\n",
       "</table>\n",
       "</div>"
      ],
      "text/plain": [
       "      Name  Age  Score\n",
       "0    Alice   25     88\n",
       "1      Bob   30     92\n",
       "2  Charlie   35     85\n",
       "3      Eve   40     77\n",
       "4      Eve   22     90"
      ]
     },
     "execution_count": 308,
     "metadata": {},
     "output_type": "execute_result"
    }
   ],
   "source": [
    "df"
   ]
  },
  {
   "cell_type": "code",
   "execution_count": 311,
   "id": "cdb66742-bd01-452a-ad0b-94e4574d3000",
   "metadata": {},
   "outputs": [
    {
     "data": {
      "text/plain": [
       "<Axes: title={'center': 'My Plot'}>"
      ]
     },
     "execution_count": 311,
     "metadata": {},
     "output_type": "execute_result"
    },
    {
     "data": {
      "image/png": "[encoded data removed]",
      "text/plain": [
       "<Figure size 640x480 with 1 Axes>"
      ]
     },
     "metadata": {},
     "output_type": "display_data"
    }
   ],
   "source": [
    "df.plot.line(title=\"My Plot\", color=[\"red\", \"green\"])"
   ]
  },
  {
   "cell_type": "code",
   "execution_count": 315,
   "id": "a3ac9aa1-e1f5-42b7-84ee-a1ed118154d5",
   "metadata": {},
   "outputs": [
    {
     "data": {
      "image/png": "[encoded data removed]",
      "text/plain": [
       "<Figure size 640x480 with 1 Axes>"
      ]
     },
     "metadata": {},
     "output_type": "display_data"
    }
   ],
   "source": [
    "# how to export a plot\n",
    "p = df.plot.line()\n",
    "f = p.get_figure()\n",
    "f.savefig(\"myplot.jpg\")\n",
    "f.savefig(\"myplot.pdf\")"
   ]
  },
  {
   "cell_type": "code",
   "execution_count": 316,
   "id": "2b22a764-bb1e-42b7-8eba-8d6b63467766",
   "metadata": {},
   "outputs": [
    {
     "data": {
      "text/plain": [
       "<Axes: >"
      ]
     },
     "execution_count": 316,
     "metadata": {},
     "output_type": "execute_result"
    },
    {
     "data": {
      "image/png": "[encoded data removed]",
      "text/plain": [
       "<Figure size 640x480 with 1 Axes>"
      ]
     },
     "metadata": {},
     "output_type": "display_data"
    }
   ],
   "source": [
    "df.plot.bar()"
   ]
  },
  {
   "cell_type": "code",
   "execution_count": 318,
   "id": "aaf40ddd-fbf0-4f92-ad2e-b4ca6022600c",
   "metadata": {},
   "outputs": [
    {
     "data": {
      "text/plain": [
       "<Axes: >"
      ]
     },
     "execution_count": 318,
     "metadata": {},
     "output_type": "execute_result"
    },
    {
     "data": {
      "image/png": "[encoded data removed]",
      "text/plain": [
       "<Figure size 640x480 with 1 Axes>"
      ]
     },
     "metadata": {},
     "output_type": "display_data"
    }
   ],
   "source": [
    "df.plot.barh()"
   ]
  },
  {
   "cell_type": "code",
   "execution_count": 319,
   "id": "ad6fe55e-d0e7-4601-80f8-9f2a68989ac7",
   "metadata": {},
   "outputs": [
    {
     "data": {
      "text/plain": [
       "array([<Axes: title={'center': 'Age'}>, <Axes: title={'center': 'Score'}>],\n",
       "      dtype=object)"
      ]
     },
     "execution_count": 319,
     "metadata": {},
     "output_type": "execute_result"
    },
    {
     "data": {
      "image/png": "[encoded data removed]",
      "text/plain": [
       "<Figure size 640x480 with 2 Axes>"
      ]
     },
     "metadata": {},
     "output_type": "display_data"
    }
   ],
   "source": [
    "df.plot.bar(subplots=True)"
   ]
  },
  {
   "cell_type": "code",
   "execution_count": 320,
   "id": "c41fd8f4-0799-48a7-8041-09f51986f33d",
   "metadata": {},
   "outputs": [
    {
     "data": {
      "text/plain": [
       "<Axes: >"
      ]
     },
     "execution_count": 320,
     "metadata": {},
     "output_type": "execute_result"
    },
    {
     "data": {
      "image/png": "[encoded data removed]",
      "text/plain": [
       "<Figure size 640x480 with 1 Axes>"
      ]
     },
     "metadata": {},
     "output_type": "display_data"
    }
   ],
   "source": [
    "df.plot.bar(stacked=True)"
   ]
  },
  {
   "cell_type": "code",
   "execution_count": 321,
   "id": "c1c803a3-3409-4665-9788-c5197adc812b",
   "metadata": {},
   "outputs": [
    {
     "data": {
      "text/plain": [
       "<Axes: ylabel='Frequency'>"
      ]
     },
     "execution_count": 321,
     "metadata": {},
     "output_type": "execute_result"
    },
    {
     "data": {
      "image/png": "[encoded data removed]",
      "text/plain": [
       "<Figure size 640x480 with 1 Axes>"
      ]
     },
     "metadata": {},
     "output_type": "display_data"
    }
   ],
   "source": [
    "df.plot.hist(bins=20, alpha=0.5)"
   ]
  },
  {
   "cell_type": "code",
   "execution_count": 324,
   "id": "2e9d9008-a9a3-4891-b9c6-3a12d9904f5a",
   "metadata": {},
   "outputs": [],
   "source": [
    "# df.plot.pie()"
   ]
  },
  {
   "cell_type": "code",
   "execution_count": 325,
   "id": "1b349940-c731-48db-9bed-aaf8c2c84822",
   "metadata": {},
   "outputs": [
    {
     "data": {
      "text/plain": [
       "<Axes: >"
      ]
     },
     "execution_count": 325,
     "metadata": {},
     "output_type": "execute_result"
    },
    {
     "data": {
      "image/png": "[encoded data removed]",
      "text/plain": [
       "<Figure size 640x480 with 1 Axes>"
      ]
     },
     "metadata": {},
     "output_type": "display_data"
    }
   ],
   "source": [
    "df.plot.box()"
   ]
  },
  {
   "cell_type": "code",
   "execution_count": 337,
   "id": "03917b98-2df7-42cf-80d5-fe0723b7ebd9",
   "metadata": {},
   "outputs": [
    {
     "data": {
      "text/plain": [
       "<Axes: xlabel='Age', ylabel='Score'>"
      ]
     },
     "execution_count": 337,
     "metadata": {},
     "output_type": "execute_result"
    },
    {
     "data": {
      "image/png": "[encoded data removed]",
      "text/plain": [
       "<Figure size 640x480 with 2 Axes>"
      ]
     },
     "metadata": {},
     "output_type": "display_data"
    }
   ],
   "source": [
    "df.plot.scatter(x=\"Age\", y=\"Score\", c=\"Score\", colormap=\"Accent\")"
   ]
  },
  {
   "cell_type": "code",
   "execution_count": 329,
   "id": "7c6133d3-6a24-4a95-871d-9cd48cc10f76",
   "metadata": {},
   "outputs": [
    {
     "data": {
      "text/html": [
       "<div>\n",
       "<style scoped>\n",
       "    .dataframe tbody tr th:only-of-type {\n",
       "        vertical-align: middle;\n",
       "    }\n",
       "\n",
       "    .dataframe tbody tr th {\n",
       "        vertical-align: top;\n",
       "    }\n",
       "\n",
       "    .dataframe thead th {\n",
       "        text-align: right;\n",
       "    }\n",
       "</style>\n",
       "<table border=\"1\" class=\"dataframe\">\n",
       "  <thead>\n",
       "    <tr style=\"text-align: right;\">\n",
       "      <th></th>\n",
       "      <th>Age</th>\n",
       "      <th>Score</th>\n",
       "    </tr>\n",
       "  </thead>\n",
       "  <tbody>\n",
       "    <tr>\n",
       "      <th>Age</th>\n",
       "      <td>1.00000</td>\n",
       "      <td>-0.80571</td>\n",
       "    </tr>\n",
       "    <tr>\n",
       "      <th>Score</th>\n",
       "      <td>-0.80571</td>\n",
       "      <td>1.00000</td>\n",
       "    </tr>\n",
       "  </tbody>\n",
       "</table>\n",
       "</div>"
      ],
      "text/plain": [
       "           Age    Score\n",
       "Age    1.00000 -0.80571\n",
       "Score -0.80571  1.00000"
      ]
     },
     "execution_count": 329,
     "metadata": {},
     "output_type": "execute_result"
    }
   ],
   "source": [
    "df[[\"Age\", \"Score\"]].corr()"
   ]
  },
  {
   "cell_type": "code",
   "execution_count": 338,
   "id": "43605525-4ecf-4aeb-881a-a4897163ffa5",
   "metadata": {},
   "outputs": [
    {
     "data": {
      "text/plain": [
       "array([[<Axes: xlabel='Age', ylabel='Age'>,\n",
       "        <Axes: xlabel='Score', ylabel='Age'>],\n",
       "       [<Axes: xlabel='Age', ylabel='Score'>,\n",
       "        <Axes: xlabel='Score', ylabel='Score'>]], dtype=object)"
      ]
     },
     "execution_count": 338,
     "metadata": {},
     "output_type": "execute_result"
    },
    {
     "data": {
      "image/png": "[encoded data removed]",
      "text/plain": [
       "<Figure size 640x480 with 4 Axes>"
      ]
     },
     "metadata": {},
     "output_type": "display_data"
    }
   ],
   "source": [
    "pd.plotting.scatter_matrix(df)"
   ]
  },
  {
   "cell_type": "code",
   "execution_count": null,
   "id": "58ec325e-5472-4838-8287-66f04fdbcf2a",
   "metadata": {},
   "outputs": [],
   "source": []
  }
 ],
 "metadata": {
  "kernelspec": {
   "display_name": "Python 3 (ipykernel)",
   "language": "python",
   "name": "python3"
  },
  "language_info": {
   "codemirror_mode": {
    "name": "ipython",
    "version": 3
   },
   "file_extension": ".py",
   "mimetype": "text/x-python",
   "name": "python",
   "nbconvert_exporter": "python",
   "pygments_lexer": "ipython3",
   "version": "3.11.9"
  }
 },
 "nbformat": 4,
 "nbformat_minor": 5
}
